{
  "nbformat": 4,
  "nbformat_minor": 0,
  "metadata": {
    "colab": {
      "name": "Covid-19Project.ipynb",
      "provenance": [],
      "collapsed_sections": [
        "bJAGEtPvbKYv",
        "tSPpGoXlb64W",
        "_nnqO470cqWw",
        "-9hPz1a3lm5l",
        "RB_fr4BeFwKC",
        "9JV-pBhMEh_W",
        "URFG1_BTc2sW"
      ],
      "authorship_tag": "ABX9TyMr3MhcD4q7q8lrxvW6NHz/",
      "include_colab_link": true
    },
    "kernelspec": {
      "name": "python3",
      "display_name": "Python 3"
    },
    "language_info": {
      "name": "python"
    }
  },
  "cells": [
    {
      "cell_type": "markdown",
      "metadata": {
        "id": "view-in-github",
        "colab_type": "text"
      },
      "source": [
        "<a href=\"https://colab.research.google.com/github/kaikai23/Covid19-Group15-BigDataAnalytics/blob/main/Covid_19Project.ipynb\" target=\"_parent\"><img src=\"https://colab.research.google.com/assets/colab-badge.svg\" alt=\"Open In Colab\"/></a>"
      ]
    },
    {
      "cell_type": "markdown",
      "metadata": {
        "id": "bJAGEtPvbKYv"
      },
      "source": [
        "#**1. Loading the Covid-19 Dataset and have a simple look at the data:**"
      ]
    },
    {
      "cell_type": "code",
      "metadata": {
        "id": "Ol0fyVyzH0zF"
      },
      "source": [
        "import pandas as pd\n",
        "import matplotlib.pyplot as plt\n",
        "import numpy as np\n",
        "import torch\n",
        "import torch.nn as nn"
      ],
      "execution_count": 1,
      "outputs": []
    },
    {
      "cell_type": "code",
      "metadata": {
        "colab": {
          "base_uri": "https://localhost:8080/",
          "height": 309
        },
        "id": "T2nIWiEfIVzE",
        "outputId": "fef51fcb-e97c-4665-e41c-8672f5870338"
      },
      "source": [
        "df = pd.read_csv(\"https://raw.githubusercontent.com/owid/covid-19-data/master/public/data/owid-covid-data.csv\")\n",
        "df.tail()"
      ],
      "execution_count": 2,
      "outputs": [
        {
          "output_type": "execute_result",
          "data": {
            "text/html": [
              "<div>\n",
              "<style scoped>\n",
              "    .dataframe tbody tr th:only-of-type {\n",
              "        vertical-align: middle;\n",
              "    }\n",
              "\n",
              "    .dataframe tbody tr th {\n",
              "        vertical-align: top;\n",
              "    }\n",
              "\n",
              "    .dataframe thead th {\n",
              "        text-align: right;\n",
              "    }\n",
              "</style>\n",
              "<table border=\"1\" class=\"dataframe\">\n",
              "  <thead>\n",
              "    <tr style=\"text-align: right;\">\n",
              "      <th></th>\n",
              "      <th>iso_code</th>\n",
              "      <th>continent</th>\n",
              "      <th>location</th>\n",
              "      <th>date</th>\n",
              "      <th>total_cases</th>\n",
              "      <th>new_cases</th>\n",
              "      <th>new_cases_smoothed</th>\n",
              "      <th>total_deaths</th>\n",
              "      <th>new_deaths</th>\n",
              "      <th>new_deaths_smoothed</th>\n",
              "      <th>total_cases_per_million</th>\n",
              "      <th>new_cases_per_million</th>\n",
              "      <th>new_cases_smoothed_per_million</th>\n",
              "      <th>total_deaths_per_million</th>\n",
              "      <th>new_deaths_per_million</th>\n",
              "      <th>new_deaths_smoothed_per_million</th>\n",
              "      <th>reproduction_rate</th>\n",
              "      <th>icu_patients</th>\n",
              "      <th>icu_patients_per_million</th>\n",
              "      <th>hosp_patients</th>\n",
              "      <th>hosp_patients_per_million</th>\n",
              "      <th>weekly_icu_admissions</th>\n",
              "      <th>weekly_icu_admissions_per_million</th>\n",
              "      <th>weekly_hosp_admissions</th>\n",
              "      <th>weekly_hosp_admissions_per_million</th>\n",
              "      <th>new_tests</th>\n",
              "      <th>total_tests</th>\n",
              "      <th>total_tests_per_thousand</th>\n",
              "      <th>new_tests_per_thousand</th>\n",
              "      <th>new_tests_smoothed</th>\n",
              "      <th>new_tests_smoothed_per_thousand</th>\n",
              "      <th>positive_rate</th>\n",
              "      <th>tests_per_case</th>\n",
              "      <th>tests_units</th>\n",
              "      <th>total_vaccinations</th>\n",
              "      <th>people_vaccinated</th>\n",
              "      <th>people_fully_vaccinated</th>\n",
              "      <th>new_vaccinations</th>\n",
              "      <th>new_vaccinations_smoothed</th>\n",
              "      <th>total_vaccinations_per_hundred</th>\n",
              "      <th>people_vaccinated_per_hundred</th>\n",
              "      <th>people_fully_vaccinated_per_hundred</th>\n",
              "      <th>new_vaccinations_smoothed_per_million</th>\n",
              "      <th>stringency_index</th>\n",
              "      <th>population</th>\n",
              "      <th>population_density</th>\n",
              "      <th>median_age</th>\n",
              "      <th>aged_65_older</th>\n",
              "      <th>aged_70_older</th>\n",
              "      <th>gdp_per_capita</th>\n",
              "      <th>extreme_poverty</th>\n",
              "      <th>cardiovasc_death_rate</th>\n",
              "      <th>diabetes_prevalence</th>\n",
              "      <th>female_smokers</th>\n",
              "      <th>male_smokers</th>\n",
              "      <th>handwashing_facilities</th>\n",
              "      <th>hospital_beds_per_thousand</th>\n",
              "      <th>life_expectancy</th>\n",
              "      <th>human_development_index</th>\n",
              "      <th>excess_mortality</th>\n",
              "    </tr>\n",
              "  </thead>\n",
              "  <tbody>\n",
              "    <tr>\n",
              "      <th>94652</th>\n",
              "      <td>ZWE</td>\n",
              "      <td>Africa</td>\n",
              "      <td>Zimbabwe</td>\n",
              "      <td>2021-06-05</td>\n",
              "      <td>39168.0</td>\n",
              "      <td>24.0</td>\n",
              "      <td>33.571</td>\n",
              "      <td>1605.0</td>\n",
              "      <td>0.0</td>\n",
              "      <td>1.571</td>\n",
              "      <td>2635.282</td>\n",
              "      <td>1.615</td>\n",
              "      <td>2.259</td>\n",
              "      <td>107.987</td>\n",
              "      <td>0.000</td>\n",
              "      <td>0.106</td>\n",
              "      <td>1.33</td>\n",
              "      <td>NaN</td>\n",
              "      <td>NaN</td>\n",
              "      <td>NaN</td>\n",
              "      <td>NaN</td>\n",
              "      <td>NaN</td>\n",
              "      <td>NaN</td>\n",
              "      <td>NaN</td>\n",
              "      <td>NaN</td>\n",
              "      <td>1932.0</td>\n",
              "      <td>561819.0</td>\n",
              "      <td>37.800</td>\n",
              "      <td>0.130</td>\n",
              "      <td>1914.0</td>\n",
              "      <td>0.129</td>\n",
              "      <td>0.018</td>\n",
              "      <td>57.0</td>\n",
              "      <td>tests performed</td>\n",
              "      <td>1061951.0</td>\n",
              "      <td>686636.0</td>\n",
              "      <td>375315.0</td>\n",
              "      <td>5713.0</td>\n",
              "      <td>8498.0</td>\n",
              "      <td>7.14</td>\n",
              "      <td>4.62</td>\n",
              "      <td>2.53</td>\n",
              "      <td>572.0</td>\n",
              "      <td>48.15</td>\n",
              "      <td>14862927.0</td>\n",
              "      <td>42.729</td>\n",
              "      <td>19.6</td>\n",
              "      <td>2.822</td>\n",
              "      <td>1.882</td>\n",
              "      <td>1899.775</td>\n",
              "      <td>21.4</td>\n",
              "      <td>307.846</td>\n",
              "      <td>1.82</td>\n",
              "      <td>1.6</td>\n",
              "      <td>30.7</td>\n",
              "      <td>36.791</td>\n",
              "      <td>1.7</td>\n",
              "      <td>61.49</td>\n",
              "      <td>0.571</td>\n",
              "      <td>NaN</td>\n",
              "    </tr>\n",
              "    <tr>\n",
              "      <th>94653</th>\n",
              "      <td>ZWE</td>\n",
              "      <td>Africa</td>\n",
              "      <td>Zimbabwe</td>\n",
              "      <td>2021-06-06</td>\n",
              "      <td>39189.0</td>\n",
              "      <td>21.0</td>\n",
              "      <td>35.000</td>\n",
              "      <td>1606.0</td>\n",
              "      <td>1.0</td>\n",
              "      <td>1.714</td>\n",
              "      <td>2636.695</td>\n",
              "      <td>1.413</td>\n",
              "      <td>2.355</td>\n",
              "      <td>108.054</td>\n",
              "      <td>0.067</td>\n",
              "      <td>0.115</td>\n",
              "      <td>1.34</td>\n",
              "      <td>NaN</td>\n",
              "      <td>NaN</td>\n",
              "      <td>NaN</td>\n",
              "      <td>NaN</td>\n",
              "      <td>NaN</td>\n",
              "      <td>NaN</td>\n",
              "      <td>NaN</td>\n",
              "      <td>NaN</td>\n",
              "      <td>1048.0</td>\n",
              "      <td>562867.0</td>\n",
              "      <td>37.871</td>\n",
              "      <td>0.071</td>\n",
              "      <td>1955.0</td>\n",
              "      <td>0.132</td>\n",
              "      <td>0.018</td>\n",
              "      <td>55.9</td>\n",
              "      <td>tests performed</td>\n",
              "      <td>1068107.0</td>\n",
              "      <td>687321.0</td>\n",
              "      <td>380786.0</td>\n",
              "      <td>6156.0</td>\n",
              "      <td>8019.0</td>\n",
              "      <td>7.19</td>\n",
              "      <td>4.62</td>\n",
              "      <td>2.56</td>\n",
              "      <td>540.0</td>\n",
              "      <td>48.15</td>\n",
              "      <td>14862927.0</td>\n",
              "      <td>42.729</td>\n",
              "      <td>19.6</td>\n",
              "      <td>2.822</td>\n",
              "      <td>1.882</td>\n",
              "      <td>1899.775</td>\n",
              "      <td>21.4</td>\n",
              "      <td>307.846</td>\n",
              "      <td>1.82</td>\n",
              "      <td>1.6</td>\n",
              "      <td>30.7</td>\n",
              "      <td>36.791</td>\n",
              "      <td>1.7</td>\n",
              "      <td>61.49</td>\n",
              "      <td>0.571</td>\n",
              "      <td>NaN</td>\n",
              "    </tr>\n",
              "    <tr>\n",
              "      <th>94654</th>\n",
              "      <td>ZWE</td>\n",
              "      <td>Africa</td>\n",
              "      <td>Zimbabwe</td>\n",
              "      <td>2021-06-07</td>\n",
              "      <td>39238.0</td>\n",
              "      <td>49.0</td>\n",
              "      <td>39.571</td>\n",
              "      <td>1611.0</td>\n",
              "      <td>5.0</td>\n",
              "      <td>2.429</td>\n",
              "      <td>2639.991</td>\n",
              "      <td>3.297</td>\n",
              "      <td>2.662</td>\n",
              "      <td>108.390</td>\n",
              "      <td>0.336</td>\n",
              "      <td>0.163</td>\n",
              "      <td>1.36</td>\n",
              "      <td>NaN</td>\n",
              "      <td>NaN</td>\n",
              "      <td>NaN</td>\n",
              "      <td>NaN</td>\n",
              "      <td>NaN</td>\n",
              "      <td>NaN</td>\n",
              "      <td>NaN</td>\n",
              "      <td>NaN</td>\n",
              "      <td>NaN</td>\n",
              "      <td>NaN</td>\n",
              "      <td>NaN</td>\n",
              "      <td>NaN</td>\n",
              "      <td>NaN</td>\n",
              "      <td>NaN</td>\n",
              "      <td>NaN</td>\n",
              "      <td>NaN</td>\n",
              "      <td>NaN</td>\n",
              "      <td>1073971.0</td>\n",
              "      <td>688696.0</td>\n",
              "      <td>385275.0</td>\n",
              "      <td>5864.0</td>\n",
              "      <td>7699.0</td>\n",
              "      <td>7.23</td>\n",
              "      <td>4.63</td>\n",
              "      <td>2.59</td>\n",
              "      <td>518.0</td>\n",
              "      <td>48.15</td>\n",
              "      <td>14862927.0</td>\n",
              "      <td>42.729</td>\n",
              "      <td>19.6</td>\n",
              "      <td>2.822</td>\n",
              "      <td>1.882</td>\n",
              "      <td>1899.775</td>\n",
              "      <td>21.4</td>\n",
              "      <td>307.846</td>\n",
              "      <td>1.82</td>\n",
              "      <td>1.6</td>\n",
              "      <td>30.7</td>\n",
              "      <td>36.791</td>\n",
              "      <td>1.7</td>\n",
              "      <td>61.49</td>\n",
              "      <td>0.571</td>\n",
              "      <td>NaN</td>\n",
              "    </tr>\n",
              "    <tr>\n",
              "      <th>94655</th>\n",
              "      <td>ZWE</td>\n",
              "      <td>Africa</td>\n",
              "      <td>Zimbabwe</td>\n",
              "      <td>2021-06-08</td>\n",
              "      <td>39321.0</td>\n",
              "      <td>83.0</td>\n",
              "      <td>46.143</td>\n",
              "      <td>1617.0</td>\n",
              "      <td>6.0</td>\n",
              "      <td>2.571</td>\n",
              "      <td>2645.576</td>\n",
              "      <td>5.584</td>\n",
              "      <td>3.105</td>\n",
              "      <td>108.794</td>\n",
              "      <td>0.404</td>\n",
              "      <td>0.173</td>\n",
              "      <td>1.37</td>\n",
              "      <td>NaN</td>\n",
              "      <td>NaN</td>\n",
              "      <td>NaN</td>\n",
              "      <td>NaN</td>\n",
              "      <td>NaN</td>\n",
              "      <td>NaN</td>\n",
              "      <td>NaN</td>\n",
              "      <td>NaN</td>\n",
              "      <td>NaN</td>\n",
              "      <td>NaN</td>\n",
              "      <td>NaN</td>\n",
              "      <td>NaN</td>\n",
              "      <td>NaN</td>\n",
              "      <td>NaN</td>\n",
              "      <td>NaN</td>\n",
              "      <td>NaN</td>\n",
              "      <td>NaN</td>\n",
              "      <td>1078809.0</td>\n",
              "      <td>689397.0</td>\n",
              "      <td>389412.0</td>\n",
              "      <td>4838.0</td>\n",
              "      <td>6790.0</td>\n",
              "      <td>7.26</td>\n",
              "      <td>4.64</td>\n",
              "      <td>2.62</td>\n",
              "      <td>457.0</td>\n",
              "      <td>NaN</td>\n",
              "      <td>14862927.0</td>\n",
              "      <td>42.729</td>\n",
              "      <td>19.6</td>\n",
              "      <td>2.822</td>\n",
              "      <td>1.882</td>\n",
              "      <td>1899.775</td>\n",
              "      <td>21.4</td>\n",
              "      <td>307.846</td>\n",
              "      <td>1.82</td>\n",
              "      <td>1.6</td>\n",
              "      <td>30.7</td>\n",
              "      <td>36.791</td>\n",
              "      <td>1.7</td>\n",
              "      <td>61.49</td>\n",
              "      <td>0.571</td>\n",
              "      <td>NaN</td>\n",
              "    </tr>\n",
              "    <tr>\n",
              "      <th>94656</th>\n",
              "      <td>ZWE</td>\n",
              "      <td>Africa</td>\n",
              "      <td>Zimbabwe</td>\n",
              "      <td>2021-06-09</td>\n",
              "      <td>39432.0</td>\n",
              "      <td>111.0</td>\n",
              "      <td>57.286</td>\n",
              "      <td>1622.0</td>\n",
              "      <td>5.0</td>\n",
              "      <td>3.286</td>\n",
              "      <td>2653.044</td>\n",
              "      <td>7.468</td>\n",
              "      <td>3.854</td>\n",
              "      <td>109.131</td>\n",
              "      <td>0.336</td>\n",
              "      <td>0.221</td>\n",
              "      <td>NaN</td>\n",
              "      <td>NaN</td>\n",
              "      <td>NaN</td>\n",
              "      <td>NaN</td>\n",
              "      <td>NaN</td>\n",
              "      <td>NaN</td>\n",
              "      <td>NaN</td>\n",
              "      <td>NaN</td>\n",
              "      <td>NaN</td>\n",
              "      <td>NaN</td>\n",
              "      <td>NaN</td>\n",
              "      <td>NaN</td>\n",
              "      <td>NaN</td>\n",
              "      <td>NaN</td>\n",
              "      <td>NaN</td>\n",
              "      <td>NaN</td>\n",
              "      <td>NaN</td>\n",
              "      <td>NaN</td>\n",
              "      <td>1083983.0</td>\n",
              "      <td>689920.0</td>\n",
              "      <td>394063.0</td>\n",
              "      <td>5174.0</td>\n",
              "      <td>6253.0</td>\n",
              "      <td>7.29</td>\n",
              "      <td>4.64</td>\n",
              "      <td>2.65</td>\n",
              "      <td>421.0</td>\n",
              "      <td>NaN</td>\n",
              "      <td>14862927.0</td>\n",
              "      <td>42.729</td>\n",
              "      <td>19.6</td>\n",
              "      <td>2.822</td>\n",
              "      <td>1.882</td>\n",
              "      <td>1899.775</td>\n",
              "      <td>21.4</td>\n",
              "      <td>307.846</td>\n",
              "      <td>1.82</td>\n",
              "      <td>1.6</td>\n",
              "      <td>30.7</td>\n",
              "      <td>36.791</td>\n",
              "      <td>1.7</td>\n",
              "      <td>61.49</td>\n",
              "      <td>0.571</td>\n",
              "      <td>NaN</td>\n",
              "    </tr>\n",
              "  </tbody>\n",
              "</table>\n",
              "</div>"
            ],
            "text/plain": [
              "      iso_code continent  ... human_development_index excess_mortality\n",
              "94652      ZWE    Africa  ...                   0.571              NaN\n",
              "94653      ZWE    Africa  ...                   0.571              NaN\n",
              "94654      ZWE    Africa  ...                   0.571              NaN\n",
              "94655      ZWE    Africa  ...                   0.571              NaN\n",
              "94656      ZWE    Africa  ...                   0.571              NaN\n",
              "\n",
              "[5 rows x 60 columns]"
            ]
          },
          "metadata": {
            "tags": []
          },
          "execution_count": 2
        }
      ]
    },
    {
      "cell_type": "markdown",
      "metadata": {
        "id": "_JkqwFodbzmQ"
      },
      "source": [
        "# **2. Dataset Description and Processng/Cleaning**"
      ]
    },
    {
      "cell_type": "markdown",
      "metadata": {
        "id": "2BEYFXSpS9Bd"
      },
      "source": [
        "In the dataset, smoothed data such as smoothed new cases and smoothed new deaths are calculated as the average of the last 7 days. For countries that don't report testing data and vaccination data on a daily basis, they are assumed to changed equally on a daily basis over any periods in which no data was reported. This produces a complete series of daily figures, which is then averaged over a rolling 7-day window. Positive rate is the share of COVID-19 tests that are positive, given as a rolling 7-day average, which is the inverse of tests per case.<br/><br/>\n",
        "Stringency index composite governments' measure based on 9 response indicators including school closures, workplace closures, and travel bans, rescaled to a value from 0 to 100 (100 = strictest response). Population density is the number of people divided by land area, measured in square kilometers. The share of the population that is 65 years and older is used as aged 65 older index. Cardiovasc death rate and diabetes prevalence describes the death rate from cardiovascular disease in 2017 (annual number of deaths per 100,000 people) and diabetes prevalence (% of population aged 20 to 79) in 2017, respectively. Handwashing facilities index is the share of the population with basic handwashing facilities on premises.<br/><br/>\n",
        "GDP per capita is the gross domestic product at purchasing power parity (constant 2011 international dollars). Extreme poverty index describes the share of the population living in extreme poverty. Human development index is a composite index measuring average achievement in three basic dimensions of human development — a long and healthy life, knowledge and a decent standard of living.<br/><br/>\n",
        "It is important to note that there are two different concepts in the dataset, the number of vaccines owned by the country or region and the number of people vaccinated in the country or region. In the early days, there were cases where countries or regions had vaccines but did not vaccinate the masses. There are also countries or regions that have vaccines that are not fully used by the population.<br/><br/>\n",
        "On December 15, 2020, the date when the database showed the first people in the world to receive the COVID-19 vaccine was chosen as the starting point for the observation of the data for the analysis of the vaccine on the epidemic. When performing analyses related to vaccines, data prior to December 15, 2020 were generally not considered because there were no records of vaccination prior to that date. Subsequently, all data where the number of people vaccinated was blank were given a 0.<br/><br/>\n",
        "**Please note that the implementatino of  data cleaning and preprocessing are also done in the modelling part. Please refer to \"4.2 Model building--Produce training validation and testing data\" to see all the processing**"
      ]
    },
    {
      "cell_type": "markdown",
      "metadata": {
        "id": "W8wqQksUPf-j"
      },
      "source": [
        "**Arributes of each column and their valid records:**"
      ]
    },
    {
      "cell_type": "code",
      "metadata": {
        "colab": {
          "base_uri": "https://localhost:8080/"
        },
        "id": "jPzuyrxSORM3",
        "outputId": "06abe307-cafe-4fcb-de80-f4e86b6ebc60"
      },
      "source": [
        "df.info()"
      ],
      "execution_count": 3,
      "outputs": [
        {
          "output_type": "stream",
          "text": [
            "<class 'pandas.core.frame.DataFrame'>\n",
            "RangeIndex: 94657 entries, 0 to 94656\n",
            "Data columns (total 60 columns):\n",
            " #   Column                                 Non-Null Count  Dtype  \n",
            "---  ------                                 --------------  -----  \n",
            " 0   iso_code                               94657 non-null  object \n",
            " 1   continent                              90186 non-null  object \n",
            " 2   location                               94657 non-null  object \n",
            " 3   date                                   94657 non-null  object \n",
            " 4   total_cases                            91559 non-null  float64\n",
            " 5   new_cases                              91556 non-null  float64\n",
            " 6   new_cases_smoothed                     90546 non-null  float64\n",
            " 7   total_deaths                           81588 non-null  float64\n",
            " 8   new_deaths                             81744 non-null  float64\n",
            " 9   new_deaths_smoothed                    90546 non-null  float64\n",
            " 10  total_cases_per_million                91070 non-null  float64\n",
            " 11  new_cases_per_million                  91067 non-null  float64\n",
            " 12  new_cases_smoothed_per_million         90062 non-null  float64\n",
            " 13  total_deaths_per_million               81112 non-null  float64\n",
            " 14  new_deaths_per_million                 81268 non-null  float64\n",
            " 15  new_deaths_smoothed_per_million        90062 non-null  float64\n",
            " 16  reproduction_rate                      76311 non-null  float64\n",
            " 17  icu_patients                           9519 non-null   float64\n",
            " 18  icu_patients_per_million               9519 non-null   float64\n",
            " 19  hosp_patients                          11815 non-null  float64\n",
            " 20  hosp_patients_per_million              11815 non-null  float64\n",
            " 21  weekly_icu_admissions                  861 non-null    float64\n",
            " 22  weekly_icu_admissions_per_million      861 non-null    float64\n",
            " 23  weekly_hosp_admissions                 1496 non-null   float64\n",
            " 24  weekly_hosp_admissions_per_million     1496 non-null   float64\n",
            " 25  new_tests                              42642 non-null  float64\n",
            " 26  total_tests                            42335 non-null  float64\n",
            " 27  total_tests_per_thousand               42335 non-null  float64\n",
            " 28  new_tests_per_thousand                 42642 non-null  float64\n",
            " 29  new_tests_smoothed                     49436 non-null  float64\n",
            " 30  new_tests_smoothed_per_thousand        49436 non-null  float64\n",
            " 31  positive_rate                          46602 non-null  float64\n",
            " 32  tests_per_case                         46003 non-null  float64\n",
            " 33  tests_units                            51035 non-null  object \n",
            " 34  total_vaccinations                     13992 non-null  float64\n",
            " 35  people_vaccinated                      13196 non-null  float64\n",
            " 36  people_fully_vaccinated                10432 non-null  float64\n",
            " 37  new_vaccinations                       11706 non-null  float64\n",
            " 38  new_vaccinations_smoothed              24113 non-null  float64\n",
            " 39  total_vaccinations_per_hundred         13992 non-null  float64\n",
            " 40  people_vaccinated_per_hundred          13196 non-null  float64\n",
            " 41  people_fully_vaccinated_per_hundred    10432 non-null  float64\n",
            " 42  new_vaccinations_smoothed_per_million  24113 non-null  float64\n",
            " 43  stringency_index                       79888 non-null  float64\n",
            " 44  population                             94034 non-null  float64\n",
            " 45  population_density                     88008 non-null  float64\n",
            " 46  median_age                             84822 non-null  float64\n",
            " 47  aged_65_older                          83866 non-null  float64\n",
            " 48  aged_70_older                          84352 non-null  float64\n",
            " 49  gdp_per_capita                         85108 non-null  float64\n",
            " 50  extreme_poverty                        57525 non-null  float64\n",
            " 51  cardiovasc_death_rate                  85214 non-null  float64\n",
            " 52  diabetes_prevalence                    87274 non-null  float64\n",
            " 53  female_smokers                         66698 non-null  float64\n",
            " 54  male_smokers                           65721 non-null  float64\n",
            " 55  handwashing_facilities                 42808 non-null  float64\n",
            " 56  hospital_beds_per_thousand             77678 non-null  float64\n",
            " 57  life_expectancy                        89887 non-null  float64\n",
            " 58  human_development_index                85378 non-null  float64\n",
            " 59  excess_mortality                       3344 non-null   float64\n",
            "dtypes: float64(55), object(5)\n",
            "memory usage: 43.3+ MB\n"
          ],
          "name": "stdout"
        }
      ]
    },
    {
      "cell_type": "markdown",
      "metadata": {
        "id": "tSPpGoXlb64W"
      },
      "source": [
        "# **3. Exploratory Data Analysis**"
      ]
    },
    {
      "cell_type": "markdown",
      "metadata": {
        "id": "u-ChHq39Pvjm"
      },
      "source": [
        "**3.1 Statistics of this dataset:**"
      ]
    },
    {
      "cell_type": "code",
      "metadata": {
        "colab": {
          "base_uri": "https://localhost:8080/",
          "height": 317
        },
        "id": "3mEAycGVPCgo",
        "outputId": "93b212c5-7f48-46bb-d52d-560d9c32b0a8"
      },
      "source": [
        "df.describe()"
      ],
      "execution_count": 4,
      "outputs": [
        {
          "output_type": "execute_result",
          "data": {
            "text/html": [
              "<div>\n",
              "<style scoped>\n",
              "    .dataframe tbody tr th:only-of-type {\n",
              "        vertical-align: middle;\n",
              "    }\n",
              "\n",
              "    .dataframe tbody tr th {\n",
              "        vertical-align: top;\n",
              "    }\n",
              "\n",
              "    .dataframe thead th {\n",
              "        text-align: right;\n",
              "    }\n",
              "</style>\n",
              "<table border=\"1\" class=\"dataframe\">\n",
              "  <thead>\n",
              "    <tr style=\"text-align: right;\">\n",
              "      <th></th>\n",
              "      <th>total_cases</th>\n",
              "      <th>new_cases</th>\n",
              "      <th>new_cases_smoothed</th>\n",
              "      <th>total_deaths</th>\n",
              "      <th>new_deaths</th>\n",
              "      <th>new_deaths_smoothed</th>\n",
              "      <th>total_cases_per_million</th>\n",
              "      <th>new_cases_per_million</th>\n",
              "      <th>new_cases_smoothed_per_million</th>\n",
              "      <th>total_deaths_per_million</th>\n",
              "      <th>new_deaths_per_million</th>\n",
              "      <th>new_deaths_smoothed_per_million</th>\n",
              "      <th>reproduction_rate</th>\n",
              "      <th>icu_patients</th>\n",
              "      <th>icu_patients_per_million</th>\n",
              "      <th>hosp_patients</th>\n",
              "      <th>hosp_patients_per_million</th>\n",
              "      <th>weekly_icu_admissions</th>\n",
              "      <th>weekly_icu_admissions_per_million</th>\n",
              "      <th>weekly_hosp_admissions</th>\n",
              "      <th>weekly_hosp_admissions_per_million</th>\n",
              "      <th>new_tests</th>\n",
              "      <th>total_tests</th>\n",
              "      <th>total_tests_per_thousand</th>\n",
              "      <th>new_tests_per_thousand</th>\n",
              "      <th>new_tests_smoothed</th>\n",
              "      <th>new_tests_smoothed_per_thousand</th>\n",
              "      <th>positive_rate</th>\n",
              "      <th>tests_per_case</th>\n",
              "      <th>total_vaccinations</th>\n",
              "      <th>people_vaccinated</th>\n",
              "      <th>people_fully_vaccinated</th>\n",
              "      <th>new_vaccinations</th>\n",
              "      <th>new_vaccinations_smoothed</th>\n",
              "      <th>total_vaccinations_per_hundred</th>\n",
              "      <th>people_vaccinated_per_hundred</th>\n",
              "      <th>people_fully_vaccinated_per_hundred</th>\n",
              "      <th>new_vaccinations_smoothed_per_million</th>\n",
              "      <th>stringency_index</th>\n",
              "      <th>population</th>\n",
              "      <th>population_density</th>\n",
              "      <th>median_age</th>\n",
              "      <th>aged_65_older</th>\n",
              "      <th>aged_70_older</th>\n",
              "      <th>gdp_per_capita</th>\n",
              "      <th>extreme_poverty</th>\n",
              "      <th>cardiovasc_death_rate</th>\n",
              "      <th>diabetes_prevalence</th>\n",
              "      <th>female_smokers</th>\n",
              "      <th>male_smokers</th>\n",
              "      <th>handwashing_facilities</th>\n",
              "      <th>hospital_beds_per_thousand</th>\n",
              "      <th>life_expectancy</th>\n",
              "      <th>human_development_index</th>\n",
              "      <th>excess_mortality</th>\n",
              "    </tr>\n",
              "  </thead>\n",
              "  <tbody>\n",
              "    <tr>\n",
              "      <th>count</th>\n",
              "      <td>9.155900e+04</td>\n",
              "      <td>91556.000000</td>\n",
              "      <td>90546.000000</td>\n",
              "      <td>8.158800e+04</td>\n",
              "      <td>81744.000000</td>\n",
              "      <td>90546.000000</td>\n",
              "      <td>91070.000000</td>\n",
              "      <td>91067.000000</td>\n",
              "      <td>90062.000000</td>\n",
              "      <td>81112.000000</td>\n",
              "      <td>81268.000000</td>\n",
              "      <td>90062.000000</td>\n",
              "      <td>76311.000000</td>\n",
              "      <td>9519.000000</td>\n",
              "      <td>9519.000000</td>\n",
              "      <td>11815.000000</td>\n",
              "      <td>11815.000000</td>\n",
              "      <td>861.000000</td>\n",
              "      <td>861.000000</td>\n",
              "      <td>1496.000000</td>\n",
              "      <td>1496.000000</td>\n",
              "      <td>4.264200e+04</td>\n",
              "      <td>4.233500e+04</td>\n",
              "      <td>42335.000000</td>\n",
              "      <td>42642.000000</td>\n",
              "      <td>4.943600e+04</td>\n",
              "      <td>49436.000000</td>\n",
              "      <td>46602.000000</td>\n",
              "      <td>46003.000000</td>\n",
              "      <td>1.399200e+04</td>\n",
              "      <td>1.319600e+04</td>\n",
              "      <td>1.043200e+04</td>\n",
              "      <td>1.170600e+04</td>\n",
              "      <td>2.411300e+04</td>\n",
              "      <td>13992.000000</td>\n",
              "      <td>13196.000000</td>\n",
              "      <td>10432.000000</td>\n",
              "      <td>24113.000000</td>\n",
              "      <td>79888.000000</td>\n",
              "      <td>9.403400e+04</td>\n",
              "      <td>88008.000000</td>\n",
              "      <td>84822.000000</td>\n",
              "      <td>83866.000000</td>\n",
              "      <td>84352.000000</td>\n",
              "      <td>85108.000000</td>\n",
              "      <td>57525.000000</td>\n",
              "      <td>85214.000000</td>\n",
              "      <td>87274.000000</td>\n",
              "      <td>66698.000000</td>\n",
              "      <td>65721.000000</td>\n",
              "      <td>42808.000000</td>\n",
              "      <td>77678.000000</td>\n",
              "      <td>89887.000000</td>\n",
              "      <td>85378.000000</td>\n",
              "      <td>3344.000000</td>\n",
              "    </tr>\n",
              "    <tr>\n",
              "      <th>mean</th>\n",
              "      <td>9.784268e+05</td>\n",
              "      <td>6057.653141</td>\n",
              "      <td>6087.434431</td>\n",
              "      <td>2.695429e+04</td>\n",
              "      <td>146.856858</td>\n",
              "      <td>131.624047</td>\n",
              "      <td>12022.333419</td>\n",
              "      <td>76.103466</td>\n",
              "      <td>76.455360</td>\n",
              "      <td>269.698262</td>\n",
              "      <td>1.562355</td>\n",
              "      <td>1.400363</td>\n",
              "      <td>1.006341</td>\n",
              "      <td>1090.159891</td>\n",
              "      <td>27.024201</td>\n",
              "      <td>4778.099365</td>\n",
              "      <td>174.290189</td>\n",
              "      <td>263.973980</td>\n",
              "      <td>18.570256</td>\n",
              "      <td>3544.466759</td>\n",
              "      <td>90.583024</td>\n",
              "      <td>4.642596e+04</td>\n",
              "      <td>7.069501e+06</td>\n",
              "      <td>281.157982</td>\n",
              "      <td>2.061621</td>\n",
              "      <td>4.410040e+04</td>\n",
              "      <td>1.970404</td>\n",
              "      <td>0.088752</td>\n",
              "      <td>161.409206</td>\n",
              "      <td>2.409622e+07</td>\n",
              "      <td>1.304478e+07</td>\n",
              "      <td>7.319786e+06</td>\n",
              "      <td>5.769301e+05</td>\n",
              "      <td>2.795793e+05</td>\n",
              "      <td>19.960923</td>\n",
              "      <td>13.382314</td>\n",
              "      <td>7.941950</td>\n",
              "      <td>3092.451126</td>\n",
              "      <td>58.556491</td>\n",
              "      <td>1.257158e+08</td>\n",
              "      <td>382.952172</td>\n",
              "      <td>30.572745</td>\n",
              "      <td>8.796327</td>\n",
              "      <td>5.569472</td>\n",
              "      <td>19291.602189</td>\n",
              "      <td>13.384261</td>\n",
              "      <td>258.228533</td>\n",
              "      <td>7.905008</td>\n",
              "      <td>10.554533</td>\n",
              "      <td>32.681057</td>\n",
              "      <td>50.860077</td>\n",
              "      <td>3.028804</td>\n",
              "      <td>73.233258</td>\n",
              "      <td>0.727620</td>\n",
              "      <td>18.177156</td>\n",
              "    </tr>\n",
              "    <tr>\n",
              "      <th>std</th>\n",
              "      <td>6.740115e+06</td>\n",
              "      <td>38084.557642</td>\n",
              "      <td>37844.704769</td>\n",
              "      <td>1.605199e+05</td>\n",
              "      <td>802.303895</td>\n",
              "      <td>743.582105</td>\n",
              "      <td>22484.417398</td>\n",
              "      <td>198.004573</td>\n",
              "      <td>158.786674</td>\n",
              "      <td>493.164593</td>\n",
              "      <td>3.993422</td>\n",
              "      <td>3.050525</td>\n",
              "      <td>0.352270</td>\n",
              "      <td>2948.390570</td>\n",
              "      <td>27.502223</td>\n",
              "      <td>12108.717505</td>\n",
              "      <td>213.690513</td>\n",
              "      <td>577.534983</td>\n",
              "      <td>36.198606</td>\n",
              "      <td>11010.915805</td>\n",
              "      <td>215.522536</td>\n",
              "      <td>1.719561e+05</td>\n",
              "      <td>3.118741e+07</td>\n",
              "      <td>648.163105</td>\n",
              "      <td>5.885175</td>\n",
              "      <td>1.552717e+05</td>\n",
              "      <td>4.948690</td>\n",
              "      <td>0.096982</td>\n",
              "      <td>887.215930</td>\n",
              "      <td>1.215268e+08</td>\n",
              "      <td>5.759429e+07</td>\n",
              "      <td>3.128562e+07</td>\n",
              "      <td>2.615222e+06</td>\n",
              "      <td>1.747215e+06</td>\n",
              "      <td>27.439458</td>\n",
              "      <td>16.857038</td>\n",
              "      <td>12.082649</td>\n",
              "      <td>4481.377516</td>\n",
              "      <td>21.188098</td>\n",
              "      <td>6.828437e+08</td>\n",
              "      <td>1782.908997</td>\n",
              "      <td>9.131793</td>\n",
              "      <td>6.215527</td>\n",
              "      <td>4.240393</td>\n",
              "      <td>19973.505712</td>\n",
              "      <td>19.953049</td>\n",
              "      <td>118.935063</td>\n",
              "      <td>4.112609</td>\n",
              "      <td>10.446004</td>\n",
              "      <td>13.477916</td>\n",
              "      <td>31.760567</td>\n",
              "      <td>2.460204</td>\n",
              "      <td>7.561947</td>\n",
              "      <td>0.150392</td>\n",
              "      <td>36.279736</td>\n",
              "    </tr>\n",
              "    <tr>\n",
              "      <th>min</th>\n",
              "      <td>1.000000e+00</td>\n",
              "      <td>-74347.000000</td>\n",
              "      <td>-6223.000000</td>\n",
              "      <td>1.000000e+00</td>\n",
              "      <td>-1918.000000</td>\n",
              "      <td>-232.143000</td>\n",
              "      <td>0.001000</td>\n",
              "      <td>-2153.437000</td>\n",
              "      <td>-276.825000</td>\n",
              "      <td>0.001000</td>\n",
              "      <td>-76.445000</td>\n",
              "      <td>-10.921000</td>\n",
              "      <td>-0.010000</td>\n",
              "      <td>0.000000</td>\n",
              "      <td>0.000000</td>\n",
              "      <td>0.000000</td>\n",
              "      <td>0.000000</td>\n",
              "      <td>0.000000</td>\n",
              "      <td>0.000000</td>\n",
              "      <td>0.000000</td>\n",
              "      <td>0.000000</td>\n",
              "      <td>-2.391720e+05</td>\n",
              "      <td>0.000000e+00</td>\n",
              "      <td>0.000000</td>\n",
              "      <td>-23.010000</td>\n",
              "      <td>0.000000e+00</td>\n",
              "      <td>0.000000</td>\n",
              "      <td>0.000000</td>\n",
              "      <td>1.300000</td>\n",
              "      <td>0.000000e+00</td>\n",
              "      <td>0.000000e+00</td>\n",
              "      <td>1.000000e+00</td>\n",
              "      <td>0.000000e+00</td>\n",
              "      <td>0.000000e+00</td>\n",
              "      <td>0.000000</td>\n",
              "      <td>0.000000</td>\n",
              "      <td>0.000000</td>\n",
              "      <td>0.000000</td>\n",
              "      <td>0.000000</td>\n",
              "      <td>8.090000e+02</td>\n",
              "      <td>0.137000</td>\n",
              "      <td>15.100000</td>\n",
              "      <td>1.144000</td>\n",
              "      <td>0.526000</td>\n",
              "      <td>661.240000</td>\n",
              "      <td>0.100000</td>\n",
              "      <td>79.370000</td>\n",
              "      <td>0.990000</td>\n",
              "      <td>0.100000</td>\n",
              "      <td>7.700000</td>\n",
              "      <td>1.188000</td>\n",
              "      <td>0.100000</td>\n",
              "      <td>53.280000</td>\n",
              "      <td>0.394000</td>\n",
              "      <td>-95.590000</td>\n",
              "    </tr>\n",
              "    <tr>\n",
              "      <th>25%</th>\n",
              "      <td>1.140000e+03</td>\n",
              "      <td>2.000000</td>\n",
              "      <td>7.286000</td>\n",
              "      <td>5.100000e+01</td>\n",
              "      <td>0.000000</td>\n",
              "      <td>0.000000</td>\n",
              "      <td>239.011750</td>\n",
              "      <td>0.207000</td>\n",
              "      <td>1.252000</td>\n",
              "      <td>7.702000</td>\n",
              "      <td>0.000000</td>\n",
              "      <td>0.000000</td>\n",
              "      <td>0.840000</td>\n",
              "      <td>32.000000</td>\n",
              "      <td>4.793000</td>\n",
              "      <td>120.000000</td>\n",
              "      <td>23.795000</td>\n",
              "      <td>2.254000</td>\n",
              "      <td>0.604000</td>\n",
              "      <td>7.373750</td>\n",
              "      <td>2.616750</td>\n",
              "      <td>1.565000e+03</td>\n",
              "      <td>1.467400e+05</td>\n",
              "      <td>13.143500</td>\n",
              "      <td>0.135000</td>\n",
              "      <td>1.638000e+03</td>\n",
              "      <td>0.134000</td>\n",
              "      <td>0.017000</td>\n",
              "      <td>7.800000</td>\n",
              "      <td>9.337225e+04</td>\n",
              "      <td>7.293400e+04</td>\n",
              "      <td>3.852575e+04</td>\n",
              "      <td>4.003500e+03</td>\n",
              "      <td>8.450000e+02</td>\n",
              "      <td>1.777500</td>\n",
              "      <td>1.520000</td>\n",
              "      <td>0.740000</td>\n",
              "      <td>338.000000</td>\n",
              "      <td>44.440000</td>\n",
              "      <td>2.225728e+06</td>\n",
              "      <td>36.253000</td>\n",
              "      <td>22.200000</td>\n",
              "      <td>3.466000</td>\n",
              "      <td>2.058000</td>\n",
              "      <td>4466.507000</td>\n",
              "      <td>0.600000</td>\n",
              "      <td>167.295000</td>\n",
              "      <td>5.310000</td>\n",
              "      <td>1.900000</td>\n",
              "      <td>21.600000</td>\n",
              "      <td>20.482000</td>\n",
              "      <td>1.300000</td>\n",
              "      <td>67.920000</td>\n",
              "      <td>0.602000</td>\n",
              "      <td>0.107500</td>\n",
              "    </tr>\n",
              "    <tr>\n",
              "      <th>50%</th>\n",
              "      <td>1.252300e+04</td>\n",
              "      <td>72.000000</td>\n",
              "      <td>89.857000</td>\n",
              "      <td>3.510000e+02</td>\n",
              "      <td>2.000000</td>\n",
              "      <td>1.286000</td>\n",
              "      <td>1620.874500</td>\n",
              "      <td>8.097000</td>\n",
              "      <td>10.721000</td>\n",
              "      <td>47.784000</td>\n",
              "      <td>0.132000</td>\n",
              "      <td>0.151000</td>\n",
              "      <td>1.010000</td>\n",
              "      <td>188.000000</td>\n",
              "      <td>18.557000</td>\n",
              "      <td>703.000000</td>\n",
              "      <td>86.214000</td>\n",
              "      <td>21.700000</td>\n",
              "      <td>4.834000</td>\n",
              "      <td>154.330000</td>\n",
              "      <td>18.405500</td>\n",
              "      <td>5.919000e+03</td>\n",
              "      <td>7.403570e+05</td>\n",
              "      <td>65.885000</td>\n",
              "      <td>0.601500</td>\n",
              "      <td>6.179000e+03</td>\n",
              "      <td>0.616000</td>\n",
              "      <td>0.054000</td>\n",
              "      <td>18.200000</td>\n",
              "      <td>7.324290e+05</td>\n",
              "      <td>5.206580e+05</td>\n",
              "      <td>3.059580e+05</td>\n",
              "      <td>2.332850e+04</td>\n",
              "      <td>6.590000e+03</td>\n",
              "      <td>8.720000</td>\n",
              "      <td>6.350000</td>\n",
              "      <td>3.240000</td>\n",
              "      <td>1563.000000</td>\n",
              "      <td>60.190000</td>\n",
              "      <td>9.890400e+06</td>\n",
              "      <td>83.479000</td>\n",
              "      <td>29.900000</td>\n",
              "      <td>6.378000</td>\n",
              "      <td>3.871000</td>\n",
              "      <td>12951.839000</td>\n",
              "      <td>2.200000</td>\n",
              "      <td>242.648000</td>\n",
              "      <td>7.110000</td>\n",
              "      <td>6.300000</td>\n",
              "      <td>31.400000</td>\n",
              "      <td>49.839000</td>\n",
              "      <td>2.400000</td>\n",
              "      <td>74.620000</td>\n",
              "      <td>0.748000</td>\n",
              "      <td>7.320000</td>\n",
              "    </tr>\n",
              "    <tr>\n",
              "      <th>75%</th>\n",
              "      <td>1.320330e+05</td>\n",
              "      <td>796.000000</td>\n",
              "      <td>835.143000</td>\n",
              "      <td>3.439000e+03</td>\n",
              "      <td>18.000000</td>\n",
              "      <td>14.286000</td>\n",
              "      <td>12214.311250</td>\n",
              "      <td>70.582000</td>\n",
              "      <td>79.322500</td>\n",
              "      <td>291.143250</td>\n",
              "      <td>1.366000</td>\n",
              "      <td>1.288000</td>\n",
              "      <td>1.170000</td>\n",
              "      <td>732.500000</td>\n",
              "      <td>41.946000</td>\n",
              "      <td>2851.500000</td>\n",
              "      <td>256.562000</td>\n",
              "      <td>205.743000</td>\n",
              "      <td>19.704000</td>\n",
              "      <td>1650.098000</td>\n",
              "      <td>98.694000</td>\n",
              "      <td>2.317675e+04</td>\n",
              "      <td>3.128723e+06</td>\n",
              "      <td>268.830500</td>\n",
              "      <td>1.897000</td>\n",
              "      <td>2.556375e+04</td>\n",
              "      <td>1.959000</td>\n",
              "      <td>0.128000</td>\n",
              "      <td>56.500000</td>\n",
              "      <td>4.418478e+06</td>\n",
              "      <td>3.044987e+06</td>\n",
              "      <td>1.775731e+06</td>\n",
              "      <td>1.227920e+05</td>\n",
              "      <td>4.016700e+04</td>\n",
              "      <td>26.830000</td>\n",
              "      <td>18.932500</td>\n",
              "      <td>9.710000</td>\n",
              "      <td>4271.000000</td>\n",
              "      <td>75.000000</td>\n",
              "      <td>3.481387e+07</td>\n",
              "      <td>209.588000</td>\n",
              "      <td>39.100000</td>\n",
              "      <td>14.312000</td>\n",
              "      <td>9.167000</td>\n",
              "      <td>27216.445000</td>\n",
              "      <td>21.200000</td>\n",
              "      <td>329.635000</td>\n",
              "      <td>10.080000</td>\n",
              "      <td>19.300000</td>\n",
              "      <td>41.100000</td>\n",
              "      <td>83.241000</td>\n",
              "      <td>3.861000</td>\n",
              "      <td>78.740000</td>\n",
              "      <td>0.848000</td>\n",
              "      <td>23.690000</td>\n",
              "    </tr>\n",
              "    <tr>\n",
              "      <th>max</th>\n",
              "      <td>1.744184e+08</td>\n",
              "      <td>906008.000000</td>\n",
              "      <td>826389.571000</td>\n",
              "      <td>3.757791e+06</td>\n",
              "      <td>18051.000000</td>\n",
              "      <td>14741.143000</td>\n",
              "      <td>178489.614000</td>\n",
              "      <td>18293.675000</td>\n",
              "      <td>4083.500000</td>\n",
              "      <td>5676.267000</td>\n",
              "      <td>218.329000</td>\n",
              "      <td>63.140000</td>\n",
              "      <td>5.800000</td>\n",
              "      <td>28889.000000</td>\n",
              "      <td>192.455000</td>\n",
              "      <td>133214.000000</td>\n",
              "      <td>1532.573000</td>\n",
              "      <td>4002.456000</td>\n",
              "      <td>278.756000</td>\n",
              "      <td>116323.000000</td>\n",
              "      <td>2656.911000</td>\n",
              "      <td>3.740296e+06</td>\n",
              "      <td>4.519111e+08</td>\n",
              "      <td>8376.413000</td>\n",
              "      <td>327.086000</td>\n",
              "      <td>3.080396e+06</td>\n",
              "      <td>92.104000</td>\n",
              "      <td>0.742000</td>\n",
              "      <td>50000.000000</td>\n",
              "      <td>2.255071e+09</td>\n",
              "      <td>9.442351e+08</td>\n",
              "      <td>4.802594e+08</td>\n",
              "      <td>3.972108e+07</td>\n",
              "      <td>3.602509e+07</td>\n",
              "      <td>230.780000</td>\n",
              "      <td>116.110000</td>\n",
              "      <td>114.670000</td>\n",
              "      <td>118759.000000</td>\n",
              "      <td>100.000000</td>\n",
              "      <td>7.794799e+09</td>\n",
              "      <td>20546.766000</td>\n",
              "      <td>48.200000</td>\n",
              "      <td>27.049000</td>\n",
              "      <td>18.493000</td>\n",
              "      <td>116935.600000</td>\n",
              "      <td>77.600000</td>\n",
              "      <td>724.417000</td>\n",
              "      <td>30.530000</td>\n",
              "      <td>44.000000</td>\n",
              "      <td>78.100000</td>\n",
              "      <td>100.000000</td>\n",
              "      <td>13.800000</td>\n",
              "      <td>86.750000</td>\n",
              "      <td>0.957000</td>\n",
              "      <td>409.620000</td>\n",
              "    </tr>\n",
              "  </tbody>\n",
              "</table>\n",
              "</div>"
            ],
            "text/plain": [
              "        total_cases      new_cases  ...  human_development_index  excess_mortality\n",
              "count  9.155900e+04   91556.000000  ...             85378.000000       3344.000000\n",
              "mean   9.784268e+05    6057.653141  ...                 0.727620         18.177156\n",
              "std    6.740115e+06   38084.557642  ...                 0.150392         36.279736\n",
              "min    1.000000e+00  -74347.000000  ...                 0.394000        -95.590000\n",
              "25%    1.140000e+03       2.000000  ...                 0.602000          0.107500\n",
              "50%    1.252300e+04      72.000000  ...                 0.748000          7.320000\n",
              "75%    1.320330e+05     796.000000  ...                 0.848000         23.690000\n",
              "max    1.744184e+08  906008.000000  ...                 0.957000        409.620000\n",
              "\n",
              "[8 rows x 55 columns]"
            ]
          },
          "metadata": {
            "tags": []
          },
          "execution_count": 4
        }
      ]
    },
    {
      "cell_type": "markdown",
      "metadata": {
        "id": "aDbvr_p1VGnt"
      },
      "source": [
        "**3.2 A histogram for each attribute(column)**<br/>\n",
        "Note that these are only histogram which shows the occurences of the attribute values, some of them are not meaningful. "
      ]
    },
    {
      "cell_type": "code",
      "metadata": {
        "colab": {
          "base_uri": "https://localhost:8080/",
          "height": 1000
        },
        "id": "_WnYbQq7QP2-",
        "outputId": "b08fd2f5-ea0f-4dc8-9ca7-254dd1d6cab2"
      },
      "source": [
        "df.hist(bins=20, figsize=(30,30))\n",
        "plt.show()"
      ],
      "execution_count": 5,
      "outputs": [
        {
          "output_type": "display_data",
          "data": {
            "image/png": "[encoded data removed]",
            "text/plain": [
              "<Figure size 2160x2160 with 56 Axes>"
            ]
          },
          "metadata": {
            "tags": [],
            "needs_background": "light"
          }
        }
      ]
    },
    {
      "cell_type": "markdown",
      "metadata": {
        "id": "cZZhm8mlUBt4"
      },
      "source": [
        "**3.3 Number of records(days) for each location:**<br/>\n",
        "We can see that for some countries(areas), the available records are very rare. E.g. \"British Virgin Islands\" has only 8 records (which means only 8 days are recorded), and we are removing these data before we feed them to our model."
      ]
    },
    {
      "cell_type": "code",
      "metadata": {
        "colab": {
          "base_uri": "https://localhost:8080/"
        },
        "id": "EuvqPMPARbbn",
        "outputId": "ff16e437-3698-46f7-eab5-3ea5332a9f8e"
      },
      "source": [
        "iso_dic={}\n",
        "for i in range(len(df)):\n",
        "  if df['location'][i] in iso_dic: iso_dic[df['location'][i]]=iso_dic[df['location'][i]]+1\n",
        "  else: iso_dic[df['location'][i]]=1\n",
        "iso_dic"
      ],
      "execution_count": 6,
      "outputs": [
        {
          "output_type": "execute_result",
          "data": {
            "text/plain": [
              "{'Afghanistan': 472,\n",
              " 'Africa': 483,\n",
              " 'Albania': 471,\n",
              " 'Algeria': 471,\n",
              " 'Andorra': 465,\n",
              " 'Angola': 447,\n",
              " 'Anguilla': 121,\n",
              " 'Antigua and Barbuda': 454,\n",
              " 'Argentina': 526,\n",
              " 'Armenia': 466,\n",
              " 'Aruba': 73,\n",
              " 'Asia': 505,\n",
              " 'Australia': 501,\n",
              " 'Austria': 471,\n",
              " 'Azerbaijan': 466,\n",
              " 'Bahamas': 451,\n",
              " 'Bahrain': 472,\n",
              " 'Bangladesh': 464,\n",
              " 'Barbados': 450,\n",
              " 'Belarus': 468,\n",
              " 'Belgium': 492,\n",
              " 'Belize': 444,\n",
              " 'Benin': 451,\n",
              " 'Bermuda': 149,\n",
              " 'Bhutan': 461,\n",
              " 'Bolivia': 456,\n",
              " 'Bonaire Sint Eustatius and Saba': 1,\n",
              " 'Bosnia and Herzegovina': 462,\n",
              " 'Botswana': 437,\n",
              " 'Brazil': 470,\n",
              " 'British Virgin Islands': 8,\n",
              " 'Brunei': 458,\n",
              " 'Bulgaria': 459,\n",
              " 'Burkina Faso': 457,\n",
              " 'Burundi': 436,\n",
              " 'Cambodia': 500,\n",
              " 'Cameroon': 461,\n",
              " 'Canada': 501,\n",
              " 'Cape Verde': 447,\n",
              " 'Cayman Islands': 165,\n",
              " 'Central African Republic': 452,\n",
              " 'Chad': 448,\n",
              " 'Chile': 473,\n",
              " 'China': 505,\n",
              " 'Colombia': 461,\n",
              " 'Comoros': 406,\n",
              " 'Congo': 452,\n",
              " 'Cook Islands': 15,\n",
              " 'Costa Rica': 461,\n",
              " \"Cote d'Ivoire\": 456,\n",
              " 'Croatia': 471,\n",
              " 'Cuba': 455,\n",
              " 'Curacao': 73,\n",
              " 'Cyprus': 460,\n",
              " 'Czechia': 466,\n",
              " 'Democratic Republic of Congo': 456,\n",
              " 'Denmark': 494,\n",
              " 'Djibouti': 449,\n",
              " 'Dominica': 445,\n",
              " 'Dominican Republic': 466,\n",
              " 'Ecuador': 466,\n",
              " 'Egypt': 482,\n",
              " 'El Salvador': 448,\n",
              " 'Equatorial Guinea': 452,\n",
              " 'Eritrea': 446,\n",
              " 'Estonia': 493,\n",
              " 'Eswatini': 453,\n",
              " 'Ethiopia': 454,\n",
              " 'Europe': 504,\n",
              " 'European Union': 504,\n",
              " 'Faeroe Islands': 132,\n",
              " 'Falkland Islands': 67,\n",
              " 'Fiji': 497,\n",
              " 'Finland': 498,\n",
              " 'France': 503,\n",
              " 'French Polynesia': 127,\n",
              " 'Gabon': 453,\n",
              " 'Gambia': 450,\n",
              " 'Georgia': 470,\n",
              " 'Germany': 503,\n",
              " 'Ghana': 453,\n",
              " 'Gibraltar': 150,\n",
              " 'Greece': 470,\n",
              " 'Greenland': 134,\n",
              " 'Grenada': 445,\n",
              " 'Guatemala': 479,\n",
              " 'Guernsey': 136,\n",
              " 'Guinea': 454,\n",
              " 'Guinea-Bissau': 442,\n",
              " 'Guyana': 455,\n",
              " 'Haiti': 447,\n",
              " 'Honduras': 456,\n",
              " 'Hong Kong': 504,\n",
              " 'Hungary': 464,\n",
              " 'Iceland': 469,\n",
              " 'India': 497,\n",
              " 'Indonesia': 465,\n",
              " 'International': 489,\n",
              " 'Iran': 477,\n",
              " 'Iraq': 472,\n",
              " 'Ireland': 474,\n",
              " 'Isle of Man': 140,\n",
              " 'Israel': 477,\n",
              " 'Italy': 496,\n",
              " 'Jamaica': 456,\n",
              " 'Japan': 505,\n",
              " 'Jersey': 81,\n",
              " 'Jordan': 464,\n",
              " 'Kazakhstan': 454,\n",
              " 'Kenya': 461,\n",
              " 'Kiribati': 23,\n",
              " 'Kosovo': 453,\n",
              " 'Kuwait': 472,\n",
              " 'Kyrgyzstan': 449,\n",
              " 'Laos': 443,\n",
              " 'Latvia': 474,\n",
              " 'Lebanon': 475,\n",
              " 'Lesotho': 393,\n",
              " 'Liberia': 451,\n",
              " 'Libya': 463,\n",
              " 'Liechtenstein': 463,\n",
              " 'Lithuania': 467,\n",
              " 'Luxembourg': 472,\n",
              " 'Macao': 122,\n",
              " 'Madagascar': 447,\n",
              " 'Malawi': 438,\n",
              " 'Malaysia': 502,\n",
              " 'Maldives': 459,\n",
              " 'Mali': 442,\n",
              " 'Malta': 490,\n",
              " 'Marshall Islands': 225,\n",
              " 'Mauritania': 453,\n",
              " 'Mauritius': 449,\n",
              " 'Mexico': 526,\n",
              " 'Micronesia (country)': 140,\n",
              " 'Moldova': 459,\n",
              " 'Monaco': 467,\n",
              " 'Mongolia': 457,\n",
              " 'Montenegro': 450,\n",
              " 'Montserrat': 110,\n",
              " 'Morocco': 489,\n",
              " 'Mozambique': 445,\n",
              " 'Myanmar': 440,\n",
              " 'Namibia': 453,\n",
              " 'Nauru': 62,\n",
              " 'Nepal': 502,\n",
              " 'Netherlands': 469,\n",
              " 'New Caledonia': 127,\n",
              " 'New Zealand': 468,\n",
              " 'Nicaragua': 448,\n",
              " 'Niger': 447,\n",
              " 'Nigeria': 468,\n",
              " 'North America': 505,\n",
              " 'North Macedonia': 470,\n",
              " 'Northern Cyprus': 134,\n",
              " 'Norway': 471,\n",
              " 'Oceania': 502,\n",
              " 'Oman': 472,\n",
              " 'Pakistan': 471,\n",
              " 'Palestine': 462,\n",
              " 'Panama': 458,\n",
              " 'Papua New Guinea': 447,\n",
              " 'Paraguay': 460,\n",
              " 'Peru': 521,\n",
              " 'Philippines': 497,\n",
              " 'Poland': 463,\n",
              " 'Portugal': 473,\n",
              " 'Qatar': 467,\n",
              " 'Romania': 470,\n",
              " 'Russia': 496,\n",
              " 'Rwanda': 453,\n",
              " 'Saint Helena': 92,\n",
              " 'Saint Kitts and Nevis': 442,\n",
              " 'Saint Lucia': 453,\n",
              " 'Saint Vincent and the Grenadines': 453,\n",
              " 'Samoa': 204,\n",
              " 'San Marino': 469,\n",
              " 'Sao Tome and Principe': 430,\n",
              " 'Saudi Arabia': 465,\n",
              " 'Senegal': 468,\n",
              " 'Serbia': 470,\n",
              " 'Seychelles': 453,\n",
              " 'Sierra Leone': 436,\n",
              " 'Singapore': 504,\n",
              " 'Sint Maarten (Dutch part)': 29,\n",
              " 'Slovakia': 461,\n",
              " 'Slovenia': 494,\n",
              " 'Solomon Islands': 241,\n",
              " 'Somalia': 451,\n",
              " 'South Africa': 489,\n",
              " 'South America': 474,\n",
              " 'South Korea': 506,\n",
              " 'South Sudan': 431,\n",
              " 'Spain': 495,\n",
              " 'Sri Lanka': 500,\n",
              " 'Sudan': 455,\n",
              " 'Suriname': 453,\n",
              " 'Sweden': 495,\n",
              " 'Switzerland': 471,\n",
              " 'Syria': 445,\n",
              " 'Taiwan': 511,\n",
              " 'Tajikistan': 406,\n",
              " 'Tanzania': 451,\n",
              " 'Thailand': 523,\n",
              " 'Timor': 445,\n",
              " 'Togo': 463,\n",
              " 'Tonga': 43,\n",
              " 'Trinidad and Tobago': 453,\n",
              " 'Tunisia': 463,\n",
              " 'Turkey': 456,\n",
              " 'Turkmenistan': 1,\n",
              " 'Turks and Caicos Islands': 139,\n",
              " 'Tuvalu': 36,\n",
              " 'Uganda': 446,\n",
              " 'Ukraine': 464,\n",
              " 'United Arab Emirates': 498,\n",
              " 'United Kingdom': 496,\n",
              " 'United States': 505,\n",
              " 'Uruguay': 454,\n",
              " 'Uzbekistan': 452,\n",
              " 'Vanuatu': 212,\n",
              " 'Vatican': 461,\n",
              " 'Venezuela': 453,\n",
              " 'Vietnam': 504,\n",
              " 'Wallis and Futuna': 78,\n",
              " 'World': 505,\n",
              " 'Yemen': 426,\n",
              " 'Zambia': 449,\n",
              " 'Zimbabwe': 447}"
            ]
          },
          "metadata": {
            "tags": []
          },
          "execution_count": 6
        }
      ]
    },
    {
      "cell_type": "markdown",
      "metadata": {
        "id": "3W8-OZp4WRB1"
      },
      "source": [
        "**3.4 The list of countries(plus the number of days recorded) where the highest infection rates ever exceeded 10%:**<br/>\n",
        "These countries are 'Andorra', 'Bahrain', 'Czechia', 'Lithuania', 'Luxembourg', 'Maldives', 'Montenegro', 'San Marino', 'Serbia', 'Seychelles', 'Slovenia', 'Sweden', and 'United States'."
      ]
    },
    {
      "cell_type": "code",
      "metadata": {
        "colab": {
          "base_uri": "https://localhost:8080/"
        },
        "id": "zltA_XptSHkc",
        "outputId": "127fb191-4f6d-4541-d32e-ed96807e3c51"
      },
      "source": [
        "countries={}\n",
        "for i in range(len(df)):\n",
        "  if df['total_cases_per_million'][i]>100000 and df['location'][i] not in countries:\n",
        "    countries[df['location'][i]]=len(df[df['location']==df['location'][i]])\n",
        "print(countries)"
      ],
      "execution_count": 7,
      "outputs": [
        {
          "output_type": "stream",
          "text": [
            "{'Andorra': 465, 'Bahrain': 472, 'Czechia': 466, 'Lithuania': 467, 'Luxembourg': 472, 'Maldives': 459, 'Montenegro': 450, 'San Marino': 469, 'Serbia': 470, 'Seychelles': 453, 'Slovenia': 494, 'Sweden': 495, 'United States': 505}\n"
          ],
          "name": "stdout"
        }
      ]
    },
    {
      "cell_type": "markdown",
      "metadata": {
        "id": "tzPUxnvZjZmY"
      },
      "source": [
        "**3.5 A concrete case study: United States**"
      ]
    },
    {
      "cell_type": "markdown",
      "metadata": {
        "id": "OoPvhIGhWwpp"
      },
      "source": [
        "**3.5.1 Number of records(days) for US:**"
      ]
    },
    {
      "cell_type": "code",
      "metadata": {
        "colab": {
          "base_uri": "https://localhost:8080/"
        },
        "id": "mC7SoViMXjea",
        "outputId": "c9dc94e9-5930-4239-c698-9d460c8a278e"
      },
      "source": [
        "df_us=df[df['location']=='United States']\n",
        "len(df_us)"
      ],
      "execution_count": 8,
      "outputs": [
        {
          "output_type": "execute_result",
          "data": {
            "text/plain": [
              "505"
            ]
          },
          "metadata": {
            "tags": []
          },
          "execution_count": 8
        }
      ]
    },
    {
      "cell_type": "markdown",
      "metadata": {
        "id": "1-ENWkPHW6Ae"
      },
      "source": [
        "**3.5.2 Graph: Total number of infected people:**"
      ]
    },
    {
      "cell_type": "code",
      "metadata": {
        "colab": {
          "base_uri": "https://localhost:8080/",
          "height": 405
        },
        "id": "zdfbmRlB0BfU",
        "outputId": "baab6c50-32a3-4c42-a492-9f7ee32ced26"
      },
      "source": [
        "plt.figure(figsize=(8,6))\n",
        "plt.plot(df_us['date'],df_us['total_cases'])\n",
        "plt.xlabel('Dates from 2020.Feb to 2021.June')\n",
        "plt.ylabel('Total infected people')\n",
        "plt.title('Total number of infected people')\n",
        "plt.xticks([])"
      ],
      "execution_count": 89,
      "outputs": [
        {
          "output_type": "execute_result",
          "data": {
            "text/plain": [
              "([], <a list of 0 Text major ticklabel objects>)"
            ]
          },
          "metadata": {
            "tags": []
          },
          "execution_count": 89
        },
        {
          "output_type": "display_data",
          "data": {
            "image/png": "[encoded data removed]",
            "text/plain": [
              "<Figure size 576x432 with 1 Axes>"
            ]
          },
          "metadata": {
            "tags": [],
            "needs_background": "light"
          }
        }
      ]
    },
    {
      "cell_type": "markdown",
      "metadata": {
        "id": "NO7KIFXGXA7a"
      },
      "source": [
        "**3.5.3 Graph: New Inceasing Cases per day:**"
      ]
    },
    {
      "cell_type": "code",
      "metadata": {
        "id": "AuiTVKQoh_hf",
        "colab": {
          "base_uri": "https://localhost:8080/",
          "height": 405
        },
        "outputId": "125ca859-0e58-4bc8-904c-9ca86e332447"
      },
      "source": [
        "plt.figure(figsize=(8,6))\n",
        "plt.plot(df_us['date'],df_us['new_cases'])\n",
        "plt.xlabel('Dates from 2020.Feb to 2021.June')\n",
        "plt.ylabel('New Cases per day')\n",
        "plt.title('New Cases per day')\n",
        "plt.xticks([])"
      ],
      "execution_count": 90,
      "outputs": [
        {
          "output_type": "execute_result",
          "data": {
            "text/plain": [
              "([], <a list of 0 Text major ticklabel objects>)"
            ]
          },
          "metadata": {
            "tags": []
          },
          "execution_count": 90
        },
        {
          "output_type": "display_data",
          "data": {
            "image/png": "[encoded data removed]",
            "text/plain": [
              "<Figure size 576x432 with 1 Axes>"
            ]
          },
          "metadata": {
            "tags": [],
            "needs_background": "light"
          }
        }
      ]
    },
    {
      "cell_type": "markdown",
      "metadata": {
        "id": "JX_tJMTLXIix"
      },
      "source": [
        "**3.5.4 Graph: New Increasing Cases per day (smoothed):**"
      ]
    },
    {
      "cell_type": "code",
      "metadata": {
        "colab": {
          "base_uri": "https://localhost:8080/",
          "height": 405
        },
        "id": "oI8LiKL5yXhp",
        "outputId": "98814da4-94a8-42e5-b1a0-1e0346113da3"
      },
      "source": [
        "plt.figure(figsize=(8,6))\n",
        "plt.plot(df_us['date'],df_us['new_cases_smoothed'])\n",
        "plt.xlabel('Dates from 2020.Feb to 2021.June')\n",
        "plt.ylabel('New Cases per day (smoothed)')\n",
        "plt.title('New Cases per day (smoothed)')\n",
        "plt.xticks([])"
      ],
      "execution_count": 91,
      "outputs": [
        {
          "output_type": "execute_result",
          "data": {
            "text/plain": [
              "([], <a list of 0 Text major ticklabel objects>)"
            ]
          },
          "metadata": {
            "tags": []
          },
          "execution_count": 91
        },
        {
          "output_type": "display_data",
          "data": {
            "image/png": "[encoded data removed]",
            "text/plain": [
              "<Figure size 576x432 with 1 Axes>"
            ]
          },
          "metadata": {
            "tags": [],
            "needs_background": "light"
          }
        }
      ]
    },
    {
      "cell_type": "markdown",
      "metadata": {
        "id": "9MdM4-12XM06"
      },
      "source": [
        "**3.5.5 Graph: Possible variables that can affect the transition of covid-19:**"
      ]
    },
    {
      "cell_type": "code",
      "metadata": {
        "colab": {
          "base_uri": "https://localhost:8080/",
          "height": 657
        },
        "id": "N1Iz0BxJzPIR",
        "outputId": "cb593df7-d0fa-4d9f-c833-6bc1f17b6fed"
      },
      "source": [
        "fig,axs=plt.subplots(2,2,figsize=(12,9))\n",
        "axs[0,0].plot(df_us['date'],df_us['total_vaccinations'])\n",
        "axs[0,0].set_title('Total number of Vaccinations',pad=20)\n",
        "axs[0,0].set(xlabel='Dates from 2020.Feb to 2021.June',ylabel='')\n",
        "axs[0,0].set_xticks([])\n",
        "axs[0,1].plot(df_us['date'],df_us['people_vaccinated'])\n",
        "axs[0,1].set_title('Total number of Vaccinated People',pad=15)\n",
        "axs[0,1].set(xlabel='Dates from 2020.Feb to 2021.June',ylabel='')\n",
        "axs[0,1].set_xticks([])\n",
        "axs[1,0].plot(df_us['date'],df_us['reproduction_rate'])\n",
        "axs[1,0].set_title('Reproduction Rate',pad=20)\n",
        "axs[1,0].set(xlabel='Dates from 2020.Feb to 2021.June',ylabel='')\n",
        "axs[1,0].set_xticks([])\n",
        "axs[1,1].plot(df_us['date'],df_us['positive_rate'])\n",
        "axs[1,1].set_title('Positive Rate',pad=20)\n",
        "axs[1,1].set(xlabel='Dates from 2020.Feb to 2021.June',ylabel='')\n",
        "axs[1,1].set_xticks([])\n",
        "plt.tight_layout()"
      ],
      "execution_count": 99,
      "outputs": [
        {
          "output_type": "display_data",
          "data": {
            "image/png": "[encoded data removed]",
            "text/plain": [
              "<Figure size 864x648 with 4 Axes>"
            ]
          },
          "metadata": {
            "tags": [],
            "needs_background": "light"
          }
        }
      ]
    },
    {
      "cell_type": "markdown",
      "metadata": {
        "id": "0CCv7bfK2yAY"
      },
      "source": [
        "**At first we are very interested in using the Reproduction Rate to predict the pandemic, but later on we dropped this idea for following reasons:**<br/>\n",
        "1.We can see from above figures that the reproduction rate droped suddenly and drastically when the Vaccination first came out, which sounds reasonable. But if we think about it more carefully, it shouldn't behave like this because there were very few people vaccinated when the vaccination first came out.<br/>\n",
        "2.The Reproduction Rate in US kept slow even when where were more than 200,000 people infected per day in US, which is not reasonable.<br/>\n",
        "3.Anyway, the Reproduction Rate is not a truly existing data but estimated from otherexisting data. So it can introduce uncontroable bias and errors which we can do nothing to revise."
      ]
    },
    {
      "cell_type": "markdown",
      "metadata": {
        "id": "_nnqO470cqWw"
      },
      "source": [
        "# **4. Model Building**"
      ]
    },
    {
      "cell_type": "markdown",
      "metadata": {
        "id": "-9hPz1a3lm5l"
      },
      "source": [
        "##**4.1 Ideas and designs of the model**"
      ]
    },
    {
      "cell_type": "markdown",
      "metadata": {
        "id": "vycIOADDltO6"
      },
      "source": [
        "**Objective:** Our objective is to predict the newly infected number per day for any given area.<br/><br/>\n",
        "**Ideas and thinking:** The \"new infected cases per day\" itself is a time series, so we can predict it without using any other data just like predicting the stock. E.g. using an ARMA model to predict stock value in the future. But as for this dataset, we have a lot of other informations that we can use, so we can incorporate some other useful information to help predict the number of newly infected people, e.g. number of vaccinated people. And by comparing among all the variables (also see Exploratory Data Analysis), we picked out the following variables to use.<br/><br/>\n",
        "**Input variables:**<br/>\n",
        "(1)“total infected people”(**1 scalar** taking the average of past 15 days)<br/>\n",
        "(2)“New cases per day(smoothed)” of past 15days( **a vector of 15 scalars**)<br/>\n",
        "(3)“Vaccinated people”(**1 scalar** taking the average of past 15 days)<br/>\n",
        "(4)“Population” (**1 scalar**)<br/>\n",
        "In the end the input variables can be unified into **a vector of length 18.**<br/><br/>\n",
        "**Output/Predicted variable:**<br/>\n",
        "\"New cases of infection\" for tomorrow (in the next day). **It is a scalar.**<br/><br/>\n",
        "**Model Design:**<br/>\n",
        "A simple multilayer perceptron taking 18 inputs and outputting 1 scalar, with 2 hidden layer of 18 neurons."
      ]
    },
    {
      "cell_type": "markdown",
      "metadata": {
        "id": "RB_fr4BeFwKC"
      },
      "source": [
        "##**4.2 Produce training validation and testing data**"
      ]
    },
    {
      "cell_type": "code",
      "metadata": {
        "colab": {
          "base_uri": "https://localhost:8080/"
        },
        "id": "uXpwIZArIOoG",
        "outputId": "9544c95a-2c02-4f29-ac0f-8c633d21b744"
      },
      "source": [
        "df.shape"
      ],
      "execution_count": 13,
      "outputs": [
        {
          "output_type": "execute_result",
          "data": {
            "text/plain": [
              "(94657, 60)"
            ]
          },
          "metadata": {
            "tags": []
          },
          "execution_count": 13
        }
      ]
    },
    {
      "cell_type": "markdown",
      "metadata": {
        "id": "QQkigAfRZi8t"
      },
      "source": [
        "**4.2.1 Drop all data that don't have a record for vaccinations:**"
      ]
    },
    {
      "cell_type": "code",
      "metadata": {
        "colab": {
          "base_uri": "https://localhost:8080/"
        },
        "id": "9retFmuCIQxv",
        "outputId": "acdf9613-ee30-48b7-db3f-9a99fee73f43"
      },
      "source": [
        "df=df.drop(np.where(df['people_vaccinated'].isnull())[0])\n",
        "print(df.shape)\n"
      ],
      "execution_count": 14,
      "outputs": [
        {
          "output_type": "stream",
          "text": [
            "(13196, 60)\n"
          ],
          "name": "stdout"
        }
      ]
    },
    {
      "cell_type": "markdown",
      "metadata": {
        "id": "3rMRjMkXgA0M"
      },
      "source": [
        "**4.2.2 Drop a whole country's (area's) data if it has less than 20 records:**"
      ]
    },
    {
      "cell_type": "code",
      "metadata": {
        "id": "Ohxp78ZGa6xu"
      },
      "source": [
        "iso_dic={}\n",
        "for i in range(len(df)):\n",
        "  if df.iat[i,2] in iso_dic: iso_dic[df.iat[i,2]]=iso_dic[df.iat[i,2]]+1\n",
        "  else: iso_dic[df.iat[i,2]]=1"
      ],
      "execution_count": 15,
      "outputs": []
    },
    {
      "cell_type": "code",
      "metadata": {
        "id": "krElIioKfaAS"
      },
      "source": [
        "for key,value in iso_dic.items():\n",
        "  #print(key)\n",
        "  if value<20:\n",
        "    df=df.drop(df[df['location']==key].index)"
      ],
      "execution_count": 16,
      "outputs": []
    },
    {
      "cell_type": "code",
      "metadata": {
        "colab": {
          "base_uri": "https://localhost:8080/"
        },
        "id": "ViDH-z4DgXge",
        "outputId": "771e6311-13f8-45fd-84eb-5e4828578152"
      },
      "source": [
        "df.shape"
      ],
      "execution_count": 17,
      "outputs": [
        {
          "output_type": "execute_result",
          "data": {
            "text/plain": [
              "(12504, 60)"
            ]
          },
          "metadata": {
            "tags": []
          },
          "execution_count": 17
        }
      ]
    },
    {
      "cell_type": "code",
      "metadata": {
        "id": "jqpTz7GxjgHm"
      },
      "source": [
        "iso_dic={}\n",
        "for i in range(len(df)):\n",
        "  if df.iat[i,2] in iso_dic: iso_dic[df.iat[i,2]]=iso_dic[df.iat[i,2]]+1\n",
        "  else: iso_dic[df.iat[i,2]]=1"
      ],
      "execution_count": null,
      "outputs": []
    },
    {
      "cell_type": "markdown",
      "metadata": {
        "id": "JHc-bVbg3a1b"
      },
      "source": [
        "**4.2.3 Drop all the Nan values and create a input/output pairs:**<br/>\n",
        "(Not really deleting these NaN data, but not selecting from these data.)"
      ]
    },
    {
      "cell_type": "code",
      "metadata": {
        "colab": {
          "base_uri": "https://localhost:8080/"
        },
        "id": "QuDDtKtgjqtj",
        "outputId": "a2aa2089-a4f6-4297-a2a6-9f76af7b62da"
      },
      "source": [
        "in_ou_pair=[]\n",
        "for key,value in iso_dic.items():\n",
        "  df_current = df[df['location']==key]\n",
        "  for i in range(16,value):\n",
        "    inputs=[]\n",
        "    if np.isnan(df_current.iat[i-1,4]):\n",
        "      continue\n",
        "    inputs.append(df_current.iat[i-1,4])\n",
        "    check=1\n",
        "    for j in range(1,16):\n",
        "      if np.isnan(df_current.iat[i-j,6]):\n",
        "        check=0\n",
        "      inputs.append(df_current.iat[i-j,6])\n",
        "    inputs.append(df_current.iat[i-1,35])\n",
        "    inputs.append(df_current.iat[i-1,44])\n",
        "    inputs.append(df_current.iat[i,6])\n",
        "    if check==1:\n",
        "      in_ou_pair.append(inputs)\n",
        "in_ou_pair=np.array(in_ou_pair)\n",
        "print(in_ou_pair.shape)\n",
        "    "
      ],
      "execution_count": 22,
      "outputs": [
        {
          "output_type": "stream",
          "text": [
            "(9974, 19)\n"
          ],
          "name": "stdout"
        }
      ]
    },
    {
      "cell_type": "code",
      "metadata": {
        "colab": {
          "base_uri": "https://localhost:8080/"
        },
        "id": "crpT0taTy-92",
        "outputId": "7e9f9eec-b5d2-4a1e-d2b5-853d9ca7dbfe"
      },
      "source": [
        "in_ou_pair[0]"
      ],
      "execution_count": 23,
      "outputs": [
        {
          "output_type": "execute_result",
          "data": {
            "text/plain": [
              "array([3.56961700e+06, 1.85337140e+04, 1.91577140e+04, 2.05071430e+04,\n",
              "       2.15010000e+04, 2.25131430e+04, 2.35860000e+04, 2.42734290e+04,\n",
              "       2.50992860e+04, 2.60205710e+04, 2.60577140e+04, 2.77375710e+04,\n",
              "       2.85461430e+04, 3.04480000e+04, 3.15238570e+04, 3.23912860e+04,\n",
              "       3.22060000e+04, 1.34059811e+09, 1.79645710e+04])"
            ]
          },
          "metadata": {
            "tags": []
          },
          "execution_count": 23
        }
      ]
    },
    {
      "cell_type": "markdown",
      "metadata": {
        "id": "pECRkG3yWx6s"
      },
      "source": [
        "**4.2.4 Normalize the data to range [0,1] in order to learn it better.**"
      ]
    },
    {
      "cell_type": "code",
      "metadata": {
        "id": "yJgmeK8CKJYt"
      },
      "source": [
        "MAX=np.max(in_ou_pair,axis=0)\n",
        "MIN=np.min(in_ou_pair,axis=0)\n",
        "in_ou_pair=(in_ou_pair-MIN)/(MAX-MIN)"
      ],
      "execution_count": 28,
      "outputs": []
    },
    {
      "cell_type": "markdown",
      "metadata": {
        "id": "-zr_hSzFZ3Yo"
      },
      "source": [
        "**4.2.5 Split the data into train, validation and test data:**"
      ]
    },
    {
      "cell_type": "code",
      "metadata": {
        "id": "5lAgiCuMCnwf"
      },
      "source": [
        "np.random.seed(20)\n",
        "np.random.shuffle(in_ou_pair)\n",
        "n_samples=in_ou_pair.shape[0]\n",
        "\n",
        "train=in_ou_pair[:int(0.8*n_samples),:]\n",
        "val=in_ou_pair[int(0.8*n_samples):int(0.9*n_samples),:]\n",
        "test=in_ou_pair[int(0.9*n_samples):,:]\n"
      ],
      "execution_count": 30,
      "outputs": []
    },
    {
      "cell_type": "markdown",
      "metadata": {
        "id": "9JV-pBhMEh_W"
      },
      "source": [
        "##**4.3 Build the MLP model:**"
      ]
    },
    {
      "cell_type": "markdown",
      "metadata": {
        "id": "Ags4rfb1d076"
      },
      "source": [
        "**4.3.1 Define the model and training principles**"
      ]
    },
    {
      "cell_type": "code",
      "metadata": {
        "id": "B6KnZBNQE2O6"
      },
      "source": [
        "class MLP(nn.Module):\n",
        "  def __init__(self,n_input=18,n_layers=2,n_neurons=[18,18]):\n",
        "    super().__init__()\n",
        "    self.n_input=n_input\n",
        "    self.n_layers=n_layers\n",
        "    self.n_neurons=n_neurons\n",
        "    self.layer1 = nn.Linear(self.n_input,self.n_neurons[0],bias=True)\n",
        "    self.layer2 = nn.Linear(self.n_neurons[0], self.n_neurons[1],bias=False)\n",
        "    self.layer3 = nn.Linear(self.n_neurons[1], 1, bias=True)\n",
        "    self.relu=nn.ReLU()\n",
        "    \n",
        "  def forward(self,x):\n",
        "    x=self.layer1(x)\n",
        "    x=self.relu(x)\n",
        "    x=self.layer2(x)\n",
        "    x=self.relu(x)\n",
        "    x=self.layer3(x)\n",
        "    return x\n",
        "mlp=MLP()"
      ],
      "execution_count": 31,
      "outputs": []
    },
    {
      "cell_type": "code",
      "metadata": {
        "id": "bbHnwg9PX1rZ"
      },
      "source": [
        "criterion = nn.SmoothL1Loss(beta=0.1)\n",
        "optimizer = torch.optim.Adam(mlp.parameters())"
      ],
      "execution_count": 32,
      "outputs": []
    },
    {
      "cell_type": "code",
      "metadata": {
        "id": "VnSvsy40mffz"
      },
      "source": [
        "config={\"num_epochs\":64}"
      ],
      "execution_count": 33,
      "outputs": []
    },
    {
      "cell_type": "code",
      "metadata": {
        "colab": {
          "base_uri": "https://localhost:8080/"
        },
        "id": "GmiKGeJ0pV3R",
        "outputId": "e5e987a0-40e6-457f-aca6-08dddfa8ac6e"
      },
      "source": [
        "mlp.double()"
      ],
      "execution_count": 34,
      "outputs": [
        {
          "output_type": "execute_result",
          "data": {
            "text/plain": [
              "MLP(\n",
              "  (layer1): Linear(in_features=18, out_features=18, bias=True)\n",
              "  (layer2): Linear(in_features=18, out_features=18, bias=False)\n",
              "  (layer3): Linear(in_features=18, out_features=1, bias=True)\n",
              "  (relu): ReLU()\n",
              ")"
            ]
          },
          "metadata": {
            "tags": []
          },
          "execution_count": 34
        }
      ]
    },
    {
      "cell_type": "markdown",
      "metadata": {
        "id": "gTzJNuK-d9Yv"
      },
      "source": [
        "**4.3.2 Train the model**"
      ]
    },
    {
      "cell_type": "code",
      "metadata": {
        "colab": {
          "base_uri": "https://localhost:8080/"
        },
        "id": "xdCP38CJZOgq",
        "outputId": "72a216c2-7af4-4e5e-e70e-4123f427648c"
      },
      "source": [
        "losses = []\n",
        "eval_losses = []\n",
        "test_losses = []\n",
        "for epoch in range(config[\"num_epochs\"]):\n",
        "    running_loss = 0.0\n",
        "    np.random.seed(i)\n",
        "    np.random.shuffle(train)\n",
        "    for i in range(train.shape[0]):\n",
        "      in_vec, target = train[i,:18],train[i,18]\n",
        "      in_vec = torch.from_numpy(in_vec)\n",
        "      target = torch.tensor(target)\n",
        "      optimizer.zero_grad() \n",
        "      \n",
        "      outputs = mlp(in_vec)\n",
        "      loss = criterion(outputs, target)\n",
        "      \n",
        "      loss.backward()\n",
        "      optimizer.step()\n",
        "\n",
        "      running_loss += loss.item()\n",
        "    \n",
        "    eval_loss = 0.0\n",
        "    for i in range(val.shape[0]):\n",
        "      eval_loss += criterion(mlp(torch.from_numpy(val[i,:18])), torch.tensor(val[i,18]))\n",
        "    \n",
        "    test_loss = 0.0\n",
        "    for i in range(test.shape[0]):\n",
        "      test_loss += criterion(mlp(torch.from_numpy(test[i,:18])), torch.tensor(test[i,18]))\n",
        "    \n",
        "    print(f'epoch:{epoch} loss:{running_loss}, evaluation loss:{eval_loss}, test loss:{test_loss}')\n",
        "    losses.append(running_loss)\n",
        "    eval_losses.append(eval_loss)\n",
        "    test_losses.append(test_loss)"
      ],
      "execution_count": 35,
      "outputs": [
        {
          "output_type": "stream",
          "text": [
            "/usr/local/lib/python3.7/dist-packages/torch/nn/modules/loss.py:907: UserWarning: Using a target size (torch.Size([])) that is different to the input size (torch.Size([1])). This will likely lead to incorrect results due to broadcasting. Please ensure they have the same size.\n",
            "  return F.smooth_l1_loss(input, target, reduction=self.reduction, beta=self.beta)\n"
          ],
          "name": "stderr"
        },
        {
          "output_type": "stream",
          "text": [
            "epoch:0 loss:15.823515116002998, evaluation loss:0.2131401233773869, test loss:0.20815915835048857\n",
            "epoch:1 loss:4.064202302431786, evaluation loss:0.2907677347264079, test loss:0.3611363289249328\n",
            "epoch:2 loss:3.3529743408081885, evaluation loss:0.1530852186154545, test loss:0.1693560040615477\n",
            "epoch:3 loss:2.7820664571494227, evaluation loss:0.07587296730685474, test loss:0.07454743447103448\n",
            "epoch:4 loss:2.5539665512399017, evaluation loss:0.1874134714454568, test loss:0.2187885817594647\n",
            "epoch:5 loss:2.583138092496746, evaluation loss:1.1735399608818442, test loss:1.263189928945402\n",
            "epoch:6 loss:2.346097388428448, evaluation loss:0.1310874311141627, test loss:0.15630920348677135\n",
            "epoch:7 loss:2.3659514564363966, evaluation loss:0.06417927388317742, test loss:0.06266592093519764\n",
            "epoch:8 loss:1.8763340601027374, evaluation loss:0.08145148997125765, test loss:0.07441686356662922\n",
            "epoch:9 loss:1.8175687494207815, evaluation loss:0.3093343783004036, test loss:0.30309031193648805\n",
            "epoch:10 loss:2.1174240901594894, evaluation loss:0.06602042661547262, test loss:0.06212223454826704\n",
            "epoch:11 loss:1.726934547337752, evaluation loss:0.06892281392676551, test loss:0.06233173882765015\n",
            "epoch:12 loss:2.050807532430715, evaluation loss:0.07625188652742168, test loss:0.08936665206409604\n",
            "epoch:13 loss:1.819291638950911, evaluation loss:0.12033677124719795, test loss:0.11949029455975536\n",
            "epoch:14 loss:1.6166340278402236, evaluation loss:0.04839058869767784, test loss:0.04460874970443913\n",
            "epoch:15 loss:1.9181724272839316, evaluation loss:0.08627463326543214, test loss:0.10624976434581852\n",
            "epoch:16 loss:1.5733269837376924, evaluation loss:0.07925229453405752, test loss:0.07467923194708197\n",
            "epoch:17 loss:2.009743760772747, evaluation loss:0.0918394444593302, test loss:0.10906134326272979\n",
            "epoch:18 loss:1.5912237273860128, evaluation loss:0.0728051020026549, test loss:0.07072685447084773\n",
            "epoch:19 loss:1.448310026973667, evaluation loss:0.03416115470242061, test loss:0.04099543475080921\n",
            "epoch:20 loss:1.6001108253323537, evaluation loss:0.06061098121519418, test loss:0.06131474821751934\n",
            "epoch:21 loss:1.5909452266157937, evaluation loss:0.05217441206655715, test loss:0.05915611524225561\n",
            "epoch:22 loss:1.344333747265558, evaluation loss:0.27554580643906645, test loss:0.34835551972982476\n",
            "epoch:23 loss:1.4562361862857784, evaluation loss:0.09630903730735099, test loss:0.10939861228511724\n",
            "epoch:24 loss:1.4122604043993965, evaluation loss:0.04841478068749184, test loss:0.049909005847838035\n",
            "epoch:25 loss:1.2948192912595042, evaluation loss:0.033839033563340434, test loss:0.03983196444650026\n",
            "epoch:26 loss:1.3520130828683197, evaluation loss:0.03585742435744066, test loss:0.04220203147512919\n",
            "epoch:27 loss:1.1543816575791062, evaluation loss:0.028606077625797855, test loss:0.029197587687415198\n",
            "epoch:28 loss:1.2930700815328025, evaluation loss:0.10226736743483572, test loss:0.13026070947458052\n",
            "epoch:29 loss:1.2127273650200743, evaluation loss:0.02628472454953428, test loss:0.03353010704785369\n",
            "epoch:30 loss:1.5500915295857722, evaluation loss:0.09798706722713933, test loss:0.1062414188545626\n",
            "epoch:31 loss:1.163403921446019, evaluation loss:0.18604588240538125, test loss:0.20272658676869845\n",
            "epoch:32 loss:1.1782917534999398, evaluation loss:0.03559860977639786, test loss:0.04493354918751089\n",
            "epoch:33 loss:1.1475394177203484, evaluation loss:0.025952863251404792, test loss:0.030580131497273882\n",
            "epoch:34 loss:1.2649622250085417, evaluation loss:0.04831612101679096, test loss:0.05478855887186146\n",
            "epoch:35 loss:1.1271408863099643, evaluation loss:0.024561961981404184, test loss:0.03802845528137989\n",
            "epoch:36 loss:1.2255888003670588, evaluation loss:0.1509397546744312, test loss:0.17687303846844069\n",
            "epoch:37 loss:1.019598653761352, evaluation loss:0.11435708499388635, test loss:0.14887972849044795\n",
            "epoch:38 loss:1.2409232494038622, evaluation loss:0.14054561610824934, test loss:0.1538164122999157\n",
            "epoch:39 loss:1.00669987094373, evaluation loss:0.08283383274359886, test loss:0.10309519897997252\n",
            "epoch:40 loss:1.011479124072297, evaluation loss:0.2059848382061215, test loss:0.22492966015956983\n",
            "epoch:41 loss:1.0210986502979051, evaluation loss:0.021914951590583032, test loss:0.02242965286321678\n",
            "epoch:42 loss:1.0311525310498855, evaluation loss:0.10741495708411508, test loss:0.1293647700158807\n",
            "epoch:43 loss:1.0630345906424872, evaluation loss:0.04638023014348228, test loss:0.04851355185156319\n",
            "epoch:44 loss:0.892241846159763, evaluation loss:0.023545843676101026, test loss:0.030657179030601635\n",
            "epoch:45 loss:0.9849847317807854, evaluation loss:0.022631240324292895, test loss:0.02776702734725225\n",
            "epoch:46 loss:0.9939341217272599, evaluation loss:0.036724633697357255, test loss:0.04114331056306478\n",
            "epoch:47 loss:0.9343972126529052, evaluation loss:0.06439667786916699, test loss:0.07302121978706065\n",
            "epoch:48 loss:0.8725432812837663, evaluation loss:0.12613818023487414, test loss:0.14125939948097133\n",
            "epoch:49 loss:0.9988658346085387, evaluation loss:0.025425497547720274, test loss:0.029975055686450543\n",
            "epoch:50 loss:0.8743974143698845, evaluation loss:0.03380440374982937, test loss:0.0404309772996505\n",
            "epoch:51 loss:0.8494123727232875, evaluation loss:0.029497291977663275, test loss:0.03393774495013016\n",
            "epoch:52 loss:0.8980013274576851, evaluation loss:0.030707192134872153, test loss:0.04217387583569105\n",
            "epoch:53 loss:0.7330166257617124, evaluation loss:0.025960831565105893, test loss:0.031198239685856125\n",
            "epoch:54 loss:0.9401970079766795, evaluation loss:0.10056785950487183, test loss:0.10750775234275577\n",
            "epoch:55 loss:0.8097558469468983, evaluation loss:0.02799364732273844, test loss:0.035778764645568034\n",
            "epoch:56 loss:0.854122738014179, evaluation loss:0.13857634833052568, test loss:0.1561889487972813\n",
            "epoch:57 loss:0.8806042711519614, evaluation loss:0.08485816004044472, test loss:0.10445582529767512\n",
            "epoch:58 loss:0.9592311945823261, evaluation loss:0.031800298985956314, test loss:0.042417746698877275\n",
            "epoch:59 loss:0.9060497233196558, evaluation loss:0.09288029284881376, test loss:0.11218066600092987\n",
            "epoch:60 loss:0.7998146632436788, evaluation loss:0.023008019939098148, test loss:0.029682729741295714\n",
            "epoch:61 loss:0.8245913274000254, evaluation loss:0.028759080261163413, test loss:0.03510766129792567\n",
            "epoch:62 loss:0.855257652259029, evaluation loss:0.025754133271206306, test loss:0.03286672772694493\n",
            "epoch:63 loss:0.7879776199562958, evaluation loss:0.017921585445105897, test loss:0.02368899263154525\n"
          ],
          "name": "stdout"
        }
      ]
    },
    {
      "cell_type": "markdown",
      "metadata": {
        "id": "5zEMAc3k7Phl"
      },
      "source": [
        "The accumulated training loss per epoch:"
      ]
    },
    {
      "cell_type": "code",
      "metadata": {
        "colab": {
          "base_uri": "https://localhost:8080/",
          "height": 279
        },
        "id": "PElINeYkKtad",
        "outputId": "34d2dc66-6b8e-407c-c3d8-c16a7d2febc7"
      },
      "source": [
        "plt.plot(losses)\n",
        "plt.xlabel(\"epoch\")\n",
        "plt.show()"
      ],
      "execution_count": 36,
      "outputs": [
        {
          "output_type": "display_data",
          "data": {
            "image/png": "[encoded data removed]",
            "text/plain": [
              "<Figure size 432x288 with 1 Axes>"
            ]
          },
          "metadata": {
            "tags": [],
            "needs_background": "light"
          }
        }
      ]
    },
    {
      "cell_type": "markdown",
      "metadata": {
        "id": "ra2mgN6N7Z4c"
      },
      "source": [
        "The accumulated evaluation loss and test loss per epoch:<br/>\n",
        "(Since the number of samples for evaluation and test are a lot samller than the number of training samples, the accumulated loss is smaller)"
      ]
    },
    {
      "cell_type": "code",
      "metadata": {
        "colab": {
          "base_uri": "https://localhost:8080/",
          "height": 279
        },
        "id": "OQCkWXAq7B7m",
        "outputId": "1a2ee342-d015-4aeb-ae8e-5faea892d5cb"
      },
      "source": [
        "plt.plot(eval_losses)\n",
        "plt.plot(test_losses)\n",
        "plt.xlabel(\"epoch\")\n",
        "plt.show()"
      ],
      "execution_count": 37,
      "outputs": [
        {
          "output_type": "display_data",
          "data": {
            "image/png": "[encoded data removed]",
            "text/plain": [
              "<Figure size 432x288 with 1 Axes>"
            ]
          },
          "metadata": {
            "tags": [],
            "needs_background": "light"
          }
        }
      ]
    },
    {
      "cell_type": "markdown",
      "metadata": {
        "id": "URFG1_BTc2sW"
      },
      "source": [
        "# **5. Visualization and Report Findings**"
      ]
    },
    {
      "cell_type": "markdown",
      "metadata": {
        "id": "zpEux4ad8cBE"
      },
      "source": [
        "In this project, we looked at the Covid-19 dataset and analyzed the variables which are highly related to the increase of pandemic, and used these variables to build a model predicting the increasing cases of infections for the future.<br/><br/>\n",
        "To illustrate how well our model performs, we give a concrete example of the United States to visualize our model's prediction in comparison to the ground truth. "
      ]
    },
    {
      "cell_type": "markdown",
      "metadata": {
        "id": "X5_w-pe25lfO"
      },
      "source": [
        "##**5.1 concrete case visualization: the United States**"
      ]
    },
    {
      "cell_type": "markdown",
      "metadata": {
        "id": "f5VLCTApY7k7"
      },
      "source": [
        "**5.1.1 Compute the prediction for every date:**<br/>\n",
        "Principle: If any input variable is missing, then the prediction for this date is not done and simply assigned NaN."
      ]
    },
    {
      "cell_type": "code",
      "metadata": {
        "id": "-FtDM9a4HE5h"
      },
      "source": [
        "df_current=df_us\n",
        "for i in range(16,df_current.shape[0]):\n",
        "  inputs=[]\n",
        "  if np.isnan(df_current.iat[i-1,4]):\n",
        "    continue\n",
        "  inputs.append(df_current.iat[i-1,4])\n",
        "  check=1\n",
        "  for j in range(1,16):\n",
        "    if np.isnan(df_current.iat[i-j,6]):\n",
        "      check=0\n",
        "    else:\n",
        "      inputs.append(df_current.iat[i-j,6])\n",
        "  inputs.append(df_current.iat[i-1,35])\n",
        "  inputs.append(df_current.iat[i-1,44])\n",
        "\n",
        "  if check==1:\n",
        "    inputs.append(0)\n",
        "    inputs=(inputs-MIN)/(MAX-MIN)\n",
        "    inputs=inputs[:18]\n",
        "    inputs=torch.tensor(inputs)\n",
        "    outputs=mlp(inputs)\n",
        "    outputs=outputs.detach().numpy()\n",
        "    outputs=outputs*(MAX[18]-MIN[18])+MIN[18]\n",
        "    df_current.iat[i,60]=outputs"
      ],
      "execution_count": 64,
      "outputs": []
    },
    {
      "cell_type": "markdown",
      "metadata": {
        "id": "w0bmwulfX4Uy"
      },
      "source": [
        "**5.1.2 Table Comparison between the prediction and GroundTruth:**"
      ]
    },
    {
      "cell_type": "code",
      "metadata": {
        "id": "ON1xTxrAhZKy"
      },
      "source": [
        "def InverseDF(df):\n",
        "  return pd.DataFrame(df.values.T, index=df.columns, columns=df.index)"
      ],
      "execution_count": 123,
      "outputs": []
    },
    {
      "cell_type": "code",
      "metadata": {
        "id": "K83jofxJX73u"
      },
      "source": [
        "df_current=df_current[~np.isnan(df_current['prediction'])]\n"
      ],
      "execution_count": 117,
      "outputs": []
    },
    {
      "cell_type": "code",
      "metadata": {
        "id": "cVjQpszWgQNV"
      },
      "source": [
        "df_current=df_current.loc[:,['new_cases','new_cases_smoothed','prediction']]"
      ],
      "execution_count": 121,
      "outputs": []
    },
    {
      "cell_type": "code",
      "metadata": {
        "colab": {
          "base_uri": "https://localhost:8080/",
          "height": 191
        },
        "id": "unJ6krtEhTbH",
        "outputId": "7ea56163-eddc-4e95-f3ee-4f278a7af73c"
      },
      "source": [
        "df_current=InverseDF(df_current)"
      ],
      "execution_count": 124,
      "outputs": [
        {
          "output_type": "execute_result",
          "data": {
            "text/html": [
              "<div>\n",
              "<style scoped>\n",
              "    .dataframe tbody tr th:only-of-type {\n",
              "        vertical-align: middle;\n",
              "    }\n",
              "\n",
              "    .dataframe tbody tr th {\n",
              "        vertical-align: top;\n",
              "    }\n",
              "\n",
              "    .dataframe thead th {\n",
              "        text-align: right;\n",
              "    }\n",
              "</style>\n",
              "<table border=\"1\" class=\"dataframe\">\n",
              "  <thead>\n",
              "    <tr style=\"text-align: right;\">\n",
              "      <th></th>\n",
              "      <th>90045</th>\n",
              "      <th>90046</th>\n",
              "      <th>90048</th>\n",
              "      <th>90051</th>\n",
              "      <th>90053</th>\n",
              "      <th>90055</th>\n",
              "      <th>90058</th>\n",
              "      <th>90060</th>\n",
              "      <th>90061</th>\n",
              "      <th>90062</th>\n",
              "      <th>90063</th>\n",
              "      <th>90064</th>\n",
              "      <th>90067</th>\n",
              "      <th>90068</th>\n",
              "      <th>90070</th>\n",
              "      <th>90071</th>\n",
              "      <th>90075</th>\n",
              "      <th>90076</th>\n",
              "      <th>90077</th>\n",
              "      <th>90078</th>\n",
              "      <th>90079</th>\n",
              "      <th>90080</th>\n",
              "      <th>90081</th>\n",
              "      <th>90082</th>\n",
              "      <th>90083</th>\n",
              "      <th>90084</th>\n",
              "      <th>90085</th>\n",
              "      <th>90086</th>\n",
              "      <th>90087</th>\n",
              "      <th>90088</th>\n",
              "      <th>90089</th>\n",
              "      <th>90090</th>\n",
              "      <th>90091</th>\n",
              "      <th>90092</th>\n",
              "      <th>90093</th>\n",
              "      <th>90094</th>\n",
              "      <th>90095</th>\n",
              "      <th>90096</th>\n",
              "      <th>90097</th>\n",
              "      <th>90098</th>\n",
              "      <th>...</th>\n",
              "      <th>90175</th>\n",
              "      <th>90176</th>\n",
              "      <th>90177</th>\n",
              "      <th>90178</th>\n",
              "      <th>90179</th>\n",
              "      <th>90180</th>\n",
              "      <th>90181</th>\n",
              "      <th>90182</th>\n",
              "      <th>90183</th>\n",
              "      <th>90184</th>\n",
              "      <th>90185</th>\n",
              "      <th>90186</th>\n",
              "      <th>90187</th>\n",
              "      <th>90188</th>\n",
              "      <th>90189</th>\n",
              "      <th>90190</th>\n",
              "      <th>90191</th>\n",
              "      <th>90192</th>\n",
              "      <th>90193</th>\n",
              "      <th>90194</th>\n",
              "      <th>90195</th>\n",
              "      <th>90196</th>\n",
              "      <th>90197</th>\n",
              "      <th>90198</th>\n",
              "      <th>90199</th>\n",
              "      <th>90200</th>\n",
              "      <th>90201</th>\n",
              "      <th>90202</th>\n",
              "      <th>90203</th>\n",
              "      <th>90204</th>\n",
              "      <th>90205</th>\n",
              "      <th>90206</th>\n",
              "      <th>90208</th>\n",
              "      <th>90209</th>\n",
              "      <th>90210</th>\n",
              "      <th>90211</th>\n",
              "      <th>90212</th>\n",
              "      <th>90213</th>\n",
              "      <th>90214</th>\n",
              "      <th>90215</th>\n",
              "    </tr>\n",
              "  </thead>\n",
              "  <tbody>\n",
              "    <tr>\n",
              "      <th>new_cases</th>\n",
              "      <td>198703.000000</td>\n",
              "      <td>198107.000000</td>\n",
              "      <td>194155.000000</td>\n",
              "      <td>155845.000000</td>\n",
              "      <td>200408.000000</td>\n",
              "      <td>235600.000000</td>\n",
              "      <td>208853.000000</td>\n",
              "      <td>235042.000000</td>\n",
              "      <td>255637.000000</td>\n",
              "      <td>278337.00000</td>\n",
              "      <td>295257.000000</td>\n",
              "      <td>260967.000000</td>\n",
              "      <td>226967.000000</td>\n",
              "      <td>230301.000000</td>\n",
              "      <td>242780.000000</td>\n",
              "      <td>201858.000000</td>\n",
              "      <td>183261.00000</td>\n",
              "      <td>193856.000000</td>\n",
              "      <td>190760.00000</td>\n",
              "      <td>170759.000000</td>\n",
              "      <td>131198.000000</td>\n",
              "      <td>151677.000000</td>\n",
              "      <td>147626.000000</td>\n",
              "      <td>153961.000000</td>\n",
              "      <td>168804.000000</td>\n",
              "      <td>166613.000000</td>\n",
              "      <td>142459.000000</td>\n",
              "      <td>112152.0000</td>\n",
              "      <td>134975.000000</td>\n",
              "      <td>115303.000000</td>\n",
              "      <td>121691.000000</td>\n",
              "      <td>124006.00000</td>\n",
              "      <td>134422.000000</td>\n",
              "      <td>104176.000000</td>\n",
              "      <td>89746.00000</td>\n",
              "      <td>90438.000000</td>\n",
              "      <td>95265.000000</td>\n",
              "      <td>95250.000000</td>\n",
              "      <td>105764.000000</td>\n",
              "      <td>99670.000000</td>\n",
              "      <td>...</td>\n",
              "      <td>57920.000000</td>\n",
              "      <td>45383.00000</td>\n",
              "      <td>29404.000000</td>\n",
              "      <td>50492.000000</td>\n",
              "      <td>40716.000000</td>\n",
              "      <td>44713.000000</td>\n",
              "      <td>47552.000000</td>\n",
              "      <td>48137.000000</td>\n",
              "      <td>33676.000000</td>\n",
              "      <td>21430.000000</td>\n",
              "      <td>36804.000000</td>\n",
              "      <td>33644.00000</td>\n",
              "      <td>35839.000000</td>\n",
              "      <td>38076.000000</td>\n",
              "      <td>42259.000000</td>\n",
              "      <td>28854.000000</td>\n",
              "      <td>16887.00000</td>\n",
              "      <td>28622.000000</td>\n",
              "      <td>27790.000000</td>\n",
              "      <td>29293.000000</td>\n",
              "      <td>30208.000000</td>\n",
              "      <td>27952.000000</td>\n",
              "      <td>19799.000000</td>\n",
              "      <td>12866.000000</td>\n",
              "      <td>25819.000000</td>\n",
              "      <td>22739.000000</td>\n",
              "      <td>23972.000000</td>\n",
              "      <td>27454.000000</td>\n",
              "      <td>21858.000000</td>\n",
              "      <td>11999.000000</td>\n",
              "      <td>6733.000000</td>\n",
              "      <td>5776.000000</td>\n",
              "      <td>16913.000000</td>\n",
              "      <td>19074.000000</td>\n",
              "      <td>16860.000000</td>\n",
              "      <td>13908.000000</td>\n",
              "      <td>5395.000000</td>\n",
              "      <td>15496.000000</td>\n",
              "      <td>15150.000000</td>\n",
              "      <td>18647.000000</td>\n",
              "    </tr>\n",
              "    <tr>\n",
              "      <th>new_cases_smoothed</th>\n",
              "      <td>218026.857000</td>\n",
              "      <td>216471.857000</td>\n",
              "      <td>207505.429000</td>\n",
              "      <td>185818.571000</td>\n",
              "      <td>182640.000000</td>\n",
              "      <td>189143.143000</td>\n",
              "      <td>215298.857000</td>\n",
              "      <td>221654.143000</td>\n",
              "      <td>224787.857000</td>\n",
              "      <td>230893.14300</td>\n",
              "      <td>251084.714000</td>\n",
              "      <td>245442.571000</td>\n",
              "      <td>249320.571000</td>\n",
              "      <td>245701.143000</td>\n",
              "      <td>232122.857000</td>\n",
              "      <td>223678.714000</td>\n",
              "      <td>194487.14300</td>\n",
              "      <td>188500.000000</td>\n",
              "      <td>181068.57100</td>\n",
              "      <td>176625.857000</td>\n",
              "      <td>169949.714000</td>\n",
              "      <td>171103.857000</td>\n",
              "      <td>167019.571000</td>\n",
              "      <td>162833.857000</td>\n",
              "      <td>159255.000000</td>\n",
              "      <td>155805.429000</td>\n",
              "      <td>151762.571000</td>\n",
              "      <td>149041.7140</td>\n",
              "      <td>146655.714000</td>\n",
              "      <td>142038.143000</td>\n",
              "      <td>137428.143000</td>\n",
              "      <td>131028.42900</td>\n",
              "      <td>126429.714000</td>\n",
              "      <td>120960.714000</td>\n",
              "      <td>117759.85700</td>\n",
              "      <td>111397.429000</td>\n",
              "      <td>108534.857000</td>\n",
              "      <td>104757.571000</td>\n",
              "      <td>102151.571000</td>\n",
              "      <td>97187.000000</td>\n",
              "      <td>...</td>\n",
              "      <td>50768.571000</td>\n",
              "      <td>49610.14300</td>\n",
              "      <td>49215.714000</td>\n",
              "      <td>49633.714000</td>\n",
              "      <td>48187.286000</td>\n",
              "      <td>46697.571000</td>\n",
              "      <td>45168.571000</td>\n",
              "      <td>43771.000000</td>\n",
              "      <td>42098.571000</td>\n",
              "      <td>40959.429000</td>\n",
              "      <td>39004.000000</td>\n",
              "      <td>37993.71400</td>\n",
              "      <td>36726.000000</td>\n",
              "      <td>35372.286000</td>\n",
              "      <td>34532.571000</td>\n",
              "      <td>33843.714000</td>\n",
              "      <td>33194.71400</td>\n",
              "      <td>32025.857000</td>\n",
              "      <td>31189.571000</td>\n",
              "      <td>30254.429000</td>\n",
              "      <td>29130.429000</td>\n",
              "      <td>27086.571000</td>\n",
              "      <td>25793.000000</td>\n",
              "      <td>25218.571000</td>\n",
              "      <td>24818.143000</td>\n",
              "      <td>24096.571000</td>\n",
              "      <td>23336.429000</td>\n",
              "      <td>22943.000000</td>\n",
              "      <td>22072.429000</td>\n",
              "      <td>20958.143000</td>\n",
              "      <td>20082.000000</td>\n",
              "      <td>17218.714000</td>\n",
              "      <td>16239.429000</td>\n",
              "      <td>15042.286000</td>\n",
              "      <td>14328.286000</td>\n",
              "      <td>14601.000000</td>\n",
              "      <td>14409.857000</td>\n",
              "      <td>15798.429000</td>\n",
              "      <td>14685.143000</td>\n",
              "      <td>14932.857000</td>\n",
              "    </tr>\n",
              "    <tr>\n",
              "      <th>prediction</th>\n",
              "      <td>217193.891918</td>\n",
              "      <td>216678.055758</td>\n",
              "      <td>213366.296819</td>\n",
              "      <td>185262.060088</td>\n",
              "      <td>177827.170469</td>\n",
              "      <td>177679.183741</td>\n",
              "      <td>202169.408409</td>\n",
              "      <td>219886.169383</td>\n",
              "      <td>223304.611451</td>\n",
              "      <td>226438.85337</td>\n",
              "      <td>232378.254196</td>\n",
              "      <td>245998.179809</td>\n",
              "      <td>252356.984837</td>\n",
              "      <td>252803.761373</td>\n",
              "      <td>243415.499185</td>\n",
              "      <td>234829.784913</td>\n",
              "      <td>198686.44904</td>\n",
              "      <td>191061.826628</td>\n",
              "      <td>183195.53301</td>\n",
              "      <td>176416.357421</td>\n",
              "      <td>171486.048869</td>\n",
              "      <td>165582.631851</td>\n",
              "      <td>164205.662259</td>\n",
              "      <td>162016.244494</td>\n",
              "      <td>159267.498504</td>\n",
              "      <td>156092.383648</td>\n",
              "      <td>153145.710045</td>\n",
              "      <td>149259.2824</td>\n",
              "      <td>146218.579941</td>\n",
              "      <td>143765.941917</td>\n",
              "      <td>140342.175159</td>\n",
              "      <td>135986.83083</td>\n",
              "      <td>130010.853395</td>\n",
              "      <td>124782.735359</td>\n",
              "      <td>119494.03898</td>\n",
              "      <td>115027.569919</td>\n",
              "      <td>109572.095938</td>\n",
              "      <td>105773.685663</td>\n",
              "      <td>102050.213972</td>\n",
              "      <td>99441.346325</td>\n",
              "      <td>...</td>\n",
              "      <td>50852.802773</td>\n",
              "      <td>50133.39898</td>\n",
              "      <td>49214.256073</td>\n",
              "      <td>48644.247531</td>\n",
              "      <td>48882.646657</td>\n",
              "      <td>48282.051018</td>\n",
              "      <td>47153.297452</td>\n",
              "      <td>45782.870509</td>\n",
              "      <td>44129.637447</td>\n",
              "      <td>42273.762321</td>\n",
              "      <td>40851.125751</td>\n",
              "      <td>39114.12903</td>\n",
              "      <td>37800.239645</td>\n",
              "      <td>36490.819062</td>\n",
              "      <td>35215.847806</td>\n",
              "      <td>34322.028063</td>\n",
              "      <td>33665.78872</td>\n",
              "      <td>33015.867286</td>\n",
              "      <td>32154.490168</td>\n",
              "      <td>31324.884307</td>\n",
              "      <td>30445.899233</td>\n",
              "      <td>29459.980163</td>\n",
              "      <td>27750.102188</td>\n",
              "      <td>26120.618171</td>\n",
              "      <td>25109.604666</td>\n",
              "      <td>24561.665126</td>\n",
              "      <td>24018.166266</td>\n",
              "      <td>23474.473012</td>\n",
              "      <td>23109.340021</td>\n",
              "      <td>22501.217309</td>\n",
              "      <td>21541.402418</td>\n",
              "      <td>20589.534126</td>\n",
              "      <td>17338.597138</td>\n",
              "      <td>16246.538022</td>\n",
              "      <td>15322.864054</td>\n",
              "      <td>14463.319801</td>\n",
              "      <td>14417.586274</td>\n",
              "      <td>14463.606125</td>\n",
              "      <td>15630.616408</td>\n",
              "      <td>15780.065841</td>\n",
              "    </tr>\n",
              "  </tbody>\n",
              "</table>\n",
              "<p>3 rows × 155 columns</p>\n",
              "</div>"
            ],
            "text/plain": [
              "                            90045          90046  ...         90214         90215\n",
              "new_cases           198703.000000  198107.000000  ...  15150.000000  18647.000000\n",
              "new_cases_smoothed  218026.857000  216471.857000  ...  14685.143000  14932.857000\n",
              "prediction          217193.891918  216678.055758  ...  15630.616408  15780.065841\n",
              "\n",
              "[3 rows x 155 columns]"
            ]
          },
          "metadata": {
            "tags": []
          },
          "execution_count": 124
        }
      ]
    },
    {
      "cell_type": "markdown",
      "metadata": {
        "id": "uZ9FHjU5iuh7"
      },
      "source": [
        "The column index number(like 90045) is the index of this data in the original dataset."
      ]
    },
    {
      "cell_type": "markdown",
      "metadata": {
        "id": "Exl4IfRBWAl2"
      },
      "source": [
        "**5.1.3 Graph Comparison between the prediction and GroundTruth:**<br/>\n"
      ]
    },
    {
      "cell_type": "code",
      "metadata": {
        "colab": {
          "base_uri": "https://localhost:8080/",
          "height": 387
        },
        "id": "KP-TqVu-OsuD",
        "outputId": "bc0fd872-dd55-424b-b583-287c4ac0afdd"
      },
      "source": [
        "plt.figure(figsize=(8,6))\n",
        "plt.plot(df_us['date'],df_us['new_cases'],label=\"GroundTruth\",color='cyan')\n",
        "plt.plot(df_us['date'],df_us['prediction'],label=\"Prediction\",color='red')\n",
        "plt.legend(loc='upper left', frameon=True)\n",
        "plt.xlabel('Dates from 2020.Feb to 2021.June')\n",
        "plt.ylabel('New Cases per day')\n",
        "plt.title('New Cases per day: Prediction vs. GroundTruth')\n",
        "plt.xticks([])\n",
        "plt.show()"
      ],
      "execution_count": 87,
      "outputs": [
        {
          "output_type": "display_data",
          "data": {
            "image/png": "[encoded data removed]",
            "text/plain": [
              "<Figure size 576x432 with 1 Axes>"
            ]
          },
          "metadata": {
            "tags": [],
            "needs_background": "light"
          }
        }
      ]
    },
    {
      "cell_type": "markdown",
      "metadata": {
        "id": "8MKTCSZaXCJj"
      },
      "source": [
        "**Why are there blank predictions?**<br/>\n",
        "Because:<br/>\n",
        "(1)The first half of dates have no vaccination data, so no predictions.<br/>\n",
        "(2)There are some NaNs between data and data, causing this discontinuity in the prediction line."
      ]
    }
  ]
}