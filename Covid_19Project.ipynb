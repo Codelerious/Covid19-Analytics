{
  "nbformat": 4,
  "nbformat_minor": 0,
  "metadata": {
    "colab": {
      "name": "Covid-19Project.ipynb",
      "provenance": [],
      "collapsed_sections": [
        "bJAGEtPvbKYv",
        "_JkqwFodbzmQ",
        "tSPpGoXlb64W",
        "_nnqO470cqWw",
        "-9hPz1a3lm5l",
        "RB_fr4BeFwKC",
        "9JV-pBhMEh_W",
        "URFG1_BTc2sW",
        "X5_w-pe25lfO",
        "gYKbLz_Bd6B4"
      ],
      "authorship_tag": "ABX9TyPjsEKnwlBjCH4ZMnTVCBbS",
      "include_colab_link": true
    },
    "kernelspec": {
      "name": "python3",
      "display_name": "Python 3"
    },
    "language_info": {
      "name": "python"
    }
  },
  "cells": [
    {
      "cell_type": "markdown",
      "metadata": {
        "id": "view-in-github",
        "colab_type": "text"
      },
      "source": [
        "<a href=\"https://colab.research.google.com/github/kaikai23/Covid19-Group15-BigDataAnalytics/blob/main/Covid_19Project.ipynb\" target=\"_parent\"><img src=\"https://colab.research.google.com/assets/colab-badge.svg\" alt=\"Open In Colab\"/></a>"
      ]
    },
    {
      "cell_type": "markdown",
      "metadata": {
        "id": "bJAGEtPvbKYv"
      },
      "source": [
        "# **1. Loading the Covid-19 Dataset and have a simple look at the data:**"
      ]
    },
    {
      "cell_type": "code",
      "metadata": {
        "id": "Ol0fyVyzH0zF"
      },
      "source": [
        "import pandas as pd\n",
        "import matplotlib.pyplot as plt\n",
        "import numpy as np\n",
        "import torch\n",
        "import torch.nn as nn"
      ],
      "execution_count": 1,
      "outputs": []
    },
    {
      "cell_type": "code",
      "metadata": {
        "colab": {
          "base_uri": "https://localhost:8080/",
          "height": 309
        },
        "id": "T2nIWiEfIVzE",
        "outputId": "4aca87a8-4da6-4b82-9408-b9e15f10d466"
      },
      "source": [
        "df = pd.read_csv(\"https://raw.githubusercontent.com/owid/covid-19-data/master/public/data/owid-covid-data.csv\")\n",
        "df.tail()"
      ],
      "execution_count": 2,
      "outputs": [
        {
          "output_type": "execute_result",
          "data": {
            "text/html": [
              "<div>\n",
              "<style scoped>\n",
              "    .dataframe tbody tr th:only-of-type {\n",
              "        vertical-align: middle;\n",
              "    }\n",
              "\n",
              "    .dataframe tbody tr th {\n",
              "        vertical-align: top;\n",
              "    }\n",
              "\n",
              "    .dataframe thead th {\n",
              "        text-align: right;\n",
              "    }\n",
              "</style>\n",
              "<table border=\"1\" class=\"dataframe\">\n",
              "  <thead>\n",
              "    <tr style=\"text-align: right;\">\n",
              "      <th></th>\n",
              "      <th>iso_code</th>\n",
              "      <th>continent</th>\n",
              "      <th>location</th>\n",
              "      <th>date</th>\n",
              "      <th>total_cases</th>\n",
              "      <th>new_cases</th>\n",
              "      <th>new_cases_smoothed</th>\n",
              "      <th>total_deaths</th>\n",
              "      <th>new_deaths</th>\n",
              "      <th>new_deaths_smoothed</th>\n",
              "      <th>total_cases_per_million</th>\n",
              "      <th>new_cases_per_million</th>\n",
              "      <th>new_cases_smoothed_per_million</th>\n",
              "      <th>total_deaths_per_million</th>\n",
              "      <th>new_deaths_per_million</th>\n",
              "      <th>new_deaths_smoothed_per_million</th>\n",
              "      <th>reproduction_rate</th>\n",
              "      <th>icu_patients</th>\n",
              "      <th>icu_patients_per_million</th>\n",
              "      <th>hosp_patients</th>\n",
              "      <th>hosp_patients_per_million</th>\n",
              "      <th>weekly_icu_admissions</th>\n",
              "      <th>weekly_icu_admissions_per_million</th>\n",
              "      <th>weekly_hosp_admissions</th>\n",
              "      <th>weekly_hosp_admissions_per_million</th>\n",
              "      <th>new_tests</th>\n",
              "      <th>total_tests</th>\n",
              "      <th>total_tests_per_thousand</th>\n",
              "      <th>new_tests_per_thousand</th>\n",
              "      <th>new_tests_smoothed</th>\n",
              "      <th>new_tests_smoothed_per_thousand</th>\n",
              "      <th>positive_rate</th>\n",
              "      <th>tests_per_case</th>\n",
              "      <th>tests_units</th>\n",
              "      <th>total_vaccinations</th>\n",
              "      <th>people_vaccinated</th>\n",
              "      <th>people_fully_vaccinated</th>\n",
              "      <th>new_vaccinations</th>\n",
              "      <th>new_vaccinations_smoothed</th>\n",
              "      <th>total_vaccinations_per_hundred</th>\n",
              "      <th>people_vaccinated_per_hundred</th>\n",
              "      <th>people_fully_vaccinated_per_hundred</th>\n",
              "      <th>new_vaccinations_smoothed_per_million</th>\n",
              "      <th>stringency_index</th>\n",
              "      <th>population</th>\n",
              "      <th>population_density</th>\n",
              "      <th>median_age</th>\n",
              "      <th>aged_65_older</th>\n",
              "      <th>aged_70_older</th>\n",
              "      <th>gdp_per_capita</th>\n",
              "      <th>extreme_poverty</th>\n",
              "      <th>cardiovasc_death_rate</th>\n",
              "      <th>diabetes_prevalence</th>\n",
              "      <th>female_smokers</th>\n",
              "      <th>male_smokers</th>\n",
              "      <th>handwashing_facilities</th>\n",
              "      <th>hospital_beds_per_thousand</th>\n",
              "      <th>life_expectancy</th>\n",
              "      <th>human_development_index</th>\n",
              "      <th>excess_mortality</th>\n",
              "    </tr>\n",
              "  </thead>\n",
              "  <tbody>\n",
              "    <tr>\n",
              "      <th>94862</th>\n",
              "      <td>ZWE</td>\n",
              "      <td>Africa</td>\n",
              "      <td>Zimbabwe</td>\n",
              "      <td>2021-06-06</td>\n",
              "      <td>39189.0</td>\n",
              "      <td>21.0</td>\n",
              "      <td>35.000</td>\n",
              "      <td>1606.0</td>\n",
              "      <td>1.0</td>\n",
              "      <td>1.714</td>\n",
              "      <td>2636.695</td>\n",
              "      <td>1.413</td>\n",
              "      <td>2.355</td>\n",
              "      <td>108.054</td>\n",
              "      <td>0.067</td>\n",
              "      <td>0.115</td>\n",
              "      <td>1.34</td>\n",
              "      <td>NaN</td>\n",
              "      <td>NaN</td>\n",
              "      <td>NaN</td>\n",
              "      <td>NaN</td>\n",
              "      <td>NaN</td>\n",
              "      <td>NaN</td>\n",
              "      <td>NaN</td>\n",
              "      <td>NaN</td>\n",
              "      <td>1048.0</td>\n",
              "      <td>562867.0</td>\n",
              "      <td>37.871</td>\n",
              "      <td>0.071</td>\n",
              "      <td>1955.0</td>\n",
              "      <td>0.132</td>\n",
              "      <td>0.018</td>\n",
              "      <td>55.9</td>\n",
              "      <td>tests performed</td>\n",
              "      <td>1068107.0</td>\n",
              "      <td>687321.0</td>\n",
              "      <td>380786.0</td>\n",
              "      <td>6156.0</td>\n",
              "      <td>8019.0</td>\n",
              "      <td>7.19</td>\n",
              "      <td>4.62</td>\n",
              "      <td>2.56</td>\n",
              "      <td>540.0</td>\n",
              "      <td>48.15</td>\n",
              "      <td>14862927.0</td>\n",
              "      <td>42.729</td>\n",
              "      <td>19.6</td>\n",
              "      <td>2.822</td>\n",
              "      <td>1.882</td>\n",
              "      <td>1899.775</td>\n",
              "      <td>21.4</td>\n",
              "      <td>307.846</td>\n",
              "      <td>1.82</td>\n",
              "      <td>1.6</td>\n",
              "      <td>30.7</td>\n",
              "      <td>36.791</td>\n",
              "      <td>1.7</td>\n",
              "      <td>61.49</td>\n",
              "      <td>0.571</td>\n",
              "      <td>NaN</td>\n",
              "    </tr>\n",
              "    <tr>\n",
              "      <th>94863</th>\n",
              "      <td>ZWE</td>\n",
              "      <td>Africa</td>\n",
              "      <td>Zimbabwe</td>\n",
              "      <td>2021-06-07</td>\n",
              "      <td>39238.0</td>\n",
              "      <td>49.0</td>\n",
              "      <td>39.571</td>\n",
              "      <td>1611.0</td>\n",
              "      <td>5.0</td>\n",
              "      <td>2.429</td>\n",
              "      <td>2639.991</td>\n",
              "      <td>3.297</td>\n",
              "      <td>2.662</td>\n",
              "      <td>108.390</td>\n",
              "      <td>0.336</td>\n",
              "      <td>0.163</td>\n",
              "      <td>1.36</td>\n",
              "      <td>NaN</td>\n",
              "      <td>NaN</td>\n",
              "      <td>NaN</td>\n",
              "      <td>NaN</td>\n",
              "      <td>NaN</td>\n",
              "      <td>NaN</td>\n",
              "      <td>NaN</td>\n",
              "      <td>NaN</td>\n",
              "      <td>2119.0</td>\n",
              "      <td>564986.0</td>\n",
              "      <td>38.013</td>\n",
              "      <td>0.143</td>\n",
              "      <td>2024.0</td>\n",
              "      <td>0.136</td>\n",
              "      <td>0.020</td>\n",
              "      <td>51.1</td>\n",
              "      <td>tests performed</td>\n",
              "      <td>1073971.0</td>\n",
              "      <td>688696.0</td>\n",
              "      <td>385275.0</td>\n",
              "      <td>5864.0</td>\n",
              "      <td>7699.0</td>\n",
              "      <td>7.23</td>\n",
              "      <td>4.63</td>\n",
              "      <td>2.59</td>\n",
              "      <td>518.0</td>\n",
              "      <td>48.15</td>\n",
              "      <td>14862927.0</td>\n",
              "      <td>42.729</td>\n",
              "      <td>19.6</td>\n",
              "      <td>2.822</td>\n",
              "      <td>1.882</td>\n",
              "      <td>1899.775</td>\n",
              "      <td>21.4</td>\n",
              "      <td>307.846</td>\n",
              "      <td>1.82</td>\n",
              "      <td>1.6</td>\n",
              "      <td>30.7</td>\n",
              "      <td>36.791</td>\n",
              "      <td>1.7</td>\n",
              "      <td>61.49</td>\n",
              "      <td>0.571</td>\n",
              "      <td>NaN</td>\n",
              "    </tr>\n",
              "    <tr>\n",
              "      <th>94864</th>\n",
              "      <td>ZWE</td>\n",
              "      <td>Africa</td>\n",
              "      <td>Zimbabwe</td>\n",
              "      <td>2021-06-08</td>\n",
              "      <td>39321.0</td>\n",
              "      <td>83.0</td>\n",
              "      <td>46.143</td>\n",
              "      <td>1617.0</td>\n",
              "      <td>6.0</td>\n",
              "      <td>2.571</td>\n",
              "      <td>2645.576</td>\n",
              "      <td>5.584</td>\n",
              "      <td>3.105</td>\n",
              "      <td>108.794</td>\n",
              "      <td>0.404</td>\n",
              "      <td>0.173</td>\n",
              "      <td>1.37</td>\n",
              "      <td>NaN</td>\n",
              "      <td>NaN</td>\n",
              "      <td>NaN</td>\n",
              "      <td>NaN</td>\n",
              "      <td>NaN</td>\n",
              "      <td>NaN</td>\n",
              "      <td>NaN</td>\n",
              "      <td>NaN</td>\n",
              "      <td>2983.0</td>\n",
              "      <td>567969.0</td>\n",
              "      <td>38.214</td>\n",
              "      <td>0.201</td>\n",
              "      <td>2110.0</td>\n",
              "      <td>0.142</td>\n",
              "      <td>0.022</td>\n",
              "      <td>45.7</td>\n",
              "      <td>tests performed</td>\n",
              "      <td>1078809.0</td>\n",
              "      <td>689397.0</td>\n",
              "      <td>389412.0</td>\n",
              "      <td>4838.0</td>\n",
              "      <td>6790.0</td>\n",
              "      <td>7.26</td>\n",
              "      <td>4.64</td>\n",
              "      <td>2.62</td>\n",
              "      <td>457.0</td>\n",
              "      <td>NaN</td>\n",
              "      <td>14862927.0</td>\n",
              "      <td>42.729</td>\n",
              "      <td>19.6</td>\n",
              "      <td>2.822</td>\n",
              "      <td>1.882</td>\n",
              "      <td>1899.775</td>\n",
              "      <td>21.4</td>\n",
              "      <td>307.846</td>\n",
              "      <td>1.82</td>\n",
              "      <td>1.6</td>\n",
              "      <td>30.7</td>\n",
              "      <td>36.791</td>\n",
              "      <td>1.7</td>\n",
              "      <td>61.49</td>\n",
              "      <td>0.571</td>\n",
              "      <td>NaN</td>\n",
              "    </tr>\n",
              "    <tr>\n",
              "      <th>94865</th>\n",
              "      <td>ZWE</td>\n",
              "      <td>Africa</td>\n",
              "      <td>Zimbabwe</td>\n",
              "      <td>2021-06-09</td>\n",
              "      <td>39432.0</td>\n",
              "      <td>111.0</td>\n",
              "      <td>57.286</td>\n",
              "      <td>1622.0</td>\n",
              "      <td>5.0</td>\n",
              "      <td>3.286</td>\n",
              "      <td>2653.044</td>\n",
              "      <td>7.468</td>\n",
              "      <td>3.854</td>\n",
              "      <td>109.131</td>\n",
              "      <td>0.336</td>\n",
              "      <td>0.221</td>\n",
              "      <td>NaN</td>\n",
              "      <td>NaN</td>\n",
              "      <td>NaN</td>\n",
              "      <td>NaN</td>\n",
              "      <td>NaN</td>\n",
              "      <td>NaN</td>\n",
              "      <td>NaN</td>\n",
              "      <td>NaN</td>\n",
              "      <td>NaN</td>\n",
              "      <td>3427.0</td>\n",
              "      <td>571396.0</td>\n",
              "      <td>38.444</td>\n",
              "      <td>0.231</td>\n",
              "      <td>2231.0</td>\n",
              "      <td>0.150</td>\n",
              "      <td>0.026</td>\n",
              "      <td>38.9</td>\n",
              "      <td>tests performed</td>\n",
              "      <td>1083983.0</td>\n",
              "      <td>689920.0</td>\n",
              "      <td>394063.0</td>\n",
              "      <td>5174.0</td>\n",
              "      <td>6253.0</td>\n",
              "      <td>7.29</td>\n",
              "      <td>4.64</td>\n",
              "      <td>2.65</td>\n",
              "      <td>421.0</td>\n",
              "      <td>NaN</td>\n",
              "      <td>14862927.0</td>\n",
              "      <td>42.729</td>\n",
              "      <td>19.6</td>\n",
              "      <td>2.822</td>\n",
              "      <td>1.882</td>\n",
              "      <td>1899.775</td>\n",
              "      <td>21.4</td>\n",
              "      <td>307.846</td>\n",
              "      <td>1.82</td>\n",
              "      <td>1.6</td>\n",
              "      <td>30.7</td>\n",
              "      <td>36.791</td>\n",
              "      <td>1.7</td>\n",
              "      <td>61.49</td>\n",
              "      <td>0.571</td>\n",
              "      <td>NaN</td>\n",
              "    </tr>\n",
              "    <tr>\n",
              "      <th>94866</th>\n",
              "      <td>ZWE</td>\n",
              "      <td>Africa</td>\n",
              "      <td>Zimbabwe</td>\n",
              "      <td>2021-06-10</td>\n",
              "      <td>39496.0</td>\n",
              "      <td>64.0</td>\n",
              "      <td>57.714</td>\n",
              "      <td>1626.0</td>\n",
              "      <td>4.0</td>\n",
              "      <td>3.143</td>\n",
              "      <td>2657.350</td>\n",
              "      <td>4.306</td>\n",
              "      <td>3.883</td>\n",
              "      <td>109.400</td>\n",
              "      <td>0.269</td>\n",
              "      <td>0.211</td>\n",
              "      <td>NaN</td>\n",
              "      <td>NaN</td>\n",
              "      <td>NaN</td>\n",
              "      <td>NaN</td>\n",
              "      <td>NaN</td>\n",
              "      <td>NaN</td>\n",
              "      <td>NaN</td>\n",
              "      <td>NaN</td>\n",
              "      <td>NaN</td>\n",
              "      <td>2841.0</td>\n",
              "      <td>574237.0</td>\n",
              "      <td>38.636</td>\n",
              "      <td>0.191</td>\n",
              "      <td>2377.0</td>\n",
              "      <td>0.160</td>\n",
              "      <td>0.024</td>\n",
              "      <td>41.2</td>\n",
              "      <td>tests performed</td>\n",
              "      <td>1089506.0</td>\n",
              "      <td>690452.0</td>\n",
              "      <td>399054.0</td>\n",
              "      <td>5523.0</td>\n",
              "      <td>5857.0</td>\n",
              "      <td>7.33</td>\n",
              "      <td>4.65</td>\n",
              "      <td>2.68</td>\n",
              "      <td>394.0</td>\n",
              "      <td>NaN</td>\n",
              "      <td>14862927.0</td>\n",
              "      <td>42.729</td>\n",
              "      <td>19.6</td>\n",
              "      <td>2.822</td>\n",
              "      <td>1.882</td>\n",
              "      <td>1899.775</td>\n",
              "      <td>21.4</td>\n",
              "      <td>307.846</td>\n",
              "      <td>1.82</td>\n",
              "      <td>1.6</td>\n",
              "      <td>30.7</td>\n",
              "      <td>36.791</td>\n",
              "      <td>1.7</td>\n",
              "      <td>61.49</td>\n",
              "      <td>0.571</td>\n",
              "      <td>NaN</td>\n",
              "    </tr>\n",
              "  </tbody>\n",
              "</table>\n",
              "</div>"
            ],
            "text/plain": [
              "      iso_code continent  ... human_development_index excess_mortality\n",
              "94862      ZWE    Africa  ...                   0.571              NaN\n",
              "94863      ZWE    Africa  ...                   0.571              NaN\n",
              "94864      ZWE    Africa  ...                   0.571              NaN\n",
              "94865      ZWE    Africa  ...                   0.571              NaN\n",
              "94866      ZWE    Africa  ...                   0.571              NaN\n",
              "\n",
              "[5 rows x 60 columns]"
            ]
          },
          "metadata": {
            "tags": []
          },
          "execution_count": 2
        }
      ]
    },
    {
      "cell_type": "markdown",
      "metadata": {
        "id": "_JkqwFodbzmQ"
      },
      "source": [
        "# **2. Dataset Description and Processng/Cleaning**"
      ]
    },
    {
      "cell_type": "markdown",
      "metadata": {
        "id": "2BEYFXSpS9Bd"
      },
      "source": [
        "In the dataset, smoothed data such as smoothed new cases and smoothed new deaths are calculated as the average of the last 7 days. For countries that don't report testing data and vaccination data on a daily basis, they are assumed to changed equally on a daily basis over any periods in which no data was reported. This produces a complete series of daily figures, which is then averaged over a rolling 7-day window. Positive rate is the share of COVID-19 tests that are positive, given as a rolling 7-day average, which is the inverse of tests per case.<br/><br/>\n",
        "Stringency index composite governments' measure based on 9 response indicators including school closures, workplace closures, and travel bans, rescaled to a value from 0 to 100 (100 = strictest response). Population density is the number of people divided by land area, measured in square kilometers. The share of the population that is 65 years and older is used as aged 65 older index. Cardiovasc death rate and diabetes prevalence describes the death rate from cardiovascular disease in 2017 (annual number of deaths per 100,000 people) and diabetes prevalence (% of population aged 20 to 79) in 2017, respectively. Handwashing facilities index is the share of the population with basic handwashing facilities on premises.<br/><br/>\n",
        "GDP per capita is the gross domestic product at purchasing power parity (constant 2011 international dollars). Extreme poverty index describes the share of the population living in extreme poverty. Human development index is a composite index measuring average achievement in three basic dimensions of human development — a long and healthy life, knowledge and a decent standard of living.<br/><br/>\n",
        "It is important to note that there are two different concepts in the dataset, the number of vaccines owned by the country or region and the number of people vaccinated in the country or region. In the early days, there were cases where countries or regions had vaccines but did not vaccinate the masses. There are also countries or regions that have vaccines that are not fully used by the population.<br/><br/>\n",
        "On December 15, 2020, the date when the database showed the first people in the world to receive the COVID-19 vaccine was chosen as the starting point for the observation of the data for the analysis of the vaccine on the epidemic. When performing analyses related to vaccines, data prior to December 15, 2020 were generally not considered because there were no records of vaccination prior to that date. Subsequently, all data where the number of people vaccinated was blank were given a 0.<br/><br/>\n",
        "**Please note that the implementatino of  data cleaning and preprocessing are also done in the modelling part. Please refer to \"4.2 Model building--Produce training validation and testing data\" to see all the processing**"
      ]
    },
    {
      "cell_type": "markdown",
      "metadata": {
        "id": "W8wqQksUPf-j"
      },
      "source": [
        "**Arributes of each column and their valid records:**"
      ]
    },
    {
      "cell_type": "code",
      "metadata": {
        "colab": {
          "base_uri": "https://localhost:8080/"
        },
        "id": "jPzuyrxSORM3",
        "outputId": "98fa252b-4db9-4dc3-b42e-8233e76cba4c"
      },
      "source": [
        "df.info()"
      ],
      "execution_count": 3,
      "outputs": [
        {
          "output_type": "stream",
          "text": [
            "<class 'pandas.core.frame.DataFrame'>\n",
            "RangeIndex: 94867 entries, 0 to 94866\n",
            "Data columns (total 60 columns):\n",
            " #   Column                                 Non-Null Count  Dtype  \n",
            "---  ------                                 --------------  -----  \n",
            " 0   iso_code                               94867 non-null  object \n",
            " 1   continent                              90387 non-null  object \n",
            " 2   location                               94867 non-null  object \n",
            " 3   date                                   94867 non-null  object \n",
            " 4   total_cases                            91760 non-null  float64\n",
            " 5   new_cases                              91757 non-null  float64\n",
            " 6   new_cases_smoothed                     90747 non-null  float64\n",
            " 7   total_deaths                           81781 non-null  float64\n",
            " 8   new_deaths                             81937 non-null  float64\n",
            " 9   new_deaths_smoothed                    90747 non-null  float64\n",
            " 10  total_cases_per_million                91270 non-null  float64\n",
            " 11  new_cases_per_million                  91267 non-null  float64\n",
            " 12  new_cases_smoothed_per_million         90262 non-null  float64\n",
            " 13  total_deaths_per_million               81304 non-null  float64\n",
            " 14  new_deaths_per_million                 81460 non-null  float64\n",
            " 15  new_deaths_smoothed_per_million        90262 non-null  float64\n",
            " 16  reproduction_rate                      76311 non-null  float64\n",
            " 17  icu_patients                           9521 non-null   float64\n",
            " 18  icu_patients_per_million               9521 non-null   float64\n",
            " 19  hosp_patients                          11817 non-null  float64\n",
            " 20  hosp_patients_per_million              11817 non-null  float64\n",
            " 21  weekly_icu_admissions                  861 non-null    float64\n",
            " 22  weekly_icu_admissions_per_million      861 non-null    float64\n",
            " 23  weekly_hosp_admissions                 1497 non-null   float64\n",
            " 24  weekly_hosp_admissions_per_million     1497 non-null   float64\n",
            " 25  new_tests                              42932 non-null  float64\n",
            " 26  total_tests                            42625 non-null  float64\n",
            " 27  total_tests_per_thousand               42625 non-null  float64\n",
            " 28  new_tests_per_thousand                 42932 non-null  float64\n",
            " 29  new_tests_smoothed                     49800 non-null  float64\n",
            " 30  new_tests_smoothed_per_thousand        49800 non-null  float64\n",
            " 31  positive_rate                          46972 non-null  float64\n",
            " 32  tests_per_case                         46373 non-null  float64\n",
            " 33  tests_units                            51435 non-null  object \n",
            " 34  total_vaccinations                     14118 non-null  float64\n",
            " 35  people_vaccinated                      13313 non-null  float64\n",
            " 36  people_fully_vaccinated                10544 non-null  float64\n",
            " 37  new_vaccinations                       11798 non-null  float64\n",
            " 38  new_vaccinations_smoothed              24334 non-null  float64\n",
            " 39  total_vaccinations_per_hundred         14118 non-null  float64\n",
            " 40  people_vaccinated_per_hundred          13313 non-null  float64\n",
            " 41  people_fully_vaccinated_per_hundred    10544 non-null  float64\n",
            " 42  new_vaccinations_smoothed_per_million  24334 non-null  float64\n",
            " 43  stringency_index                       79962 non-null  float64\n",
            " 44  population                             94243 non-null  float64\n",
            " 45  population_density                     88200 non-null  float64\n",
            " 46  median_age                             85008 non-null  float64\n",
            " 47  aged_65_older                          84050 non-null  float64\n",
            " 48  aged_70_older                          84537 non-null  float64\n",
            " 49  gdp_per_capita                         85294 non-null  float64\n",
            " 50  extreme_poverty                        57649 non-null  float64\n",
            " 51  cardiovasc_death_rate                  85400 non-null  float64\n",
            " 52  diabetes_prevalence                    87465 non-null  float64\n",
            " 53  female_smokers                         66841 non-null  float64\n",
            " 54  male_smokers                           65862 non-null  float64\n",
            " 55  handwashing_facilities                 42903 non-null  float64\n",
            " 56  hospital_beds_per_thousand             77845 non-null  float64\n",
            " 57  life_expectancy                        90082 non-null  float64\n",
            " 58  human_development_index                85564 non-null  float64\n",
            " 59  excess_mortality                       3344 non-null   float64\n",
            "dtypes: float64(55), object(5)\n",
            "memory usage: 43.4+ MB\n"
          ],
          "name": "stdout"
        }
      ]
    },
    {
      "cell_type": "markdown",
      "metadata": {
        "id": "tSPpGoXlb64W"
      },
      "source": [
        "# **3. Exploratory Data Analysis**"
      ]
    },
    {
      "cell_type": "markdown",
      "metadata": {
        "id": "u-ChHq39Pvjm"
      },
      "source": [
        "**3.1 Statistics of this dataset:**"
      ]
    },
    {
      "cell_type": "code",
      "metadata": {
        "colab": {
          "base_uri": "https://localhost:8080/",
          "height": 317
        },
        "id": "3mEAycGVPCgo",
        "outputId": "08112404-fade-433b-ca02-5148bfde82c7"
      },
      "source": [
        "df.describe()"
      ],
      "execution_count": 4,
      "outputs": [
        {
          "output_type": "execute_result",
          "data": {
            "text/html": [
              "<div>\n",
              "<style scoped>\n",
              "    .dataframe tbody tr th:only-of-type {\n",
              "        vertical-align: middle;\n",
              "    }\n",
              "\n",
              "    .dataframe tbody tr th {\n",
              "        vertical-align: top;\n",
              "    }\n",
              "\n",
              "    .dataframe thead th {\n",
              "        text-align: right;\n",
              "    }\n",
              "</style>\n",
              "<table border=\"1\" class=\"dataframe\">\n",
              "  <thead>\n",
              "    <tr style=\"text-align: right;\">\n",
              "      <th></th>\n",
              "      <th>total_cases</th>\n",
              "      <th>new_cases</th>\n",
              "      <th>new_cases_smoothed</th>\n",
              "      <th>total_deaths</th>\n",
              "      <th>new_deaths</th>\n",
              "      <th>new_deaths_smoothed</th>\n",
              "      <th>total_cases_per_million</th>\n",
              "      <th>new_cases_per_million</th>\n",
              "      <th>new_cases_smoothed_per_million</th>\n",
              "      <th>total_deaths_per_million</th>\n",
              "      <th>new_deaths_per_million</th>\n",
              "      <th>new_deaths_smoothed_per_million</th>\n",
              "      <th>reproduction_rate</th>\n",
              "      <th>icu_patients</th>\n",
              "      <th>icu_patients_per_million</th>\n",
              "      <th>hosp_patients</th>\n",
              "      <th>hosp_patients_per_million</th>\n",
              "      <th>weekly_icu_admissions</th>\n",
              "      <th>weekly_icu_admissions_per_million</th>\n",
              "      <th>weekly_hosp_admissions</th>\n",
              "      <th>weekly_hosp_admissions_per_million</th>\n",
              "      <th>new_tests</th>\n",
              "      <th>total_tests</th>\n",
              "      <th>total_tests_per_thousand</th>\n",
              "      <th>new_tests_per_thousand</th>\n",
              "      <th>new_tests_smoothed</th>\n",
              "      <th>new_tests_smoothed_per_thousand</th>\n",
              "      <th>positive_rate</th>\n",
              "      <th>tests_per_case</th>\n",
              "      <th>total_vaccinations</th>\n",
              "      <th>people_vaccinated</th>\n",
              "      <th>people_fully_vaccinated</th>\n",
              "      <th>new_vaccinations</th>\n",
              "      <th>new_vaccinations_smoothed</th>\n",
              "      <th>total_vaccinations_per_hundred</th>\n",
              "      <th>people_vaccinated_per_hundred</th>\n",
              "      <th>people_fully_vaccinated_per_hundred</th>\n",
              "      <th>new_vaccinations_smoothed_per_million</th>\n",
              "      <th>stringency_index</th>\n",
              "      <th>population</th>\n",
              "      <th>population_density</th>\n",
              "      <th>median_age</th>\n",
              "      <th>aged_65_older</th>\n",
              "      <th>aged_70_older</th>\n",
              "      <th>gdp_per_capita</th>\n",
              "      <th>extreme_poverty</th>\n",
              "      <th>cardiovasc_death_rate</th>\n",
              "      <th>diabetes_prevalence</th>\n",
              "      <th>female_smokers</th>\n",
              "      <th>male_smokers</th>\n",
              "      <th>handwashing_facilities</th>\n",
              "      <th>hospital_beds_per_thousand</th>\n",
              "      <th>life_expectancy</th>\n",
              "      <th>human_development_index</th>\n",
              "      <th>excess_mortality</th>\n",
              "    </tr>\n",
              "  </thead>\n",
              "  <tbody>\n",
              "    <tr>\n",
              "      <th>count</th>\n",
              "      <td>9.176000e+04</td>\n",
              "      <td>91757.000000</td>\n",
              "      <td>90747.000000</td>\n",
              "      <td>8.178100e+04</td>\n",
              "      <td>81937.000000</td>\n",
              "      <td>90747.000000</td>\n",
              "      <td>91270.000000</td>\n",
              "      <td>91267.000000</td>\n",
              "      <td>90262.000000</td>\n",
              "      <td>81304.000000</td>\n",
              "      <td>81460.000000</td>\n",
              "      <td>90262.000000</td>\n",
              "      <td>76311.000000</td>\n",
              "      <td>9521.000000</td>\n",
              "      <td>9521.000000</td>\n",
              "      <td>11817.000000</td>\n",
              "      <td>11817.000000</td>\n",
              "      <td>861.000000</td>\n",
              "      <td>861.000000</td>\n",
              "      <td>1497.000000</td>\n",
              "      <td>1497.000000</td>\n",
              "      <td>4.293200e+04</td>\n",
              "      <td>4.262500e+04</td>\n",
              "      <td>42625.000000</td>\n",
              "      <td>42932.000000</td>\n",
              "      <td>4.980000e+04</td>\n",
              "      <td>49800.000000</td>\n",
              "      <td>46972.000000</td>\n",
              "      <td>46373.000000</td>\n",
              "      <td>1.411800e+04</td>\n",
              "      <td>1.331300e+04</td>\n",
              "      <td>1.054400e+04</td>\n",
              "      <td>1.179800e+04</td>\n",
              "      <td>2.433400e+04</td>\n",
              "      <td>14118.000000</td>\n",
              "      <td>13313.000000</td>\n",
              "      <td>10544.000000</td>\n",
              "      <td>24334.000000</td>\n",
              "      <td>79962.000000</td>\n",
              "      <td>9.424300e+04</td>\n",
              "      <td>88200.000000</td>\n",
              "      <td>85008.000000</td>\n",
              "      <td>84050.000000</td>\n",
              "      <td>84537.000000</td>\n",
              "      <td>85294.000000</td>\n",
              "      <td>57649.000000</td>\n",
              "      <td>85400.000000</td>\n",
              "      <td>87465.000000</td>\n",
              "      <td>66841.000000</td>\n",
              "      <td>65862.000000</td>\n",
              "      <td>42903.000000</td>\n",
              "      <td>77845.000000</td>\n",
              "      <td>90082.000000</td>\n",
              "      <td>85564.000000</td>\n",
              "      <td>3344.000000</td>\n",
              "    </tr>\n",
              "    <tr>\n",
              "      <th>mean</th>\n",
              "      <td>9.823545e+05</td>\n",
              "      <td>6059.404253</td>\n",
              "      <td>6086.950436</td>\n",
              "      <td>2.703805e+04</td>\n",
              "      <td>147.089288</td>\n",
              "      <td>131.678010</td>\n",
              "      <td>12072.139046</td>\n",
              "      <td>76.113344</td>\n",
              "      <td>76.455795</td>\n",
              "      <td>270.626884</td>\n",
              "      <td>1.562520</td>\n",
              "      <td>1.400405</td>\n",
              "      <td>1.006341</td>\n",
              "      <td>1090.030249</td>\n",
              "      <td>27.021036</td>\n",
              "      <td>4777.533976</td>\n",
              "      <td>174.265959</td>\n",
              "      <td>263.977465</td>\n",
              "      <td>18.570657</td>\n",
              "      <td>3542.720956</td>\n",
              "      <td>90.531607</td>\n",
              "      <td>4.666229e+04</td>\n",
              "      <td>7.174639e+06</td>\n",
              "      <td>285.170121</td>\n",
              "      <td>2.071358</td>\n",
              "      <td>4.439907e+04</td>\n",
              "      <td>1.982014</td>\n",
              "      <td>0.088550</td>\n",
              "      <td>161.800677</td>\n",
              "      <td>2.438941e+07</td>\n",
              "      <td>1.315926e+07</td>\n",
              "      <td>7.389666e+06</td>\n",
              "      <td>5.833578e+05</td>\n",
              "      <td>2.816153e+05</td>\n",
              "      <td>20.120817</td>\n",
              "      <td>13.471196</td>\n",
              "      <td>8.014337</td>\n",
              "      <td>3093.660146</td>\n",
              "      <td>58.550761</td>\n",
              "      <td>1.256894e+08</td>\n",
              "      <td>383.082960</td>\n",
              "      <td>30.572223</td>\n",
              "      <td>8.795955</td>\n",
              "      <td>5.569193</td>\n",
              "      <td>19290.584387</td>\n",
              "      <td>13.385674</td>\n",
              "      <td>258.243476</td>\n",
              "      <td>7.905245</td>\n",
              "      <td>10.554517</td>\n",
              "      <td>32.681430</td>\n",
              "      <td>50.858772</td>\n",
              "      <td>3.028727</td>\n",
              "      <td>73.232545</td>\n",
              "      <td>0.727605</td>\n",
              "      <td>18.177156</td>\n",
              "    </tr>\n",
              "    <tr>\n",
              "      <th>std</th>\n",
              "      <td>6.765660e+06</td>\n",
              "      <td>38082.374634</td>\n",
              "      <td>37832.857208</td>\n",
              "      <td>1.610378e+05</td>\n",
              "      <td>804.364326</td>\n",
              "      <td>743.874762</td>\n",
              "      <td>22560.724598</td>\n",
              "      <td>197.913138</td>\n",
              "      <td>158.790650</td>\n",
              "      <td>494.627398</td>\n",
              "      <td>3.992439</td>\n",
              "      <td>3.050249</td>\n",
              "      <td>0.352270</td>\n",
              "      <td>2948.097767</td>\n",
              "      <td>27.500535</td>\n",
              "      <td>12107.774275</td>\n",
              "      <td>213.680648</td>\n",
              "      <td>577.532133</td>\n",
              "      <td>36.198133</td>\n",
              "      <td>11007.444365</td>\n",
              "      <td>215.459815</td>\n",
              "      <td>1.726672e+05</td>\n",
              "      <td>3.165189e+07</td>\n",
              "      <td>658.140955</td>\n",
              "      <td>5.895606</td>\n",
              "      <td>1.572154e+05</td>\n",
              "      <td>4.976120</td>\n",
              "      <td>0.096889</td>\n",
              "      <td>885.854446</td>\n",
              "      <td>1.233356e+08</td>\n",
              "      <td>5.814374e+07</td>\n",
              "      <td>3.161454e+07</td>\n",
              "      <td>2.652414e+06</td>\n",
              "      <td>1.764873e+06</td>\n",
              "      <td>27.585545</td>\n",
              "      <td>16.920981</td>\n",
              "      <td>12.148146</td>\n",
              "      <td>4473.327379</td>\n",
              "      <td>21.183240</td>\n",
              "      <td>6.827643e+08</td>\n",
              "      <td>1783.792742</td>\n",
              "      <td>9.131871</td>\n",
              "      <td>6.215401</td>\n",
              "      <td>4.240287</td>\n",
              "      <td>19974.539142</td>\n",
              "      <td>19.953595</td>\n",
              "      <td>118.939421</td>\n",
              "      <td>4.113085</td>\n",
              "      <td>10.446290</td>\n",
              "      <td>13.478396</td>\n",
              "      <td>31.760492</td>\n",
              "      <td>2.460161</td>\n",
              "      <td>7.561854</td>\n",
              "      <td>0.150391</td>\n",
              "      <td>36.279736</td>\n",
              "    </tr>\n",
              "    <tr>\n",
              "      <th>min</th>\n",
              "      <td>1.000000e+00</td>\n",
              "      <td>-74347.000000</td>\n",
              "      <td>-6223.000000</td>\n",
              "      <td>1.000000e+00</td>\n",
              "      <td>-1918.000000</td>\n",
              "      <td>-232.143000</td>\n",
              "      <td>0.001000</td>\n",
              "      <td>-2153.437000</td>\n",
              "      <td>-276.825000</td>\n",
              "      <td>0.001000</td>\n",
              "      <td>-76.445000</td>\n",
              "      <td>-10.921000</td>\n",
              "      <td>-0.010000</td>\n",
              "      <td>0.000000</td>\n",
              "      <td>0.000000</td>\n",
              "      <td>0.000000</td>\n",
              "      <td>0.000000</td>\n",
              "      <td>0.000000</td>\n",
              "      <td>0.000000</td>\n",
              "      <td>0.000000</td>\n",
              "      <td>0.000000</td>\n",
              "      <td>-2.391720e+05</td>\n",
              "      <td>0.000000e+00</td>\n",
              "      <td>0.000000</td>\n",
              "      <td>-23.010000</td>\n",
              "      <td>0.000000e+00</td>\n",
              "      <td>0.000000</td>\n",
              "      <td>0.000000</td>\n",
              "      <td>1.300000</td>\n",
              "      <td>0.000000e+00</td>\n",
              "      <td>0.000000e+00</td>\n",
              "      <td>1.000000e+00</td>\n",
              "      <td>0.000000e+00</td>\n",
              "      <td>0.000000e+00</td>\n",
              "      <td>0.000000</td>\n",
              "      <td>0.000000</td>\n",
              "      <td>0.000000</td>\n",
              "      <td>0.000000</td>\n",
              "      <td>0.000000</td>\n",
              "      <td>8.090000e+02</td>\n",
              "      <td>0.137000</td>\n",
              "      <td>15.100000</td>\n",
              "      <td>1.144000</td>\n",
              "      <td>0.526000</td>\n",
              "      <td>661.240000</td>\n",
              "      <td>0.100000</td>\n",
              "      <td>79.370000</td>\n",
              "      <td>0.990000</td>\n",
              "      <td>0.100000</td>\n",
              "      <td>7.700000</td>\n",
              "      <td>1.188000</td>\n",
              "      <td>0.100000</td>\n",
              "      <td>53.280000</td>\n",
              "      <td>0.394000</td>\n",
              "      <td>-95.590000</td>\n",
              "    </tr>\n",
              "    <tr>\n",
              "      <th>25%</th>\n",
              "      <td>1.148000e+03</td>\n",
              "      <td>2.000000</td>\n",
              "      <td>7.286000</td>\n",
              "      <td>5.100000e+01</td>\n",
              "      <td>0.000000</td>\n",
              "      <td>0.000000</td>\n",
              "      <td>240.442500</td>\n",
              "      <td>0.207000</td>\n",
              "      <td>1.256000</td>\n",
              "      <td>7.731000</td>\n",
              "      <td>0.000000</td>\n",
              "      <td>0.000000</td>\n",
              "      <td>0.840000</td>\n",
              "      <td>32.000000</td>\n",
              "      <td>4.793000</td>\n",
              "      <td>120.000000</td>\n",
              "      <td>23.795000</td>\n",
              "      <td>2.254000</td>\n",
              "      <td>0.604000</td>\n",
              "      <td>7.511000</td>\n",
              "      <td>2.619000</td>\n",
              "      <td>1.576000e+03</td>\n",
              "      <td>1.482860e+05</td>\n",
              "      <td>13.314000</td>\n",
              "      <td>0.136000</td>\n",
              "      <td>1.650000e+03</td>\n",
              "      <td>0.135000</td>\n",
              "      <td>0.017000</td>\n",
              "      <td>7.800000</td>\n",
              "      <td>9.458700e+04</td>\n",
              "      <td>7.398800e+04</td>\n",
              "      <td>3.876725e+04</td>\n",
              "      <td>4.035250e+03</td>\n",
              "      <td>8.490000e+02</td>\n",
              "      <td>1.790000</td>\n",
              "      <td>1.530000</td>\n",
              "      <td>0.740000</td>\n",
              "      <td>337.250000</td>\n",
              "      <td>44.440000</td>\n",
              "      <td>2.225728e+06</td>\n",
              "      <td>36.253000</td>\n",
              "      <td>22.200000</td>\n",
              "      <td>3.466000</td>\n",
              "      <td>2.043000</td>\n",
              "      <td>4466.507000</td>\n",
              "      <td>0.600000</td>\n",
              "      <td>167.295000</td>\n",
              "      <td>5.310000</td>\n",
              "      <td>1.900000</td>\n",
              "      <td>21.600000</td>\n",
              "      <td>20.105000</td>\n",
              "      <td>1.300000</td>\n",
              "      <td>67.920000</td>\n",
              "      <td>0.602000</td>\n",
              "      <td>0.107500</td>\n",
              "    </tr>\n",
              "    <tr>\n",
              "      <th>50%</th>\n",
              "      <td>1.257150e+04</td>\n",
              "      <td>72.000000</td>\n",
              "      <td>90.143000</td>\n",
              "      <td>3.520000e+02</td>\n",
              "      <td>2.000000</td>\n",
              "      <td>1.286000</td>\n",
              "      <td>1627.008000</td>\n",
              "      <td>8.105000</td>\n",
              "      <td>10.733000</td>\n",
              "      <td>48.026000</td>\n",
              "      <td>0.132000</td>\n",
              "      <td>0.152000</td>\n",
              "      <td>1.010000</td>\n",
              "      <td>188.000000</td>\n",
              "      <td>18.557000</td>\n",
              "      <td>704.000000</td>\n",
              "      <td>86.082000</td>\n",
              "      <td>21.700000</td>\n",
              "      <td>4.834000</td>\n",
              "      <td>155.487000</td>\n",
              "      <td>18.357000</td>\n",
              "      <td>5.957500e+03</td>\n",
              "      <td>7.509970e+05</td>\n",
              "      <td>66.772000</td>\n",
              "      <td>0.605000</td>\n",
              "      <td>6.227500e+03</td>\n",
              "      <td>0.621000</td>\n",
              "      <td>0.053000</td>\n",
              "      <td>18.300000</td>\n",
              "      <td>7.388885e+05</td>\n",
              "      <td>5.238300e+05</td>\n",
              "      <td>3.072510e+05</td>\n",
              "      <td>2.343750e+04</td>\n",
              "      <td>6.667000e+03</td>\n",
              "      <td>8.800000</td>\n",
              "      <td>6.410000</td>\n",
              "      <td>3.260000</td>\n",
              "      <td>1565.000000</td>\n",
              "      <td>60.190000</td>\n",
              "      <td>9.890400e+06</td>\n",
              "      <td>83.479000</td>\n",
              "      <td>29.900000</td>\n",
              "      <td>6.378000</td>\n",
              "      <td>3.871000</td>\n",
              "      <td>12951.839000</td>\n",
              "      <td>2.200000</td>\n",
              "      <td>242.648000</td>\n",
              "      <td>7.110000</td>\n",
              "      <td>6.300000</td>\n",
              "      <td>31.400000</td>\n",
              "      <td>49.839000</td>\n",
              "      <td>2.400000</td>\n",
              "      <td>74.620000</td>\n",
              "      <td>0.748000</td>\n",
              "      <td>7.320000</td>\n",
              "    </tr>\n",
              "    <tr>\n",
              "      <th>75%</th>\n",
              "      <td>1.323872e+05</td>\n",
              "      <td>797.000000</td>\n",
              "      <td>835.714000</td>\n",
              "      <td>3.454000e+03</td>\n",
              "      <td>18.000000</td>\n",
              "      <td>14.286000</td>\n",
              "      <td>12272.323500</td>\n",
              "      <td>70.679500</td>\n",
              "      <td>79.294250</td>\n",
              "      <td>292.278000</td>\n",
              "      <td>1.366000</td>\n",
              "      <td>1.288000</td>\n",
              "      <td>1.170000</td>\n",
              "      <td>733.000000</td>\n",
              "      <td>41.922000</td>\n",
              "      <td>2851.000000</td>\n",
              "      <td>256.483000</td>\n",
              "      <td>205.743000</td>\n",
              "      <td>19.704000</td>\n",
              "      <td>1650.000000</td>\n",
              "      <td>98.665000</td>\n",
              "      <td>2.329025e+04</td>\n",
              "      <td>3.169978e+06</td>\n",
              "      <td>272.556000</td>\n",
              "      <td>1.906000</td>\n",
              "      <td>2.564400e+04</td>\n",
              "      <td>1.967000</td>\n",
              "      <td>0.128000</td>\n",
              "      <td>56.800000</td>\n",
              "      <td>4.451097e+06</td>\n",
              "      <td>3.059494e+06</td>\n",
              "      <td>1.799667e+06</td>\n",
              "      <td>1.237520e+05</td>\n",
              "      <td>4.029975e+04</td>\n",
              "      <td>27.117500</td>\n",
              "      <td>19.130000</td>\n",
              "      <td>9.842500</td>\n",
              "      <td>4277.750000</td>\n",
              "      <td>75.000000</td>\n",
              "      <td>3.481387e+07</td>\n",
              "      <td>209.588000</td>\n",
              "      <td>39.100000</td>\n",
              "      <td>14.312000</td>\n",
              "      <td>9.167000</td>\n",
              "      <td>27216.445000</td>\n",
              "      <td>21.200000</td>\n",
              "      <td>329.635000</td>\n",
              "      <td>10.080000</td>\n",
              "      <td>19.300000</td>\n",
              "      <td>41.100000</td>\n",
              "      <td>83.241000</td>\n",
              "      <td>3.861000</td>\n",
              "      <td>78.740000</td>\n",
              "      <td>0.848000</td>\n",
              "      <td>23.690000</td>\n",
              "    </tr>\n",
              "    <tr>\n",
              "      <th>max</th>\n",
              "      <td>1.748673e+08</td>\n",
              "      <td>906008.000000</td>\n",
              "      <td>826389.571000</td>\n",
              "      <td>3.773339e+06</td>\n",
              "      <td>18051.000000</td>\n",
              "      <td>14741.143000</td>\n",
              "      <td>178670.808000</td>\n",
              "      <td>18293.675000</td>\n",
              "      <td>4083.500000</td>\n",
              "      <td>5697.194000</td>\n",
              "      <td>218.329000</td>\n",
              "      <td>63.140000</td>\n",
              "      <td>5.800000</td>\n",
              "      <td>28889.000000</td>\n",
              "      <td>192.455000</td>\n",
              "      <td>133214.000000</td>\n",
              "      <td>1532.573000</td>\n",
              "      <td>4002.456000</td>\n",
              "      <td>278.756000</td>\n",
              "      <td>116323.000000</td>\n",
              "      <td>2656.911000</td>\n",
              "      <td>3.740296e+06</td>\n",
              "      <td>4.544052e+08</td>\n",
              "      <td>8507.962000</td>\n",
              "      <td>327.086000</td>\n",
              "      <td>3.080396e+06</td>\n",
              "      <td>92.104000</td>\n",
              "      <td>0.742000</td>\n",
              "      <td>50000.000000</td>\n",
              "      <td>2.297197e+09</td>\n",
              "      <td>9.584386e+08</td>\n",
              "      <td>4.878384e+08</td>\n",
              "      <td>3.972303e+07</td>\n",
              "      <td>3.602832e+07</td>\n",
              "      <td>230.780000</td>\n",
              "      <td>116.110000</td>\n",
              "      <td>114.670000</td>\n",
              "      <td>118759.000000</td>\n",
              "      <td>100.000000</td>\n",
              "      <td>7.794799e+09</td>\n",
              "      <td>20546.766000</td>\n",
              "      <td>48.200000</td>\n",
              "      <td>27.049000</td>\n",
              "      <td>18.493000</td>\n",
              "      <td>116935.600000</td>\n",
              "      <td>77.600000</td>\n",
              "      <td>724.417000</td>\n",
              "      <td>30.530000</td>\n",
              "      <td>44.000000</td>\n",
              "      <td>78.100000</td>\n",
              "      <td>100.000000</td>\n",
              "      <td>13.800000</td>\n",
              "      <td>86.750000</td>\n",
              "      <td>0.957000</td>\n",
              "      <td>409.620000</td>\n",
              "    </tr>\n",
              "  </tbody>\n",
              "</table>\n",
              "</div>"
            ],
            "text/plain": [
              "        total_cases      new_cases  ...  human_development_index  excess_mortality\n",
              "count  9.176000e+04   91757.000000  ...             85564.000000       3344.000000\n",
              "mean   9.823545e+05    6059.404253  ...                 0.727605         18.177156\n",
              "std    6.765660e+06   38082.374634  ...                 0.150391         36.279736\n",
              "min    1.000000e+00  -74347.000000  ...                 0.394000        -95.590000\n",
              "25%    1.148000e+03       2.000000  ...                 0.602000          0.107500\n",
              "50%    1.257150e+04      72.000000  ...                 0.748000          7.320000\n",
              "75%    1.323872e+05     797.000000  ...                 0.848000         23.690000\n",
              "max    1.748673e+08  906008.000000  ...                 0.957000        409.620000\n",
              "\n",
              "[8 rows x 55 columns]"
            ]
          },
          "metadata": {
            "tags": []
          },
          "execution_count": 4
        }
      ]
    },
    {
      "cell_type": "markdown",
      "metadata": {
        "id": "aDbvr_p1VGnt"
      },
      "source": [
        "**3.2 A histogram for each attribute(column)**<br/>\n",
        "Note that these are only histogram which shows the occurences of the attribute values, some of them are not meaningful. "
      ]
    },
    {
      "cell_type": "code",
      "metadata": {
        "colab": {
          "base_uri": "https://localhost:8080/",
          "height": 1000
        },
        "id": "_WnYbQq7QP2-",
        "outputId": "50e3af99-1c6f-48f3-f47d-fce0627d3a64"
      },
      "source": [
        "df.hist(bins=20, figsize=(30,30))\n",
        "plt.show()"
      ],
      "execution_count": 5,
      "outputs": [
        {
          "output_type": "display_data",
          "data": {
            "image/png": "[encoded data removed]",
            "text/plain": [
              "<Figure size 2160x2160 with 56 Axes>"
            ]
          },
          "metadata": {
            "tags": [],
            "needs_background": "light"
          }
        }
      ]
    },
    {
      "cell_type": "markdown",
      "metadata": {
        "id": "cZZhm8mlUBt4"
      },
      "source": [
        "**3.3 Number of records(days) for each location:**<br/>\n",
        "We can see that for some countries(areas), the available records are very rare. E.g. \"British Virgin Islands\" has only 8 records (which means only 8 days are recorded), and we are removing these data before we feed them to our model."
      ]
    },
    {
      "cell_type": "code",
      "metadata": {
        "colab": {
          "base_uri": "https://localhost:8080/"
        },
        "id": "EuvqPMPARbbn",
        "outputId": "2f26aeac-dc81-4a28-8ec2-982882cf8f8f"
      },
      "source": [
        "iso_dic={}\n",
        "for i in range(len(df)):\n",
        "  if df['location'][i] in iso_dic: iso_dic[df['location'][i]]=iso_dic[df['location'][i]]+1\n",
        "  else: iso_dic[df['location'][i]]=1\n",
        "iso_dic"
      ],
      "execution_count": 6,
      "outputs": [
        {
          "output_type": "execute_result",
          "data": {
            "text/plain": [
              "{'Afghanistan': 473,\n",
              " 'Africa': 484,\n",
              " 'Albania': 472,\n",
              " 'Algeria': 472,\n",
              " 'Andorra': 466,\n",
              " 'Angola': 448,\n",
              " 'Anguilla': 121,\n",
              " 'Antigua and Barbuda': 455,\n",
              " 'Argentina': 527,\n",
              " 'Armenia': 467,\n",
              " 'Aruba': 74,\n",
              " 'Asia': 506,\n",
              " 'Australia': 502,\n",
              " 'Austria': 472,\n",
              " 'Azerbaijan': 467,\n",
              " 'Bahamas': 452,\n",
              " 'Bahrain': 473,\n",
              " 'Bangladesh': 465,\n",
              " 'Barbados': 451,\n",
              " 'Belarus': 469,\n",
              " 'Belgium': 493,\n",
              " 'Belize': 445,\n",
              " 'Benin': 452,\n",
              " 'Bermuda': 149,\n",
              " 'Bhutan': 462,\n",
              " 'Bolivia': 457,\n",
              " 'Bonaire Sint Eustatius and Saba': 1,\n",
              " 'Bosnia and Herzegovina': 463,\n",
              " 'Botswana': 438,\n",
              " 'Brazil': 471,\n",
              " 'British Virgin Islands': 8,\n",
              " 'Brunei': 459,\n",
              " 'Bulgaria': 460,\n",
              " 'Burkina Faso': 458,\n",
              " 'Burundi': 437,\n",
              " 'Cambodia': 501,\n",
              " 'Cameroon': 462,\n",
              " 'Canada': 502,\n",
              " 'Cape Verde': 448,\n",
              " 'Cayman Islands': 165,\n",
              " 'Central African Republic': 453,\n",
              " 'Chad': 449,\n",
              " 'Chile': 474,\n",
              " 'China': 506,\n",
              " 'Colombia': 462,\n",
              " 'Comoros': 407,\n",
              " 'Congo': 453,\n",
              " 'Cook Islands': 15,\n",
              " 'Costa Rica': 462,\n",
              " \"Cote d'Ivoire\": 457,\n",
              " 'Croatia': 472,\n",
              " 'Cuba': 456,\n",
              " 'Curacao': 74,\n",
              " 'Cyprus': 461,\n",
              " 'Czechia': 467,\n",
              " 'Democratic Republic of Congo': 457,\n",
              " 'Denmark': 495,\n",
              " 'Djibouti': 450,\n",
              " 'Dominica': 446,\n",
              " 'Dominican Republic': 467,\n",
              " 'Ecuador': 467,\n",
              " 'Egypt': 483,\n",
              " 'El Salvador': 449,\n",
              " 'Equatorial Guinea': 453,\n",
              " 'Eritrea': 447,\n",
              " 'Estonia': 494,\n",
              " 'Eswatini': 454,\n",
              " 'Ethiopia': 455,\n",
              " 'Europe': 505,\n",
              " 'European Union': 505,\n",
              " 'Faeroe Islands': 132,\n",
              " 'Falkland Islands': 67,\n",
              " 'Fiji': 498,\n",
              " 'Finland': 499,\n",
              " 'France': 504,\n",
              " 'French Polynesia': 127,\n",
              " 'Gabon': 454,\n",
              " 'Gambia': 451,\n",
              " 'Georgia': 471,\n",
              " 'Germany': 504,\n",
              " 'Ghana': 454,\n",
              " 'Gibraltar': 150,\n",
              " 'Greece': 471,\n",
              " 'Greenland': 135,\n",
              " 'Grenada': 446,\n",
              " 'Guatemala': 480,\n",
              " 'Guernsey': 138,\n",
              " 'Guinea': 455,\n",
              " 'Guinea-Bissau': 443,\n",
              " 'Guyana': 456,\n",
              " 'Haiti': 448,\n",
              " 'Honduras': 457,\n",
              " 'Hong Kong': 505,\n",
              " 'Hungary': 465,\n",
              " 'Iceland': 470,\n",
              " 'India': 498,\n",
              " 'Indonesia': 466,\n",
              " 'International': 490,\n",
              " 'Iran': 478,\n",
              " 'Iraq': 473,\n",
              " 'Ireland': 475,\n",
              " 'Isle of Man': 140,\n",
              " 'Israel': 477,\n",
              " 'Italy': 497,\n",
              " 'Jamaica': 457,\n",
              " 'Japan': 506,\n",
              " 'Jersey': 85,\n",
              " 'Jordan': 465,\n",
              " 'Kazakhstan': 455,\n",
              " 'Kenya': 462,\n",
              " 'Kiribati': 24,\n",
              " 'Kosovo': 454,\n",
              " 'Kuwait': 473,\n",
              " 'Kyrgyzstan': 450,\n",
              " 'Laos': 444,\n",
              " 'Latvia': 475,\n",
              " 'Lebanon': 476,\n",
              " 'Lesotho': 394,\n",
              " 'Liberia': 452,\n",
              " 'Libya': 464,\n",
              " 'Liechtenstein': 464,\n",
              " 'Lithuania': 468,\n",
              " 'Luxembourg': 473,\n",
              " 'Macao': 123,\n",
              " 'Madagascar': 448,\n",
              " 'Malawi': 439,\n",
              " 'Malaysia': 503,\n",
              " 'Maldives': 460,\n",
              " 'Mali': 443,\n",
              " 'Malta': 491,\n",
              " 'Marshall Islands': 226,\n",
              " 'Mauritania': 454,\n",
              " 'Mauritius': 450,\n",
              " 'Mexico': 527,\n",
              " 'Micronesia (country)': 141,\n",
              " 'Moldova': 460,\n",
              " 'Monaco': 468,\n",
              " 'Mongolia': 458,\n",
              " 'Montenegro': 451,\n",
              " 'Montserrat': 110,\n",
              " 'Morocco': 490,\n",
              " 'Mozambique': 446,\n",
              " 'Myanmar': 441,\n",
              " 'Namibia': 454,\n",
              " 'Nauru': 62,\n",
              " 'Nepal': 503,\n",
              " 'Netherlands': 470,\n",
              " 'New Caledonia': 127,\n",
              " 'New Zealand': 469,\n",
              " 'Nicaragua': 449,\n",
              " 'Niger': 448,\n",
              " 'Nigeria': 469,\n",
              " 'North America': 506,\n",
              " 'North Macedonia': 471,\n",
              " 'Northern Cyprus': 134,\n",
              " 'Norway': 472,\n",
              " 'Oceania': 503,\n",
              " 'Oman': 473,\n",
              " 'Pakistan': 472,\n",
              " 'Palestine': 463,\n",
              " 'Panama': 459,\n",
              " 'Papua New Guinea': 448,\n",
              " 'Paraguay': 461,\n",
              " 'Peru': 522,\n",
              " 'Philippines': 498,\n",
              " 'Poland': 464,\n",
              " 'Portugal': 474,\n",
              " 'Qatar': 468,\n",
              " 'Romania': 471,\n",
              " 'Russia': 497,\n",
              " 'Rwanda': 454,\n",
              " 'Saint Helena': 92,\n",
              " 'Saint Kitts and Nevis': 443,\n",
              " 'Saint Lucia': 454,\n",
              " 'Saint Vincent and the Grenadines': 454,\n",
              " 'Samoa': 205,\n",
              " 'San Marino': 470,\n",
              " 'Sao Tome and Principe': 431,\n",
              " 'Saudi Arabia': 466,\n",
              " 'Senegal': 469,\n",
              " 'Serbia': 471,\n",
              " 'Seychelles': 454,\n",
              " 'Sierra Leone': 437,\n",
              " 'Singapore': 505,\n",
              " 'Sint Maarten (Dutch part)': 29,\n",
              " 'Slovakia': 462,\n",
              " 'Slovenia': 495,\n",
              " 'Solomon Islands': 242,\n",
              " 'Somalia': 452,\n",
              " 'South Africa': 490,\n",
              " 'South America': 475,\n",
              " 'South Korea': 507,\n",
              " 'South Sudan': 432,\n",
              " 'Spain': 496,\n",
              " 'Sri Lanka': 501,\n",
              " 'Sudan': 456,\n",
              " 'Suriname': 454,\n",
              " 'Sweden': 496,\n",
              " 'Switzerland': 472,\n",
              " 'Syria': 446,\n",
              " 'Taiwan': 512,\n",
              " 'Tajikistan': 407,\n",
              " 'Tanzania': 452,\n",
              " 'Thailand': 524,\n",
              " 'Timor': 446,\n",
              " 'Togo': 464,\n",
              " 'Tonga': 43,\n",
              " 'Trinidad and Tobago': 454,\n",
              " 'Tunisia': 464,\n",
              " 'Turkey': 457,\n",
              " 'Turkmenistan': 1,\n",
              " 'Turks and Caicos Islands': 139,\n",
              " 'Tuvalu': 36,\n",
              " 'Uganda': 447,\n",
              " 'Ukraine': 465,\n",
              " 'United Arab Emirates': 499,\n",
              " 'United Kingdom': 497,\n",
              " 'United States': 506,\n",
              " 'Uruguay': 455,\n",
              " 'Uzbekistan': 453,\n",
              " 'Vanuatu': 213,\n",
              " 'Vatican': 462,\n",
              " 'Venezuela': 454,\n",
              " 'Vietnam': 505,\n",
              " 'Wallis and Futuna': 78,\n",
              " 'World': 506,\n",
              " 'Yemen': 427,\n",
              " 'Zambia': 450,\n",
              " 'Zimbabwe': 448}"
            ]
          },
          "metadata": {
            "tags": []
          },
          "execution_count": 6
        }
      ]
    },
    {
      "cell_type": "markdown",
      "metadata": {
        "id": "3W8-OZp4WRB1"
      },
      "source": [
        "**3.4 The list of countries(plus the number of days recorded) where the highest infection rates ever exceeded 10%:**<br/>\n",
        "These countries are 'Andorra', 'Bahrain', 'Czechia', 'Lithuania', 'Luxembourg', 'Maldives', 'Montenegro', 'San Marino', 'Serbia', 'Seychelles', 'Slovenia', 'Sweden', and 'United States'."
      ]
    },
    {
      "cell_type": "code",
      "metadata": {
        "colab": {
          "base_uri": "https://localhost:8080/"
        },
        "id": "zltA_XptSHkc",
        "outputId": "11c449f8-eb54-4bd1-95ca-6e6c9745cd7c"
      },
      "source": [
        "countries={}\n",
        "for i in range(len(df)):\n",
        "  if df['total_cases_per_million'][i]>100000 and df['location'][i] not in countries:\n",
        "    countries[df['location'][i]]=len(df[df['location']==df['location'][i]])\n",
        "print(countries)"
      ],
      "execution_count": 7,
      "outputs": [
        {
          "output_type": "stream",
          "text": [
            "{'Andorra': 466, 'Bahrain': 473, 'Czechia': 467, 'Lithuania': 468, 'Luxembourg': 473, 'Maldives': 460, 'Montenegro': 451, 'San Marino': 470, 'Serbia': 471, 'Seychelles': 454, 'Slovenia': 495, 'Sweden': 496, 'United States': 506}\n"
          ],
          "name": "stdout"
        }
      ]
    },
    {
      "cell_type": "markdown",
      "metadata": {
        "id": "tzPUxnvZjZmY"
      },
      "source": [
        "## **3.5 A Concrete Case Study: United States**"
      ]
    },
    {
      "cell_type": "markdown",
      "metadata": {
        "id": "OoPvhIGhWwpp"
      },
      "source": [
        "**3.5.1 Number of records(days) for US:**"
      ]
    },
    {
      "cell_type": "code",
      "metadata": {
        "colab": {
          "base_uri": "https://localhost:8080/"
        },
        "id": "mC7SoViMXjea",
        "outputId": "3eea807c-8507-4931-82dc-375bcbbeb018"
      },
      "source": [
        "df_us=df[df['location']=='United States']\n",
        "len(df_us)"
      ],
      "execution_count": 8,
      "outputs": [
        {
          "output_type": "execute_result",
          "data": {
            "text/plain": [
              "506"
            ]
          },
          "metadata": {
            "tags": []
          },
          "execution_count": 8
        }
      ]
    },
    {
      "cell_type": "markdown",
      "metadata": {
        "id": "1-ENWkPHW6Ae"
      },
      "source": [
        "**3.5.2 Graph: Total number of infected people:**"
      ]
    },
    {
      "cell_type": "code",
      "metadata": {
        "colab": {
          "base_uri": "https://localhost:8080/",
          "height": 405
        },
        "id": "zdfbmRlB0BfU",
        "outputId": "10465431-c3a3-4bc1-e6d3-bde18f444b73"
      },
      "source": [
        "plt.figure(figsize=(8,6))\n",
        "plt.plot(df_us['date'],df_us['total_cases'])\n",
        "plt.xlabel('Dates from 2020.Feb to 2021.June')\n",
        "plt.ylabel('Total infected people')\n",
        "plt.title('Total number of infected people')\n",
        "plt.xticks([])"
      ],
      "execution_count": 9,
      "outputs": [
        {
          "output_type": "execute_result",
          "data": {
            "text/plain": [
              "([], <a list of 0 Text major ticklabel objects>)"
            ]
          },
          "metadata": {
            "tags": []
          },
          "execution_count": 9
        },
        {
          "output_type": "display_data",
          "data": {
            "image/png": "[encoded data removed]",
            "text/plain": [
              "<Figure size 576x432 with 1 Axes>"
            ]
          },
          "metadata": {
            "tags": [],
            "needs_background": "light"
          }
        }
      ]
    },
    {
      "cell_type": "markdown",
      "metadata": {
        "id": "NO7KIFXGXA7a"
      },
      "source": [
        "**3.5.3 Graph: New Inceasing Cases per day:**"
      ]
    },
    {
      "cell_type": "code",
      "metadata": {
        "id": "AuiTVKQoh_hf",
        "colab": {
          "base_uri": "https://localhost:8080/",
          "height": 405
        },
        "outputId": "f74977f8-a49f-4bc1-c2b1-917de78b5524"
      },
      "source": [
        "plt.figure(figsize=(8,6))\n",
        "plt.plot(df_us['date'],df_us['new_cases'])\n",
        "plt.xlabel('Dates from 2020.Feb to 2021.June')\n",
        "plt.ylabel('New Cases per day')\n",
        "plt.title('New Cases per day')\n",
        "plt.xticks([])"
      ],
      "execution_count": 10,
      "outputs": [
        {
          "output_type": "execute_result",
          "data": {
            "text/plain": [
              "([], <a list of 0 Text major ticklabel objects>)"
            ]
          },
          "metadata": {
            "tags": []
          },
          "execution_count": 10
        },
        {
          "output_type": "display_data",
          "data": {
            "image/png": "[encoded data removed]",
            "text/plain": [
              "<Figure size 576x432 with 1 Axes>"
            ]
          },
          "metadata": {
            "tags": [],
            "needs_background": "light"
          }
        }
      ]
    },
    {
      "cell_type": "markdown",
      "metadata": {
        "id": "JX_tJMTLXIix"
      },
      "source": [
        "**3.5.4 Graph: New Increasing Cases per day (smoothed):**"
      ]
    },
    {
      "cell_type": "code",
      "metadata": {
        "colab": {
          "base_uri": "https://localhost:8080/",
          "height": 405
        },
        "id": "oI8LiKL5yXhp",
        "outputId": "b1398a44-db0f-4593-dac6-71ec634ce53b"
      },
      "source": [
        "plt.figure(figsize=(8,6))\n",
        "plt.plot(df_us['date'],df_us['new_cases_smoothed'])\n",
        "plt.xlabel('Dates from 2020.Feb to 2021.June')\n",
        "plt.ylabel('New Cases per day (smoothed)')\n",
        "plt.title('New Cases per day (smoothed)')\n",
        "plt.xticks([])"
      ],
      "execution_count": 11,
      "outputs": [
        {
          "output_type": "execute_result",
          "data": {
            "text/plain": [
              "([], <a list of 0 Text major ticklabel objects>)"
            ]
          },
          "metadata": {
            "tags": []
          },
          "execution_count": 11
        },
        {
          "output_type": "display_data",
          "data": {
            "image/png": "[encoded data removed]",
            "text/plain": [
              "<Figure size 576x432 with 1 Axes>"
            ]
          },
          "metadata": {
            "tags": [],
            "needs_background": "light"
          }
        }
      ]
    },
    {
      "cell_type": "markdown",
      "metadata": {
        "id": "9MdM4-12XM06"
      },
      "source": [
        "**3.5.5 Graph: Possible variables that can affect the transition of covid-19:**"
      ]
    },
    {
      "cell_type": "code",
      "metadata": {
        "colab": {
          "base_uri": "https://localhost:8080/",
          "height": 657
        },
        "id": "N1Iz0BxJzPIR",
        "outputId": "af57b8c8-597f-4288-9bcb-5d5b397f8696"
      },
      "source": [
        "fig,axs=plt.subplots(2,2,figsize=(12,9))\n",
        "axs[0,0].plot(df_us['date'],df_us['total_vaccinations'])\n",
        "axs[0,0].set_title('Total number of Vaccinations',pad=20)\n",
        "axs[0,0].set(xlabel='Dates from 2020.Feb to 2021.June',ylabel='')\n",
        "axs[0,0].set_xticks([])\n",
        "axs[0,1].plot(df_us['date'],df_us['people_vaccinated'])\n",
        "axs[0,1].set_title('Total number of Vaccinated People',pad=15)\n",
        "axs[0,1].set(xlabel='Dates from 2020.Feb to 2021.June',ylabel='')\n",
        "axs[0,1].set_xticks([])\n",
        "axs[1,0].plot(df_us['date'],df_us['reproduction_rate'])\n",
        "axs[1,0].set_title('Reproduction Rate',pad=20)\n",
        "axs[1,0].set(xlabel='Dates from 2020.Feb to 2021.June',ylabel='')\n",
        "axs[1,0].set_xticks([])\n",
        "axs[1,1].plot(df_us['date'],df_us['positive_rate'])\n",
        "axs[1,1].set_title('Positive Rate',pad=20)\n",
        "axs[1,1].set(xlabel='Dates from 2020.Feb to 2021.June',ylabel='')\n",
        "axs[1,1].set_xticks([])\n",
        "plt.tight_layout()"
      ],
      "execution_count": 12,
      "outputs": [
        {
          "output_type": "display_data",
          "data": {
            "image/png": "[encoded data removed]",
            "text/plain": [
              "<Figure size 864x648 with 4 Axes>"
            ]
          },
          "metadata": {
            "tags": [],
            "needs_background": "light"
          }
        }
      ]
    },
    {
      "cell_type": "markdown",
      "metadata": {
        "id": "0CCv7bfK2yAY"
      },
      "source": [
        "**At first we are very interested in using the Reproduction Rate to predict the pandemic, but later on we dropped this idea for following reasons:**<br/>\n",
        "1.We can see from above figures that the reproduction rate droped suddenly and drastically when the Vaccination first came out, which sounds reasonable. But if we think about it more carefully, it shouldn't behave like this because there were very few people vaccinated when the vaccination first came out.<br/>\n",
        "2.The Reproduction Rate in US kept slow even when where were more than 200,000 people infected per day in US, which is not reasonable.<br/>\n",
        "3.Anyway, the Reproduction Rate is not a truly existing data but estimated from otherexisting data. So it can introduce uncontroable bias and errors which we can do nothing to revise."
      ]
    },
    {
      "cell_type": "markdown",
      "metadata": {
        "id": "_nnqO470cqWw"
      },
      "source": [
        "# **4. Model Building**"
      ]
    },
    {
      "cell_type": "markdown",
      "metadata": {
        "id": "-9hPz1a3lm5l"
      },
      "source": [
        "## **4.1 Ideas and designs of the model**"
      ]
    },
    {
      "cell_type": "markdown",
      "metadata": {
        "id": "vycIOADDltO6"
      },
      "source": [
        "**Objective:** Our objective is to predict the newly infected number per day for any given area.<br/><br/>\n",
        "**Ideas and thinking:** The \"new infected cases per day\" itself is a time series, so we can predict it without using any other data just like predicting the stock. E.g. using an ARMA model to predict stock value in the future. But as for this dataset, we have a lot of other informations that we can use, so we can incorporate some other useful information to help predict the number of newly infected people, e.g. number of vaccinated people. And by comparing among all the variables (also see Exploratory Data Analysis), we picked out the following variables to use.<br/><br/>\n",
        "**Input variables:**<br/>\n",
        "(1)“total infected people”(**1 scalar** taking the average of past 15 days)<br/>\n",
        "(2)“New cases per day(smoothed)” of past 15days( **a vector of 15 scalars**)<br/>\n",
        "(3)“Vaccinated people”(**1 scalar** taking the average of past 15 days)<br/>\n",
        "(4)“Population” (**1 scalar**)<br/>\n",
        "In the end the input variables can be unified into **a vector of length 18.**<br/><br/>\n",
        "**Output/Predicted variable:**<br/>\n",
        "\"New cases of infection\" for tomorrow (in the next day). **It is a scalar.**<br/><br/>\n",
        "**Model Design:**<br/>\n",
        "A simple multilayer perceptron taking 18 inputs and outputting 1 scalar, with 2 hidden layer of 18 neurons."
      ]
    },
    {
      "cell_type": "markdown",
      "metadata": {
        "id": "RB_fr4BeFwKC"
      },
      "source": [
        "## **4.2 Produce training validation and testing data**"
      ]
    },
    {
      "cell_type": "code",
      "metadata": {
        "colab": {
          "base_uri": "https://localhost:8080/"
        },
        "id": "uXpwIZArIOoG",
        "outputId": "5613b97e-86b4-41ab-8d67-63c0ca261f13"
      },
      "source": [
        "df.shape"
      ],
      "execution_count": 13,
      "outputs": [
        {
          "output_type": "execute_result",
          "data": {
            "text/plain": [
              "(94867, 60)"
            ]
          },
          "metadata": {
            "tags": []
          },
          "execution_count": 13
        }
      ]
    },
    {
      "cell_type": "markdown",
      "metadata": {
        "id": "QQkigAfRZi8t"
      },
      "source": [
        "**4.2.1 Drop all data that don't have a record for vaccinations:**"
      ]
    },
    {
      "cell_type": "code",
      "metadata": {
        "colab": {
          "base_uri": "https://localhost:8080/"
        },
        "id": "9retFmuCIQxv",
        "outputId": "cdf8aff0-93ae-4af9-eb11-625fd353279e"
      },
      "source": [
        "df=df.drop(np.where(df['people_vaccinated'].isnull())[0])\n",
        "print(df.shape)\n"
      ],
      "execution_count": 14,
      "outputs": [
        {
          "output_type": "stream",
          "text": [
            "(13313, 60)\n"
          ],
          "name": "stdout"
        }
      ]
    },
    {
      "cell_type": "markdown",
      "metadata": {
        "id": "3rMRjMkXgA0M"
      },
      "source": [
        "**4.2.2 Drop a whole country's (area's) data if it has less than 20 records:**"
      ]
    },
    {
      "cell_type": "code",
      "metadata": {
        "id": "Ohxp78ZGa6xu"
      },
      "source": [
        "iso_dic={}\n",
        "for i in range(len(df)):\n",
        "  if df.iat[i,2] in iso_dic: iso_dic[df.iat[i,2]]=iso_dic[df.iat[i,2]]+1\n",
        "  else: iso_dic[df.iat[i,2]]=1"
      ],
      "execution_count": 15,
      "outputs": []
    },
    {
      "cell_type": "code",
      "metadata": {
        "id": "krElIioKfaAS"
      },
      "source": [
        "for key,value in iso_dic.items():\n",
        "  #print(key)\n",
        "  if value<20:\n",
        "    df=df.drop(df[df['location']==key].index)"
      ],
      "execution_count": 16,
      "outputs": []
    },
    {
      "cell_type": "code",
      "metadata": {
        "colab": {
          "base_uri": "https://localhost:8080/"
        },
        "id": "ViDH-z4DgXge",
        "outputId": "6443362a-5ec4-47ff-b31d-308028e6863d"
      },
      "source": [
        "df.shape"
      ],
      "execution_count": 17,
      "outputs": [
        {
          "output_type": "execute_result",
          "data": {
            "text/plain": [
              "(12619, 60)"
            ]
          },
          "metadata": {
            "tags": []
          },
          "execution_count": 17
        }
      ]
    },
    {
      "cell_type": "code",
      "metadata": {
        "id": "jqpTz7GxjgHm"
      },
      "source": [
        "iso_dic={}\n",
        "for i in range(len(df)):\n",
        "  if df.iat[i,2] in iso_dic: iso_dic[df.iat[i,2]]=iso_dic[df.iat[i,2]]+1\n",
        "  else: iso_dic[df.iat[i,2]]=1"
      ],
      "execution_count": 18,
      "outputs": []
    },
    {
      "cell_type": "markdown",
      "metadata": {
        "id": "JHc-bVbg3a1b"
      },
      "source": [
        "**4.2.3 Drop all the Nan values and create a input/output pairs:**<br/>\n",
        "(Not really deleting these NaN data, but not selecting from these data.)"
      ]
    },
    {
      "cell_type": "code",
      "metadata": {
        "colab": {
          "base_uri": "https://localhost:8080/"
        },
        "id": "QuDDtKtgjqtj",
        "outputId": "caa27e2b-f1d8-4f7e-f66a-17aecf125045"
      },
      "source": [
        "in_ou_pair=[]\n",
        "for key,value in iso_dic.items():\n",
        "  df_current = df[df['location']==key]\n",
        "  for i in range(16,value):\n",
        "    inputs=[]\n",
        "    if np.isnan(df_current.iat[i-1,4]):\n",
        "      continue\n",
        "    inputs.append(df_current.iat[i-1,4])\n",
        "    check=1\n",
        "    for j in range(1,16):\n",
        "      if np.isnan(df_current.iat[i-j,6]):\n",
        "        check=0\n",
        "      inputs.append(df_current.iat[i-j,6])\n",
        "    inputs.append(df_current.iat[i-1,35])\n",
        "    inputs.append(df_current.iat[i-1,44])\n",
        "    inputs.append(df_current.iat[i,6])\n",
        "    if check==1:\n",
        "      in_ou_pair.append(inputs)\n",
        "in_ou_pair=np.array(in_ou_pair)\n",
        "print(in_ou_pair.shape)\n",
        "    "
      ],
      "execution_count": 19,
      "outputs": [
        {
          "output_type": "stream",
          "text": [
            "(10069, 19)\n"
          ],
          "name": "stdout"
        }
      ]
    },
    {
      "cell_type": "code",
      "metadata": {
        "colab": {
          "base_uri": "https://localhost:8080/"
        },
        "id": "crpT0taTy-92",
        "outputId": "7819ba12-5559-4f0d-a30b-f5802a729c80"
      },
      "source": [
        "in_ou_pair[0]"
      ],
      "execution_count": 20,
      "outputs": [
        {
          "output_type": "execute_result",
          "data": {
            "text/plain": [
              "array([3.56961700e+06, 1.85337140e+04, 1.91577140e+04, 2.05071430e+04,\n",
              "       2.15010000e+04, 2.25131430e+04, 2.35860000e+04, 2.42734290e+04,\n",
              "       2.50992860e+04, 2.60205710e+04, 2.60577140e+04, 2.77375710e+04,\n",
              "       2.85461430e+04, 3.04480000e+04, 3.15238570e+04, 3.23912860e+04,\n",
              "       3.22060000e+04, 1.34059811e+09, 1.79645710e+04])"
            ]
          },
          "metadata": {
            "tags": []
          },
          "execution_count": 20
        }
      ]
    },
    {
      "cell_type": "markdown",
      "metadata": {
        "id": "pECRkG3yWx6s"
      },
      "source": [
        "**4.2.4 Normalize the data to range [0,1] in order to learn it better.**"
      ]
    },
    {
      "cell_type": "code",
      "metadata": {
        "id": "yJgmeK8CKJYt"
      },
      "source": [
        "MAX=np.max(in_ou_pair,axis=0)\n",
        "MIN=np.min(in_ou_pair,axis=0)\n",
        "in_ou_pair=(in_ou_pair-MIN)/(MAX-MIN)"
      ],
      "execution_count": 21,
      "outputs": []
    },
    {
      "cell_type": "markdown",
      "metadata": {
        "id": "-zr_hSzFZ3Yo"
      },
      "source": [
        "**4.2.5 Split the data into train, validation and test data:**"
      ]
    },
    {
      "cell_type": "code",
      "metadata": {
        "id": "5lAgiCuMCnwf"
      },
      "source": [
        "np.random.seed(20)\n",
        "np.random.shuffle(in_ou_pair)\n",
        "n_samples=in_ou_pair.shape[0]\n",
        "\n",
        "train=in_ou_pair[:int(0.8*n_samples),:]\n",
        "val=in_ou_pair[int(0.8*n_samples):int(0.9*n_samples),:]\n",
        "test=in_ou_pair[int(0.9*n_samples):,:]\n"
      ],
      "execution_count": 22,
      "outputs": []
    },
    {
      "cell_type": "markdown",
      "metadata": {
        "id": "9JV-pBhMEh_W"
      },
      "source": [
        "## **4.3 Build the MLP model:**"
      ]
    },
    {
      "cell_type": "markdown",
      "metadata": {
        "id": "Ags4rfb1d076"
      },
      "source": [
        "**4.3.1 Define the model and training principles**"
      ]
    },
    {
      "cell_type": "code",
      "metadata": {
        "id": "B6KnZBNQE2O6"
      },
      "source": [
        "class MLP(nn.Module):\n",
        "  def __init__(self,n_input=18,n_layers=2,n_neurons=[18,18]):\n",
        "    super().__init__()\n",
        "    self.n_input=n_input\n",
        "    self.n_layers=n_layers\n",
        "    self.n_neurons=n_neurons\n",
        "    self.layer1 = nn.Linear(self.n_input,self.n_neurons[0],bias=True)\n",
        "    self.layer2 = nn.Linear(self.n_neurons[0], self.n_neurons[1],bias=False)\n",
        "    self.layer3 = nn.Linear(self.n_neurons[1], 1, bias=True)\n",
        "    self.relu=nn.ReLU()\n",
        "    \n",
        "  def forward(self,x):\n",
        "    x=self.layer1(x)\n",
        "    x=self.relu(x)\n",
        "    x=self.layer2(x)\n",
        "    x=self.relu(x)\n",
        "    x=self.layer3(x)\n",
        "    return x\n",
        "mlp=MLP()"
      ],
      "execution_count": 23,
      "outputs": []
    },
    {
      "cell_type": "code",
      "metadata": {
        "id": "bbHnwg9PX1rZ"
      },
      "source": [
        "criterion = nn.SmoothL1Loss(beta=0.1)\n",
        "optimizer = torch.optim.Adam(mlp.parameters())"
      ],
      "execution_count": 24,
      "outputs": []
    },
    {
      "cell_type": "code",
      "metadata": {
        "id": "VnSvsy40mffz"
      },
      "source": [
        "config={\"num_epochs\":64}"
      ],
      "execution_count": 25,
      "outputs": []
    },
    {
      "cell_type": "code",
      "metadata": {
        "colab": {
          "base_uri": "https://localhost:8080/"
        },
        "id": "GmiKGeJ0pV3R",
        "outputId": "29cb9d75-738c-41f2-8ce5-dc26678bcfeb"
      },
      "source": [
        "mlp.double()"
      ],
      "execution_count": 26,
      "outputs": [
        {
          "output_type": "execute_result",
          "data": {
            "text/plain": [
              "MLP(\n",
              "  (layer1): Linear(in_features=18, out_features=18, bias=True)\n",
              "  (layer2): Linear(in_features=18, out_features=18, bias=False)\n",
              "  (layer3): Linear(in_features=18, out_features=1, bias=True)\n",
              "  (relu): ReLU()\n",
              ")"
            ]
          },
          "metadata": {
            "tags": []
          },
          "execution_count": 26
        }
      ]
    },
    {
      "cell_type": "markdown",
      "metadata": {
        "id": "gTzJNuK-d9Yv"
      },
      "source": [
        "**4.3.2 Train the model**"
      ]
    },
    {
      "cell_type": "code",
      "metadata": {
        "colab": {
          "base_uri": "https://localhost:8080/"
        },
        "id": "xdCP38CJZOgq",
        "outputId": "d20b8cf6-2ca4-4d25-e039-49558809b293"
      },
      "source": [
        "losses = []\n",
        "eval_losses = []\n",
        "test_losses = []\n",
        "for epoch in range(config[\"num_epochs\"]):\n",
        "    running_loss = 0.0\n",
        "    np.random.seed(i)\n",
        "    np.random.shuffle(train)\n",
        "    for i in range(train.shape[0]):\n",
        "      in_vec, target = train[i,:18],train[i,18]\n",
        "      in_vec = torch.from_numpy(in_vec)\n",
        "      target = torch.tensor(target)\n",
        "      optimizer.zero_grad() \n",
        "      \n",
        "      outputs = mlp(in_vec)\n",
        "      loss = criterion(outputs, target)\n",
        "      \n",
        "      loss.backward()\n",
        "      optimizer.step()\n",
        "\n",
        "      running_loss += loss.item()\n",
        "    \n",
        "    eval_loss = 0.0\n",
        "    for i in range(val.shape[0]):\n",
        "      eval_loss += criterion(mlp(torch.from_numpy(val[i,:18])), torch.tensor(val[i,18]))\n",
        "    \n",
        "    test_loss = 0.0\n",
        "    for i in range(test.shape[0]):\n",
        "      test_loss += criterion(mlp(torch.from_numpy(test[i,:18])), torch.tensor(test[i,18]))\n",
        "    \n",
        "    print(f'epoch:{epoch} loss:{running_loss}, evaluation loss:{eval_loss}, test loss:{test_loss}')\n",
        "    losses.append(running_loss)\n",
        "    eval_losses.append(eval_loss)\n",
        "    test_losses.append(test_loss)"
      ],
      "execution_count": 27,
      "outputs": [
        {
          "output_type": "stream",
          "text": [
            "/usr/local/lib/python3.7/dist-packages/torch/nn/modules/loss.py:907: UserWarning: Using a target size (torch.Size([])) that is different to the input size (torch.Size([1])). This will likely lead to incorrect results due to broadcasting. Please ensure they have the same size.\n",
            "  return F.smooth_l1_loss(input, target, reduction=self.reduction, beta=self.beta)\n"
          ],
          "name": "stderr"
        },
        {
          "output_type": "stream",
          "text": [
            "epoch:0 loss:10.781517025024122, evaluation loss:0.29818415681590493, test loss:0.3783654418485898\n",
            "epoch:1 loss:4.484370339327279, evaluation loss:0.31200419766786003, test loss:0.27930275949044703\n",
            "epoch:2 loss:3.7840311201827252, evaluation loss:0.1088234304344376, test loss:0.09337057856681209\n",
            "epoch:3 loss:3.687972541082278, evaluation loss:0.2102011444779204, test loss:0.15353686247697776\n",
            "epoch:4 loss:3.5862835317780104, evaluation loss:0.12987352812987218, test loss:0.19780597200326536\n",
            "epoch:5 loss:3.204406205375074, evaluation loss:0.11348009841650311, test loss:0.09406263544493025\n",
            "epoch:6 loss:3.1425112965018105, evaluation loss:0.40233125218850385, test loss:0.350259193376201\n",
            "epoch:7 loss:2.6291880676277697, evaluation loss:0.11090752785211308, test loss:0.08897225606808118\n",
            "epoch:8 loss:2.8819152301863706, evaluation loss:0.08700103418006258, test loss:0.06504119846857238\n",
            "epoch:9 loss:2.7613413906401556, evaluation loss:0.08432254059389577, test loss:0.0962389457084129\n",
            "epoch:10 loss:2.437514603192806, evaluation loss:0.10146099972367, test loss:0.14080254758287333\n",
            "epoch:11 loss:1.9981657616472854, evaluation loss:0.08099011135614449, test loss:0.11580765200072188\n",
            "epoch:12 loss:2.0419074832007627, evaluation loss:0.3896648819414993, test loss:0.5477185106923488\n",
            "epoch:13 loss:1.947394618870203, evaluation loss:0.44021936225003516, test loss:0.4030507149735629\n",
            "epoch:14 loss:1.7760273743789226, evaluation loss:0.0723841217131188, test loss:0.059231241306517336\n",
            "epoch:15 loss:1.974768674532186, evaluation loss:1.1356035452390136, test loss:1.1559746068403884\n",
            "epoch:16 loss:1.713637563093835, evaluation loss:0.1418836430059011, test loss:0.10829157534403783\n",
            "epoch:17 loss:1.5581490219962748, evaluation loss:0.1495699140513367, test loss:0.12700673194092438\n",
            "epoch:18 loss:1.7244646997255413, evaluation loss:0.1376775869839001, test loss:0.17850647051279636\n",
            "epoch:19 loss:1.5916057429543422, evaluation loss:0.04871797367602348, test loss:0.05501515002964436\n",
            "epoch:20 loss:1.6777628776241136, evaluation loss:0.11845454413551927, test loss:0.09080713529243359\n",
            "epoch:21 loss:1.749523042716763, evaluation loss:0.03913051802416743, test loss:0.04472325319226266\n",
            "epoch:22 loss:1.7207842195561407, evaluation loss:0.049616278969720595, test loss:0.04247527057575528\n",
            "epoch:23 loss:1.519056869767151, evaluation loss:0.11380050024219565, test loss:0.17889784399192193\n",
            "epoch:24 loss:1.4788661446701266, evaluation loss:0.05643744511601442, test loss:0.04319951672238417\n",
            "epoch:25 loss:1.6446809224891326, evaluation loss:0.039915097527724375, test loss:0.049075870542859015\n",
            "epoch:26 loss:1.6343444268957856, evaluation loss:0.04241735642250715, test loss:0.0511186123986647\n",
            "epoch:27 loss:1.371245750084794, evaluation loss:0.03792968547053993, test loss:0.05100221065087046\n",
            "epoch:28 loss:1.2579000329475545, evaluation loss:0.047222774449973484, test loss:0.07626715885829594\n",
            "epoch:29 loss:1.132585711431833, evaluation loss:0.04912855396820822, test loss:0.06544450275178093\n",
            "epoch:30 loss:1.182657592735509, evaluation loss:0.08005510595688725, test loss:0.07530930091392522\n",
            "epoch:31 loss:1.3988704425705099, evaluation loss:0.07360680820435371, test loss:0.08922632861474204\n",
            "epoch:32 loss:1.4438990233621454, evaluation loss:0.044164639714833503, test loss:0.038079914270989224\n",
            "epoch:33 loss:1.3298357063809407, evaluation loss:0.04539460462920334, test loss:0.04352532354331888\n",
            "epoch:34 loss:1.2463962235039328, evaluation loss:0.0380232756155769, test loss:0.057250913783756706\n",
            "epoch:35 loss:1.3328914675576995, evaluation loss:0.03287570377348561, test loss:0.04624614910264727\n",
            "epoch:36 loss:1.2747516385989508, evaluation loss:0.0411880967154591, test loss:0.050149339586562654\n",
            "epoch:37 loss:1.3074067416807724, evaluation loss:0.05096539571640121, test loss:0.04220949673392154\n",
            "epoch:38 loss:1.3544242991306599, evaluation loss:0.030437976513342242, test loss:0.034647214199179203\n",
            "epoch:39 loss:1.0736384788370732, evaluation loss:0.03145438567397008, test loss:0.03681461866539905\n",
            "epoch:40 loss:1.1646438876630882, evaluation loss:0.03504600532657708, test loss:0.04782189013491305\n",
            "epoch:41 loss:1.2531766548597418, evaluation loss:0.11526242085337628, test loss:0.18850516934431788\n",
            "epoch:42 loss:1.0835470150444801, evaluation loss:0.15357541990689477, test loss:0.2447342985550058\n",
            "epoch:43 loss:1.089896061806053, evaluation loss:0.027980816743910685, test loss:0.033764990492502\n",
            "epoch:44 loss:0.997118699441726, evaluation loss:0.027579926590396014, test loss:0.032123762592228364\n",
            "epoch:45 loss:1.1466970120020503, evaluation loss:0.04461197516302245, test loss:0.07515770052026231\n",
            "epoch:46 loss:1.0322485763582157, evaluation loss:0.057912539433267005, test loss:0.04644260637715929\n",
            "epoch:47 loss:0.9259444341741683, evaluation loss:0.03126276783938934, test loss:0.03574338221723426\n",
            "epoch:48 loss:1.0851623950440386, evaluation loss:0.02741293896987421, test loss:0.04037106272004767\n",
            "epoch:49 loss:0.9313599525862338, evaluation loss:0.2176414871002111, test loss:0.3235809448199649\n",
            "epoch:50 loss:1.0918421263908635, evaluation loss:0.024842784523843378, test loss:0.035821581181648084\n",
            "epoch:51 loss:0.9336988006737019, evaluation loss:0.14786543017910708, test loss:0.22674257498414616\n",
            "epoch:52 loss:1.1018367845921246, evaluation loss:0.043643749065363356, test loss:0.040868631960469956\n",
            "epoch:53 loss:0.9522326929475172, evaluation loss:0.0293702674924435, test loss:0.032007116984279015\n",
            "epoch:54 loss:0.9740698764972474, evaluation loss:0.024631483235833758, test loss:0.03698566806103316\n",
            "epoch:55 loss:0.9364618320877108, evaluation loss:0.21389132661769794, test loss:0.21295731265455886\n",
            "epoch:56 loss:0.9688144954549766, evaluation loss:0.03586392490009212, test loss:0.04461684707487646\n",
            "epoch:57 loss:0.8392702515926533, evaluation loss:0.20351673860051075, test loss:0.30788901812295244\n",
            "epoch:58 loss:0.9694933247229757, evaluation loss:0.06043443655993525, test loss:0.0630741278837911\n",
            "epoch:59 loss:0.9374604053226022, evaluation loss:0.05615276461317882, test loss:0.051636483804431484\n",
            "epoch:60 loss:0.9288128025021227, evaluation loss:0.08133731057373943, test loss:0.07522346360858681\n",
            "epoch:61 loss:1.0048792269223348, evaluation loss:0.0343065545629598, test loss:0.046226518448582714\n",
            "epoch:62 loss:0.9331646977134213, evaluation loss:0.07531954910174864, test loss:0.07459096483676175\n",
            "epoch:63 loss:0.8769087011963754, evaluation loss:0.052932863404742576, test loss:0.05589669826245406\n"
          ],
          "name": "stdout"
        }
      ]
    },
    {
      "cell_type": "markdown",
      "metadata": {
        "id": "5zEMAc3k7Phl"
      },
      "source": [
        "The accumulated training loss per epoch:"
      ]
    },
    {
      "cell_type": "code",
      "metadata": {
        "colab": {
          "base_uri": "https://localhost:8080/",
          "height": 279
        },
        "id": "PElINeYkKtad",
        "outputId": "2f80ac58-a37f-4397-e837-810e680333f0"
      },
      "source": [
        "plt.plot(losses)\n",
        "plt.xlabel(\"epoch\")\n",
        "plt.show()"
      ],
      "execution_count": 28,
      "outputs": [
        {
          "output_type": "display_data",
          "data": {
            "image/png": "[encoded data removed]",
            "text/plain": [
              "<Figure size 432x288 with 1 Axes>"
            ]
          },
          "metadata": {
            "tags": [],
            "needs_background": "light"
          }
        }
      ]
    },
    {
      "cell_type": "markdown",
      "metadata": {
        "id": "ra2mgN6N7Z4c"
      },
      "source": [
        "The accumulated evaluation loss and test loss per epoch:<br/>\n",
        "(Since the number of samples for evaluation and test are a lot samller than the number of training samples, the accumulated loss is smaller)"
      ]
    },
    {
      "cell_type": "code",
      "metadata": {
        "colab": {
          "base_uri": "https://localhost:8080/",
          "height": 281
        },
        "id": "OQCkWXAq7B7m",
        "outputId": "64e63bcd-92b8-466d-9eee-73cfc406a7dc"
      },
      "source": [
        "plt.plot(eval_losses)\n",
        "plt.plot(test_losses)\n",
        "plt.xlabel(\"epoch\")\n",
        "plt.show()"
      ],
      "execution_count": 29,
      "outputs": [
        {
          "output_type": "display_data",
          "data": {
            "image/png": "[encoded data removed]",
            "text/plain": [
              "<Figure size 432x288 with 1 Axes>"
            ]
          },
          "metadata": {
            "tags": [],
            "needs_background": "light"
          }
        }
      ]
    },
    {
      "cell_type": "markdown",
      "metadata": {
        "id": "URFG1_BTc2sW"
      },
      "source": [
        "# **5. Visualization and Report Findings**"
      ]
    },
    {
      "cell_type": "markdown",
      "metadata": {
        "id": "zpEux4ad8cBE"
      },
      "source": [
        "Summary: In this project, we looked at the Covid-19 dataset and analyzed the variables which are highly related to the increase of pandemic, and used these variables to build a model predicting the increasing cases of infections for the future.<br/><br/>\n",
        "To illustrate how well our model performs, we give two concrete examples of the United States and Italy to visualize our model's prediction in comparison to the ground truth. "
      ]
    },
    {
      "cell_type": "markdown",
      "metadata": {
        "id": "X5_w-pe25lfO"
      },
      "source": [
        "## **5.1 concrete case visualization: the United States**"
      ]
    },
    {
      "cell_type": "markdown",
      "metadata": {
        "id": "f5VLCTApY7k7"
      },
      "source": [
        "**5.1.1 Compute the prediction for every date:**<br/>\n",
        "Principle: If any input variable is missing, then the prediction for this date is not done and simply assigned NaN."
      ]
    },
    {
      "cell_type": "code",
      "metadata": {
        "id": "-FtDM9a4HE5h"
      },
      "source": [
        "df_current=df_us\n",
        "df_current['prediction']=np.nan\n",
        "for i in range(16,df_current.shape[0]):\n",
        "  inputs=[]\n",
        "  if np.isnan(df_current.iat[i-1,4]):\n",
        "    continue\n",
        "  inputs.append(df_current.iat[i-1,4])\n",
        "  check=1\n",
        "  for j in range(1,16):\n",
        "    if np.isnan(df_current.iat[i-j,6]):\n",
        "      check=0\n",
        "    else:\n",
        "      inputs.append(df_current.iat[i-j,6])\n",
        "  inputs.append(df_current.iat[i-1,35])\n",
        "  inputs.append(df_current.iat[i-1,44])\n",
        "\n",
        "  if check==1:\n",
        "    inputs.append(0)\n",
        "    inputs=(inputs-MIN)/(MAX-MIN)\n",
        "    inputs=inputs[:18]\n",
        "    inputs=torch.tensor(inputs)\n",
        "    outputs=mlp(inputs)\n",
        "    outputs=outputs.detach().numpy()\n",
        "    outputs=outputs*(MAX[18]-MIN[18])+MIN[18]\n",
        "    df_current.iat[i,60]=outputs"
      ],
      "execution_count": 32,
      "outputs": []
    },
    {
      "cell_type": "markdown",
      "metadata": {
        "id": "w0bmwulfX4Uy"
      },
      "source": [
        "**5.1.2 Table Comparison between the prediction and GroundTruth:**"
      ]
    },
    {
      "cell_type": "code",
      "metadata": {
        "id": "ON1xTxrAhZKy"
      },
      "source": [
        "def InverseDF(df):\n",
        "  return pd.DataFrame(df.values.T, index=df.columns, columns=df.index)"
      ],
      "execution_count": 33,
      "outputs": []
    },
    {
      "cell_type": "code",
      "metadata": {
        "id": "K83jofxJX73u"
      },
      "source": [
        "df_current=df_current[~np.isnan(df_current['prediction'])]\n"
      ],
      "execution_count": 34,
      "outputs": []
    },
    {
      "cell_type": "code",
      "metadata": {
        "id": "cVjQpszWgQNV"
      },
      "source": [
        "df_current=df_current.loc[:,['date','new_cases','new_cases_smoothed','prediction']]"
      ],
      "execution_count": 35,
      "outputs": []
    },
    {
      "cell_type": "code",
      "metadata": {
        "colab": {
          "base_uri": "https://localhost:8080/",
          "height": 239
        },
        "id": "unJ6krtEhTbH",
        "outputId": "13835c23-e4f6-4847-b1ba-117e31986ddc"
      },
      "source": [
        "df_current=InverseDF(df_current)\n",
        "df_current"
      ],
      "execution_count": 36,
      "outputs": [
        {
          "output_type": "execute_result",
          "data": {
            "text/html": [
              "<div>\n",
              "<style scoped>\n",
              "    .dataframe tbody tr th:only-of-type {\n",
              "        vertical-align: middle;\n",
              "    }\n",
              "\n",
              "    .dataframe tbody tr th {\n",
              "        vertical-align: top;\n",
              "    }\n",
              "\n",
              "    .dataframe thead th {\n",
              "        text-align: right;\n",
              "    }\n",
              "</style>\n",
              "<table border=\"1\" class=\"dataframe\">\n",
              "  <thead>\n",
              "    <tr style=\"text-align: right;\">\n",
              "      <th></th>\n",
              "      <th>90244</th>\n",
              "      <th>90245</th>\n",
              "      <th>90247</th>\n",
              "      <th>90250</th>\n",
              "      <th>90252</th>\n",
              "      <th>90254</th>\n",
              "      <th>90257</th>\n",
              "      <th>90259</th>\n",
              "      <th>90260</th>\n",
              "      <th>90261</th>\n",
              "      <th>90262</th>\n",
              "      <th>90263</th>\n",
              "      <th>90266</th>\n",
              "      <th>90267</th>\n",
              "      <th>90269</th>\n",
              "      <th>90270</th>\n",
              "      <th>90274</th>\n",
              "      <th>90275</th>\n",
              "      <th>90276</th>\n",
              "      <th>90277</th>\n",
              "      <th>90278</th>\n",
              "      <th>90279</th>\n",
              "      <th>90280</th>\n",
              "      <th>90281</th>\n",
              "      <th>90282</th>\n",
              "      <th>90283</th>\n",
              "      <th>90284</th>\n",
              "      <th>90285</th>\n",
              "      <th>90286</th>\n",
              "      <th>90287</th>\n",
              "      <th>90288</th>\n",
              "      <th>90289</th>\n",
              "      <th>90290</th>\n",
              "      <th>90291</th>\n",
              "      <th>90292</th>\n",
              "      <th>90293</th>\n",
              "      <th>90294</th>\n",
              "      <th>90295</th>\n",
              "      <th>90296</th>\n",
              "      <th>90297</th>\n",
              "      <th>...</th>\n",
              "      <th>90375</th>\n",
              "      <th>90376</th>\n",
              "      <th>90377</th>\n",
              "      <th>90378</th>\n",
              "      <th>90379</th>\n",
              "      <th>90380</th>\n",
              "      <th>90381</th>\n",
              "      <th>90382</th>\n",
              "      <th>90383</th>\n",
              "      <th>90384</th>\n",
              "      <th>90385</th>\n",
              "      <th>90386</th>\n",
              "      <th>90387</th>\n",
              "      <th>90388</th>\n",
              "      <th>90389</th>\n",
              "      <th>90390</th>\n",
              "      <th>90391</th>\n",
              "      <th>90392</th>\n",
              "      <th>90393</th>\n",
              "      <th>90394</th>\n",
              "      <th>90395</th>\n",
              "      <th>90396</th>\n",
              "      <th>90397</th>\n",
              "      <th>90398</th>\n",
              "      <th>90399</th>\n",
              "      <th>90400</th>\n",
              "      <th>90401</th>\n",
              "      <th>90402</th>\n",
              "      <th>90403</th>\n",
              "      <th>90404</th>\n",
              "      <th>90405</th>\n",
              "      <th>90407</th>\n",
              "      <th>90408</th>\n",
              "      <th>90409</th>\n",
              "      <th>90410</th>\n",
              "      <th>90411</th>\n",
              "      <th>90412</th>\n",
              "      <th>90413</th>\n",
              "      <th>90414</th>\n",
              "      <th>90415</th>\n",
              "    </tr>\n",
              "  </thead>\n",
              "  <tbody>\n",
              "    <tr>\n",
              "      <th>date</th>\n",
              "      <td>2020-12-21</td>\n",
              "      <td>2020-12-22</td>\n",
              "      <td>2020-12-24</td>\n",
              "      <td>2020-12-27</td>\n",
              "      <td>2020-12-29</td>\n",
              "      <td>2020-12-31</td>\n",
              "      <td>2021-01-03</td>\n",
              "      <td>2021-01-05</td>\n",
              "      <td>2021-01-06</td>\n",
              "      <td>2021-01-07</td>\n",
              "      <td>2021-01-08</td>\n",
              "      <td>2021-01-09</td>\n",
              "      <td>2021-01-12</td>\n",
              "      <td>2021-01-13</td>\n",
              "      <td>2021-01-15</td>\n",
              "      <td>2021-01-16</td>\n",
              "      <td>2021-01-20</td>\n",
              "      <td>2021-01-21</td>\n",
              "      <td>2021-01-22</td>\n",
              "      <td>2021-01-23</td>\n",
              "      <td>2021-01-24</td>\n",
              "      <td>2021-01-25</td>\n",
              "      <td>2021-01-26</td>\n",
              "      <td>2021-01-27</td>\n",
              "      <td>2021-01-28</td>\n",
              "      <td>2021-01-29</td>\n",
              "      <td>2021-01-30</td>\n",
              "      <td>2021-01-31</td>\n",
              "      <td>2021-02-01</td>\n",
              "      <td>2021-02-02</td>\n",
              "      <td>2021-02-03</td>\n",
              "      <td>2021-02-04</td>\n",
              "      <td>2021-02-05</td>\n",
              "      <td>2021-02-06</td>\n",
              "      <td>2021-02-07</td>\n",
              "      <td>2021-02-08</td>\n",
              "      <td>2021-02-09</td>\n",
              "      <td>2021-02-10</td>\n",
              "      <td>2021-02-11</td>\n",
              "      <td>2021-02-12</td>\n",
              "      <td>...</td>\n",
              "      <td>2021-05-01</td>\n",
              "      <td>2021-05-02</td>\n",
              "      <td>2021-05-03</td>\n",
              "      <td>2021-05-04</td>\n",
              "      <td>2021-05-05</td>\n",
              "      <td>2021-05-06</td>\n",
              "      <td>2021-05-07</td>\n",
              "      <td>2021-05-08</td>\n",
              "      <td>2021-05-09</td>\n",
              "      <td>2021-05-10</td>\n",
              "      <td>2021-05-11</td>\n",
              "      <td>2021-05-12</td>\n",
              "      <td>2021-05-13</td>\n",
              "      <td>2021-05-14</td>\n",
              "      <td>2021-05-15</td>\n",
              "      <td>2021-05-16</td>\n",
              "      <td>2021-05-17</td>\n",
              "      <td>2021-05-18</td>\n",
              "      <td>2021-05-19</td>\n",
              "      <td>2021-05-20</td>\n",
              "      <td>2021-05-21</td>\n",
              "      <td>2021-05-22</td>\n",
              "      <td>2021-05-23</td>\n",
              "      <td>2021-05-24</td>\n",
              "      <td>2021-05-25</td>\n",
              "      <td>2021-05-26</td>\n",
              "      <td>2021-05-27</td>\n",
              "      <td>2021-05-28</td>\n",
              "      <td>2021-05-29</td>\n",
              "      <td>2021-05-30</td>\n",
              "      <td>2021-05-31</td>\n",
              "      <td>2021-06-02</td>\n",
              "      <td>2021-06-03</td>\n",
              "      <td>2021-06-04</td>\n",
              "      <td>2021-06-05</td>\n",
              "      <td>2021-06-06</td>\n",
              "      <td>2021-06-07</td>\n",
              "      <td>2021-06-08</td>\n",
              "      <td>2021-06-09</td>\n",
              "      <td>2021-06-10</td>\n",
              "    </tr>\n",
              "    <tr>\n",
              "      <th>new_cases</th>\n",
              "      <td>198703</td>\n",
              "      <td>198107</td>\n",
              "      <td>194155</td>\n",
              "      <td>155845</td>\n",
              "      <td>200408</td>\n",
              "      <td>235600</td>\n",
              "      <td>208853</td>\n",
              "      <td>235042</td>\n",
              "      <td>255637</td>\n",
              "      <td>278337</td>\n",
              "      <td>295257</td>\n",
              "      <td>260967</td>\n",
              "      <td>226967</td>\n",
              "      <td>230301</td>\n",
              "      <td>242780</td>\n",
              "      <td>201858</td>\n",
              "      <td>183261</td>\n",
              "      <td>193856</td>\n",
              "      <td>190760</td>\n",
              "      <td>170759</td>\n",
              "      <td>131198</td>\n",
              "      <td>151677</td>\n",
              "      <td>147626</td>\n",
              "      <td>153961</td>\n",
              "      <td>168804</td>\n",
              "      <td>166613</td>\n",
              "      <td>142459</td>\n",
              "      <td>112152</td>\n",
              "      <td>134975</td>\n",
              "      <td>115303</td>\n",
              "      <td>121691</td>\n",
              "      <td>124006</td>\n",
              "      <td>134422</td>\n",
              "      <td>104176</td>\n",
              "      <td>89746</td>\n",
              "      <td>90438</td>\n",
              "      <td>95265</td>\n",
              "      <td>95250</td>\n",
              "      <td>105764</td>\n",
              "      <td>99670</td>\n",
              "      <td>...</td>\n",
              "      <td>45383</td>\n",
              "      <td>29404</td>\n",
              "      <td>50492</td>\n",
              "      <td>40716</td>\n",
              "      <td>44713</td>\n",
              "      <td>47552</td>\n",
              "      <td>48137</td>\n",
              "      <td>33676</td>\n",
              "      <td>21430</td>\n",
              "      <td>36804</td>\n",
              "      <td>33644</td>\n",
              "      <td>35839</td>\n",
              "      <td>38076</td>\n",
              "      <td>42259</td>\n",
              "      <td>28854</td>\n",
              "      <td>16887</td>\n",
              "      <td>28622</td>\n",
              "      <td>27790</td>\n",
              "      <td>29293</td>\n",
              "      <td>30208</td>\n",
              "      <td>27952</td>\n",
              "      <td>19799</td>\n",
              "      <td>12866</td>\n",
              "      <td>25819</td>\n",
              "      <td>22739</td>\n",
              "      <td>23972</td>\n",
              "      <td>27454</td>\n",
              "      <td>21858</td>\n",
              "      <td>11999</td>\n",
              "      <td>6733</td>\n",
              "      <td>5776</td>\n",
              "      <td>16913</td>\n",
              "      <td>19074</td>\n",
              "      <td>16860</td>\n",
              "      <td>13908</td>\n",
              "      <td>5395</td>\n",
              "      <td>15496</td>\n",
              "      <td>15150</td>\n",
              "      <td>18647</td>\n",
              "      <td>14417</td>\n",
              "    </tr>\n",
              "    <tr>\n",
              "      <th>new_cases_smoothed</th>\n",
              "      <td>218027</td>\n",
              "      <td>216472</td>\n",
              "      <td>207505</td>\n",
              "      <td>185819</td>\n",
              "      <td>182640</td>\n",
              "      <td>189143</td>\n",
              "      <td>215299</td>\n",
              "      <td>221654</td>\n",
              "      <td>224788</td>\n",
              "      <td>230893</td>\n",
              "      <td>251085</td>\n",
              "      <td>245443</td>\n",
              "      <td>249321</td>\n",
              "      <td>245701</td>\n",
              "      <td>232123</td>\n",
              "      <td>223679</td>\n",
              "      <td>194487</td>\n",
              "      <td>188500</td>\n",
              "      <td>181069</td>\n",
              "      <td>176626</td>\n",
              "      <td>169950</td>\n",
              "      <td>171104</td>\n",
              "      <td>167020</td>\n",
              "      <td>162834</td>\n",
              "      <td>159255</td>\n",
              "      <td>155805</td>\n",
              "      <td>151763</td>\n",
              "      <td>149042</td>\n",
              "      <td>146656</td>\n",
              "      <td>142038</td>\n",
              "      <td>137428</td>\n",
              "      <td>131028</td>\n",
              "      <td>126430</td>\n",
              "      <td>120961</td>\n",
              "      <td>117760</td>\n",
              "      <td>111397</td>\n",
              "      <td>108535</td>\n",
              "      <td>104758</td>\n",
              "      <td>102152</td>\n",
              "      <td>97187</td>\n",
              "      <td>...</td>\n",
              "      <td>49610.1</td>\n",
              "      <td>49215.7</td>\n",
              "      <td>49633.7</td>\n",
              "      <td>48187.3</td>\n",
              "      <td>46697.6</td>\n",
              "      <td>45168.6</td>\n",
              "      <td>43771</td>\n",
              "      <td>42098.6</td>\n",
              "      <td>40959.4</td>\n",
              "      <td>39004</td>\n",
              "      <td>37993.7</td>\n",
              "      <td>36726</td>\n",
              "      <td>35372.3</td>\n",
              "      <td>34532.6</td>\n",
              "      <td>33843.7</td>\n",
              "      <td>33194.7</td>\n",
              "      <td>32025.9</td>\n",
              "      <td>31189.6</td>\n",
              "      <td>30254.4</td>\n",
              "      <td>29130.4</td>\n",
              "      <td>27086.6</td>\n",
              "      <td>25793</td>\n",
              "      <td>25218.6</td>\n",
              "      <td>24818.1</td>\n",
              "      <td>24096.6</td>\n",
              "      <td>23336.4</td>\n",
              "      <td>22943</td>\n",
              "      <td>22072.4</td>\n",
              "      <td>20958.1</td>\n",
              "      <td>20082</td>\n",
              "      <td>17218.7</td>\n",
              "      <td>16239.4</td>\n",
              "      <td>15042.3</td>\n",
              "      <td>14328.3</td>\n",
              "      <td>14601</td>\n",
              "      <td>14409.9</td>\n",
              "      <td>15798.4</td>\n",
              "      <td>14685.1</td>\n",
              "      <td>14932.9</td>\n",
              "      <td>14267.6</td>\n",
              "    </tr>\n",
              "    <tr>\n",
              "      <th>prediction</th>\n",
              "      <td>216188</td>\n",
              "      <td>215553</td>\n",
              "      <td>211998</td>\n",
              "      <td>183634</td>\n",
              "      <td>174204</td>\n",
              "      <td>176978</td>\n",
              "      <td>202272</td>\n",
              "      <td>220207</td>\n",
              "      <td>224961</td>\n",
              "      <td>228348</td>\n",
              "      <td>231316</td>\n",
              "      <td>245890</td>\n",
              "      <td>252764</td>\n",
              "      <td>251837</td>\n",
              "      <td>241848</td>\n",
              "      <td>233279</td>\n",
              "      <td>195093</td>\n",
              "      <td>187175</td>\n",
              "      <td>181477</td>\n",
              "      <td>173636</td>\n",
              "      <td>169193</td>\n",
              "      <td>163976</td>\n",
              "      <td>162589</td>\n",
              "      <td>160813</td>\n",
              "      <td>158461</td>\n",
              "      <td>155600</td>\n",
              "      <td>152697</td>\n",
              "      <td>148725</td>\n",
              "      <td>145576</td>\n",
              "      <td>143255</td>\n",
              "      <td>139634</td>\n",
              "      <td>135303</td>\n",
              "      <td>129548</td>\n",
              "      <td>124190</td>\n",
              "      <td>118206</td>\n",
              "      <td>114251</td>\n",
              "      <td>108741</td>\n",
              "      <td>104957</td>\n",
              "      <td>101420</td>\n",
              "      <td>98888.4</td>\n",
              "      <td>...</td>\n",
              "      <td>51021</td>\n",
              "      <td>50384.1</td>\n",
              "      <td>49926.8</td>\n",
              "      <td>50037.5</td>\n",
              "      <td>49587.6</td>\n",
              "      <td>48579.6</td>\n",
              "      <td>47082.9</td>\n",
              "      <td>45522.4</td>\n",
              "      <td>43565.1</td>\n",
              "      <td>42055.5</td>\n",
              "      <td>40353.4</td>\n",
              "      <td>38973.4</td>\n",
              "      <td>37681.6</td>\n",
              "      <td>36515.7</td>\n",
              "      <td>35555.4</td>\n",
              "      <td>34967.8</td>\n",
              "      <td>34450</td>\n",
              "      <td>33612.2</td>\n",
              "      <td>32864.6</td>\n",
              "      <td>32001.9</td>\n",
              "      <td>30972.4</td>\n",
              "      <td>29265.8</td>\n",
              "      <td>27723.3</td>\n",
              "      <td>26586.2</td>\n",
              "      <td>25996.5</td>\n",
              "      <td>25485.1</td>\n",
              "      <td>25065.4</td>\n",
              "      <td>24742.7</td>\n",
              "      <td>24129.4</td>\n",
              "      <td>23232.8</td>\n",
              "      <td>22316.5</td>\n",
              "      <td>18965.8</td>\n",
              "      <td>17948.7</td>\n",
              "      <td>16838.8</td>\n",
              "      <td>16025.2</td>\n",
              "      <td>16167</td>\n",
              "      <td>16119.8</td>\n",
              "      <td>17206.2</td>\n",
              "      <td>17406.7</td>\n",
              "      <td>17664.9</td>\n",
              "    </tr>\n",
              "  </tbody>\n",
              "</table>\n",
              "<p>4 rows × 156 columns</p>\n",
              "</div>"
            ],
            "text/plain": [
              "                         90244       90245  ...       90414       90415\n",
              "date                2020-12-21  2020-12-22  ...  2021-06-09  2021-06-10\n",
              "new_cases               198703      198107  ...       18647       14417\n",
              "new_cases_smoothed      218027      216472  ...     14932.9     14267.6\n",
              "prediction              216188      215553  ...     17406.7     17664.9\n",
              "\n",
              "[4 rows x 156 columns]"
            ]
          },
          "metadata": {
            "tags": []
          },
          "execution_count": 36
        }
      ]
    },
    {
      "cell_type": "markdown",
      "metadata": {
        "id": "uZ9FHjU5iuh7"
      },
      "source": [
        "The column index number(like 90045) is the index of this data in the original dataset."
      ]
    },
    {
      "cell_type": "markdown",
      "metadata": {
        "id": "Exl4IfRBWAl2"
      },
      "source": [
        "**5.1.3 Graph Comparison between the prediction and GroundTruth:**<br/>\n"
      ]
    },
    {
      "cell_type": "code",
      "metadata": {
        "colab": {
          "base_uri": "https://localhost:8080/",
          "height": 387
        },
        "id": "KP-TqVu-OsuD",
        "outputId": "bf647a5d-9578-4ab6-9058-e7e590e7af96"
      },
      "source": [
        "plt.figure(figsize=(8,6))\n",
        "plt.plot(df_us['date'],df_us['new_cases'],label=\"GroundTruth\",color='cyan')\n",
        "plt.plot(df_us['date'],df_us['prediction'],label=\"Prediction\",color='red')\n",
        "plt.legend(loc='upper left', frameon=True)\n",
        "plt.xlabel('Dates from 2020.Feb to 2021.June')\n",
        "plt.ylabel('New Cases per day')\n",
        "plt.title('New Cases per day: Prediction vs. GroundTruth in US')\n",
        "plt.xticks([])\n",
        "plt.show()"
      ],
      "execution_count": 37,
      "outputs": [
        {
          "output_type": "display_data",
          "data": {
            "image/png": "[encoded data removed]",
            "text/plain": [
              "<Figure size 576x432 with 1 Axes>"
            ]
          },
          "metadata": {
            "tags": [],
            "needs_background": "light"
          }
        }
      ]
    },
    {
      "cell_type": "markdown",
      "metadata": {
        "id": "8MKTCSZaXCJj"
      },
      "source": [
        "**Why are there blank predictions?**<br/>\n",
        "Because:<br/>\n",
        "(1)The first half of dates have no vaccination data, so no predictions.<br/>\n",
        "(2)There are some NaNs between data and data, causing this discontinuity in the prediction line."
      ]
    },
    {
      "cell_type": "markdown",
      "metadata": {
        "id": "gYKbLz_Bd6B4"
      },
      "source": [
        "## **5.2 concrete case visualization: Italy**"
      ]
    },
    {
      "cell_type": "markdown",
      "metadata": {
        "id": "6ESUG2T5eDnf"
      },
      "source": [
        "**5.2.1 Compute the prediction for every date:**<br/>\n",
        "Principle: If any input variable is missing, then the prediction for this date is not done and simply assigned NaN."
      ]
    },
    {
      "cell_type": "code",
      "metadata": {
        "id": "CPOS6iUAeHpt",
        "colab": {
          "base_uri": "https://localhost:8080/"
        },
        "outputId": "2eda24d4-d692-48ec-836a-b40705934f85"
      },
      "source": [
        "df_ch=df[df['location']=='Italy']\n",
        "df_current=df_ch\n",
        "df_current['prediction']=np.nan\n",
        "for i in range(16,df_current.shape[0]):\n",
        "  inputs=[]\n",
        "  if np.isnan(df_current.iat[i-1,4]):\n",
        "    continue\n",
        "  inputs.append(df_current.iat[i-1,4])\n",
        "  check=1\n",
        "  for j in range(1,16):\n",
        "    if np.isnan(df_current.iat[i-j,6]):\n",
        "      check=0\n",
        "    else:\n",
        "      inputs.append(df_current.iat[i-j,6])\n",
        "  inputs.append(df_current.iat[i-1,35])\n",
        "  inputs.append(df_current.iat[i-1,44])\n",
        "\n",
        "  if check==1:\n",
        "    inputs.append(0)\n",
        "    inputs=(inputs-MIN)/(MAX-MIN)\n",
        "    inputs=inputs[:18]\n",
        "    inputs=torch.tensor(inputs)\n",
        "    outputs=mlp(inputs)\n",
        "    outputs=outputs.detach().numpy()\n",
        "    outputs=outputs*(MAX[18]-MIN[18])+MIN[18]\n",
        "    df_current.iat[i,60]=outputs"
      ],
      "execution_count": 51,
      "outputs": [
        {
          "output_type": "stream",
          "text": [
            "/usr/local/lib/python3.7/dist-packages/ipykernel_launcher.py:3: SettingWithCopyWarning: \n",
            "A value is trying to be set on a copy of a slice from a DataFrame.\n",
            "Try using .loc[row_indexer,col_indexer] = value instead\n",
            "\n",
            "See the caveats in the documentation: https://pandas.pydata.org/pandas-docs/stable/user_guide/indexing.html#returning-a-view-versus-a-copy\n",
            "  This is separate from the ipykernel package so we can avoid doing imports until\n"
          ],
          "name": "stderr"
        }
      ]
    },
    {
      "cell_type": "markdown",
      "metadata": {
        "id": "_dt-sbXPemtp"
      },
      "source": [
        "**5.2.2 Table Comparison between the prediction and GroundTruth:**"
      ]
    },
    {
      "cell_type": "code",
      "metadata": {
        "colab": {
          "base_uri": "https://localhost:8080/",
          "height": 239
        },
        "id": "luX5r-w9eyuy",
        "outputId": "05c52814-8ca8-4b48-814f-f1fef7bde571"
      },
      "source": [
        "df_current=df_current[~np.isnan(df_current['prediction'])]\n",
        "df_current=df_current.loc[:,['date','new_cases','new_cases_smoothed','prediction']]\n",
        "df_current=InverseDF(df_current)\n",
        "df_current"
      ],
      "execution_count": 52,
      "outputs": [
        {
          "output_type": "execute_result",
          "data": {
            "text/html": [
              "<div>\n",
              "<style scoped>\n",
              "    .dataframe tbody tr th:only-of-type {\n",
              "        vertical-align: middle;\n",
              "    }\n",
              "\n",
              "    .dataframe tbody tr th {\n",
              "        vertical-align: top;\n",
              "    }\n",
              "\n",
              "    .dataframe thead th {\n",
              "        text-align: right;\n",
              "    }\n",
              "</style>\n",
              "<table border=\"1\" class=\"dataframe\">\n",
              "  <thead>\n",
              "    <tr style=\"text-align: right;\">\n",
              "      <th></th>\n",
              "      <th>43066</th>\n",
              "      <th>43067</th>\n",
              "      <th>43068</th>\n",
              "      <th>43069</th>\n",
              "      <th>43070</th>\n",
              "      <th>43071</th>\n",
              "      <th>43072</th>\n",
              "      <th>43073</th>\n",
              "      <th>43074</th>\n",
              "      <th>43075</th>\n",
              "      <th>43076</th>\n",
              "      <th>43077</th>\n",
              "      <th>43078</th>\n",
              "      <th>43079</th>\n",
              "      <th>43080</th>\n",
              "      <th>43081</th>\n",
              "      <th>43082</th>\n",
              "      <th>43083</th>\n",
              "      <th>43084</th>\n",
              "      <th>43085</th>\n",
              "      <th>43086</th>\n",
              "      <th>43087</th>\n",
              "      <th>43088</th>\n",
              "      <th>43089</th>\n",
              "      <th>43090</th>\n",
              "      <th>43091</th>\n",
              "      <th>43092</th>\n",
              "      <th>43093</th>\n",
              "      <th>43094</th>\n",
              "      <th>43095</th>\n",
              "      <th>43096</th>\n",
              "      <th>43097</th>\n",
              "      <th>43098</th>\n",
              "      <th>43099</th>\n",
              "      <th>43100</th>\n",
              "      <th>43101</th>\n",
              "      <th>43102</th>\n",
              "      <th>43103</th>\n",
              "      <th>43104</th>\n",
              "      <th>43105</th>\n",
              "      <th>...</th>\n",
              "      <th>43176</th>\n",
              "      <th>43177</th>\n",
              "      <th>43178</th>\n",
              "      <th>43179</th>\n",
              "      <th>43180</th>\n",
              "      <th>43181</th>\n",
              "      <th>43182</th>\n",
              "      <th>43183</th>\n",
              "      <th>43184</th>\n",
              "      <th>43185</th>\n",
              "      <th>43186</th>\n",
              "      <th>43187</th>\n",
              "      <th>43188</th>\n",
              "      <th>43189</th>\n",
              "      <th>43190</th>\n",
              "      <th>43191</th>\n",
              "      <th>43192</th>\n",
              "      <th>43193</th>\n",
              "      <th>43194</th>\n",
              "      <th>43195</th>\n",
              "      <th>43196</th>\n",
              "      <th>43197</th>\n",
              "      <th>43198</th>\n",
              "      <th>43199</th>\n",
              "      <th>43200</th>\n",
              "      <th>43201</th>\n",
              "      <th>43202</th>\n",
              "      <th>43203</th>\n",
              "      <th>43204</th>\n",
              "      <th>43205</th>\n",
              "      <th>43206</th>\n",
              "      <th>43207</th>\n",
              "      <th>43208</th>\n",
              "      <th>43209</th>\n",
              "      <th>43210</th>\n",
              "      <th>43211</th>\n",
              "      <th>43212</th>\n",
              "      <th>43213</th>\n",
              "      <th>43214</th>\n",
              "      <th>43215</th>\n",
              "    </tr>\n",
              "  </thead>\n",
              "  <tbody>\n",
              "    <tr>\n",
              "      <th>date</th>\n",
              "      <td>2021-01-12</td>\n",
              "      <td>2021-01-13</td>\n",
              "      <td>2021-01-14</td>\n",
              "      <td>2021-01-15</td>\n",
              "      <td>2021-01-16</td>\n",
              "      <td>2021-01-17</td>\n",
              "      <td>2021-01-18</td>\n",
              "      <td>2021-01-19</td>\n",
              "      <td>2021-01-20</td>\n",
              "      <td>2021-01-21</td>\n",
              "      <td>2021-01-22</td>\n",
              "      <td>2021-01-23</td>\n",
              "      <td>2021-01-24</td>\n",
              "      <td>2021-01-25</td>\n",
              "      <td>2021-01-26</td>\n",
              "      <td>2021-01-27</td>\n",
              "      <td>2021-01-28</td>\n",
              "      <td>2021-01-29</td>\n",
              "      <td>2021-01-30</td>\n",
              "      <td>2021-01-31</td>\n",
              "      <td>2021-02-01</td>\n",
              "      <td>2021-02-02</td>\n",
              "      <td>2021-02-03</td>\n",
              "      <td>2021-02-04</td>\n",
              "      <td>2021-02-05</td>\n",
              "      <td>2021-02-06</td>\n",
              "      <td>2021-02-07</td>\n",
              "      <td>2021-02-08</td>\n",
              "      <td>2021-02-09</td>\n",
              "      <td>2021-02-10</td>\n",
              "      <td>2021-02-11</td>\n",
              "      <td>2021-02-12</td>\n",
              "      <td>2021-02-13</td>\n",
              "      <td>2021-02-14</td>\n",
              "      <td>2021-02-15</td>\n",
              "      <td>2021-02-16</td>\n",
              "      <td>2021-02-17</td>\n",
              "      <td>2021-02-18</td>\n",
              "      <td>2021-02-19</td>\n",
              "      <td>2021-02-20</td>\n",
              "      <td>...</td>\n",
              "      <td>2021-05-02</td>\n",
              "      <td>2021-05-03</td>\n",
              "      <td>2021-05-04</td>\n",
              "      <td>2021-05-05</td>\n",
              "      <td>2021-05-06</td>\n",
              "      <td>2021-05-07</td>\n",
              "      <td>2021-05-08</td>\n",
              "      <td>2021-05-09</td>\n",
              "      <td>2021-05-10</td>\n",
              "      <td>2021-05-11</td>\n",
              "      <td>2021-05-12</td>\n",
              "      <td>2021-05-13</td>\n",
              "      <td>2021-05-14</td>\n",
              "      <td>2021-05-15</td>\n",
              "      <td>2021-05-16</td>\n",
              "      <td>2021-05-17</td>\n",
              "      <td>2021-05-18</td>\n",
              "      <td>2021-05-19</td>\n",
              "      <td>2021-05-20</td>\n",
              "      <td>2021-05-21</td>\n",
              "      <td>2021-05-22</td>\n",
              "      <td>2021-05-23</td>\n",
              "      <td>2021-05-24</td>\n",
              "      <td>2021-05-25</td>\n",
              "      <td>2021-05-26</td>\n",
              "      <td>2021-05-27</td>\n",
              "      <td>2021-05-28</td>\n",
              "      <td>2021-05-29</td>\n",
              "      <td>2021-05-30</td>\n",
              "      <td>2021-05-31</td>\n",
              "      <td>2021-06-01</td>\n",
              "      <td>2021-06-02</td>\n",
              "      <td>2021-06-03</td>\n",
              "      <td>2021-06-04</td>\n",
              "      <td>2021-06-05</td>\n",
              "      <td>2021-06-06</td>\n",
              "      <td>2021-06-07</td>\n",
              "      <td>2021-06-08</td>\n",
              "      <td>2021-06-09</td>\n",
              "      <td>2021-06-10</td>\n",
              "    </tr>\n",
              "    <tr>\n",
              "      <th>new_cases</th>\n",
              "      <td>14242</td>\n",
              "      <td>15773</td>\n",
              "      <td>17243</td>\n",
              "      <td>16144</td>\n",
              "      <td>16310</td>\n",
              "      <td>12544</td>\n",
              "      <td>8825</td>\n",
              "      <td>10496</td>\n",
              "      <td>13568</td>\n",
              "      <td>14055</td>\n",
              "      <td>13633</td>\n",
              "      <td>13331</td>\n",
              "      <td>11628</td>\n",
              "      <td>8559</td>\n",
              "      <td>10584</td>\n",
              "      <td>15191</td>\n",
              "      <td>14360</td>\n",
              "      <td>13563</td>\n",
              "      <td>12713</td>\n",
              "      <td>11249</td>\n",
              "      <td>7925</td>\n",
              "      <td>9651</td>\n",
              "      <td>13182</td>\n",
              "      <td>13656</td>\n",
              "      <td>14213</td>\n",
              "      <td>13439</td>\n",
              "      <td>11640</td>\n",
              "      <td>7969</td>\n",
              "      <td>10612</td>\n",
              "      <td>12947</td>\n",
              "      <td>15137</td>\n",
              "      <td>13893</td>\n",
              "      <td>13523</td>\n",
              "      <td>11060</td>\n",
              "      <td>7344</td>\n",
              "      <td>10368</td>\n",
              "      <td>12066</td>\n",
              "      <td>13755</td>\n",
              "      <td>15470</td>\n",
              "      <td>14914</td>\n",
              "      <td>...</td>\n",
              "      <td>9145</td>\n",
              "      <td>5946</td>\n",
              "      <td>9113</td>\n",
              "      <td>10579</td>\n",
              "      <td>11798</td>\n",
              "      <td>10549</td>\n",
              "      <td>10174</td>\n",
              "      <td>8289</td>\n",
              "      <td>5077</td>\n",
              "      <td>6943</td>\n",
              "      <td>7848</td>\n",
              "      <td>8082</td>\n",
              "      <td>7562</td>\n",
              "      <td>6652</td>\n",
              "      <td>5748</td>\n",
              "      <td>3454</td>\n",
              "      <td>4449</td>\n",
              "      <td>5500</td>\n",
              "      <td>5736</td>\n",
              "      <td>5215</td>\n",
              "      <td>4714</td>\n",
              "      <td>3993</td>\n",
              "      <td>2489</td>\n",
              "      <td>3220</td>\n",
              "      <td>3935</td>\n",
              "      <td>4143</td>\n",
              "      <td>3737</td>\n",
              "      <td>3348</td>\n",
              "      <td>2948</td>\n",
              "      <td>1818</td>\n",
              "      <td>2483</td>\n",
              "      <td>2896</td>\n",
              "      <td>1963</td>\n",
              "      <td>2556</td>\n",
              "      <td>2434</td>\n",
              "      <td>2275</td>\n",
              "      <td>1270</td>\n",
              "      <td>1894</td>\n",
              "      <td>2198</td>\n",
              "      <td>2078</td>\n",
              "    </tr>\n",
              "    <tr>\n",
              "      <th>new_cases_smoothed</th>\n",
              "      <td>17377.7</td>\n",
              "      <td>16727.3</td>\n",
              "      <td>16559.7</td>\n",
              "      <td>16361.9</td>\n",
              "      <td>15838.1</td>\n",
              "      <td>14969.4</td>\n",
              "      <td>14440.1</td>\n",
              "      <td>13905</td>\n",
              "      <td>13590</td>\n",
              "      <td>13134.6</td>\n",
              "      <td>12775.9</td>\n",
              "      <td>12350.3</td>\n",
              "      <td>12219.4</td>\n",
              "      <td>12181.4</td>\n",
              "      <td>12194</td>\n",
              "      <td>12425.9</td>\n",
              "      <td>12469.4</td>\n",
              "      <td>12459.4</td>\n",
              "      <td>12371.1</td>\n",
              "      <td>12317</td>\n",
              "      <td>12226.4</td>\n",
              "      <td>12093.1</td>\n",
              "      <td>11806.1</td>\n",
              "      <td>11705.6</td>\n",
              "      <td>11798.4</td>\n",
              "      <td>11902.1</td>\n",
              "      <td>11958</td>\n",
              "      <td>11964.3</td>\n",
              "      <td>12101.6</td>\n",
              "      <td>12068</td>\n",
              "      <td>12279.6</td>\n",
              "      <td>12233.9</td>\n",
              "      <td>12245.9</td>\n",
              "      <td>12163</td>\n",
              "      <td>12073.7</td>\n",
              "      <td>12038.9</td>\n",
              "      <td>11913</td>\n",
              "      <td>11715.6</td>\n",
              "      <td>11940.9</td>\n",
              "      <td>12139.6</td>\n",
              "      <td>...</td>\n",
              "      <td>11726.9</td>\n",
              "      <td>11370.6</td>\n",
              "      <td>11187</td>\n",
              "      <td>10786.6</td>\n",
              "      <td>10427.1</td>\n",
              "      <td>10013.4</td>\n",
              "      <td>9614.86</td>\n",
              "      <td>9492.57</td>\n",
              "      <td>9368.43</td>\n",
              "      <td>9058.43</td>\n",
              "      <td>8668.29</td>\n",
              "      <td>8137.43</td>\n",
              "      <td>7710.71</td>\n",
              "      <td>7207.57</td>\n",
              "      <td>6844.57</td>\n",
              "      <td>6612.71</td>\n",
              "      <td>6256.43</td>\n",
              "      <td>5921</td>\n",
              "      <td>5585.86</td>\n",
              "      <td>5250.57</td>\n",
              "      <td>4973.71</td>\n",
              "      <td>4723</td>\n",
              "      <td>4585.14</td>\n",
              "      <td>4409.57</td>\n",
              "      <td>4186</td>\n",
              "      <td>3958.43</td>\n",
              "      <td>3747.29</td>\n",
              "      <td>3552.14</td>\n",
              "      <td>3402.86</td>\n",
              "      <td>3307</td>\n",
              "      <td>3201.71</td>\n",
              "      <td>3053.29</td>\n",
              "      <td>2741.86</td>\n",
              "      <td>2573.14</td>\n",
              "      <td>2442.57</td>\n",
              "      <td>2346.43</td>\n",
              "      <td>2268.14</td>\n",
              "      <td>2184</td>\n",
              "      <td>2084.29</td>\n",
              "      <td>2100.71</td>\n",
              "    </tr>\n",
              "    <tr>\n",
              "      <th>prediction</th>\n",
              "      <td>19225.4</td>\n",
              "      <td>19492.4</td>\n",
              "      <td>19207.7</td>\n",
              "      <td>18663.2</td>\n",
              "      <td>18232.4</td>\n",
              "      <td>17751.9</td>\n",
              "      <td>16945.8</td>\n",
              "      <td>16200.2</td>\n",
              "      <td>15473.9</td>\n",
              "      <td>14932.9</td>\n",
              "      <td>14519.1</td>\n",
              "      <td>14293.9</td>\n",
              "      <td>13914.6</td>\n",
              "      <td>13705.9</td>\n",
              "      <td>13652.3</td>\n",
              "      <td>13719.6</td>\n",
              "      <td>13986.6</td>\n",
              "      <td>14217.2</td>\n",
              "      <td>14334.1</td>\n",
              "      <td>14335.9</td>\n",
              "      <td>14313.7</td>\n",
              "      <td>14199.4</td>\n",
              "      <td>14064.4</td>\n",
              "      <td>13798</td>\n",
              "      <td>13597.3</td>\n",
              "      <td>13544.2</td>\n",
              "      <td>13628.7</td>\n",
              "      <td>13750.9</td>\n",
              "      <td>13861.4</td>\n",
              "      <td>14010.2</td>\n",
              "      <td>14048.8</td>\n",
              "      <td>14192</td>\n",
              "      <td>14247.2</td>\n",
              "      <td>14268.9</td>\n",
              "      <td>14195</td>\n",
              "      <td>14097.6</td>\n",
              "      <td>13982.6</td>\n",
              "      <td>13871.8</td>\n",
              "      <td>13687.4</td>\n",
              "      <td>13728</td>\n",
              "      <td>...</td>\n",
              "      <td>14104.7</td>\n",
              "      <td>13712.5</td>\n",
              "      <td>13258.9</td>\n",
              "      <td>12928.7</td>\n",
              "      <td>12555.3</td>\n",
              "      <td>12167.1</td>\n",
              "      <td>11792.3</td>\n",
              "      <td>11391.1</td>\n",
              "      <td>11124.8</td>\n",
              "      <td>10990.5</td>\n",
              "      <td>10816.6</td>\n",
              "      <td>10530.2</td>\n",
              "      <td>10090</td>\n",
              "      <td>9602.48</td>\n",
              "      <td>9048.2</td>\n",
              "      <td>8600.77</td>\n",
              "      <td>8289</td>\n",
              "      <td>7974.32</td>\n",
              "      <td>7668.86</td>\n",
              "      <td>7381.55</td>\n",
              "      <td>7076.15</td>\n",
              "      <td>6798.01</td>\n",
              "      <td>6558.37</td>\n",
              "      <td>6389.89</td>\n",
              "      <td>6250.71</td>\n",
              "      <td>6084.03</td>\n",
              "      <td>5904.96</td>\n",
              "      <td>5709.42</td>\n",
              "      <td>5512.02</td>\n",
              "      <td>5353.39</td>\n",
              "      <td>5238.87</td>\n",
              "      <td>5151.83</td>\n",
              "      <td>5045.35</td>\n",
              "      <td>4824.7</td>\n",
              "      <td>4616.8</td>\n",
              "      <td>4439.97</td>\n",
              "      <td>4315.09</td>\n",
              "      <td>4230.09</td>\n",
              "      <td>4178.4</td>\n",
              "      <td>4105.45</td>\n",
              "    </tr>\n",
              "  </tbody>\n",
              "</table>\n",
              "<p>4 rows × 150 columns</p>\n",
              "</div>"
            ],
            "text/plain": [
              "                         43066       43067  ...       43214       43215\n",
              "date                2021-01-12  2021-01-13  ...  2021-06-09  2021-06-10\n",
              "new_cases                14242       15773  ...        2198        2078\n",
              "new_cases_smoothed     17377.7     16727.3  ...     2084.29     2100.71\n",
              "prediction             19225.4     19492.4  ...      4178.4     4105.45\n",
              "\n",
              "[4 rows x 150 columns]"
            ]
          },
          "metadata": {
            "tags": []
          },
          "execution_count": 52
        }
      ]
    },
    {
      "cell_type": "markdown",
      "metadata": {
        "id": "gZ3ySPgbfBnr"
      },
      "source": [
        "**5.2.3 Graph Comparison between the prediction and GroundTruth:**<br/>"
      ]
    },
    {
      "cell_type": "code",
      "metadata": {
        "colab": {
          "base_uri": "https://localhost:8080/",
          "height": 387
        },
        "id": "cpwpsTevfJWk",
        "outputId": "c750d29f-23d0-4f54-cc13-ca1a5d6660ce"
      },
      "source": [
        "plt.figure(figsize=(8,6))\n",
        "plt.plot(df_ch['date'],df_ch['new_cases'],label=\"GroundTruth\",color='cyan')\n",
        "plt.plot(df_ch['date'],df_ch['prediction'],label=\"Prediction\",color='red')\n",
        "plt.legend(loc='upper left', frameon=True)\n",
        "plt.xlabel('Dates from 2020.Feb to 2021.June')\n",
        "plt.ylabel('New Cases per day')\n",
        "plt.title('New Cases per day: Prediction vs. GroundTruth in Italy')\n",
        "plt.xticks([])\n",
        "plt.show()"
      ],
      "execution_count": 54,
      "outputs": [
        {
          "output_type": "display_data",
          "data": {
            "image/png": "[encoded data removed]",
            "text/plain": [
              "<Figure size 576x432 with 1 Axes>"
            ]
          },
          "metadata": {
            "tags": [],
            "needs_background": "light"
          }
        }
      ]
    },
    {
      "cell_type": "markdown",
      "metadata": {
        "id": "LijDL5oVjA2E"
      },
      "source": [
        "# **6. Contribution**"
      ]
    },
    {
      "cell_type": "markdown",
      "metadata": {
        "id": "obRyAJtYjITI"
      },
      "source": [
        "The work is equally contributed by Ye Zhou, Jothicharan Jothibabu, Yifei Liu and Zefeng Zhuang."
      ]
    }
  ]
}